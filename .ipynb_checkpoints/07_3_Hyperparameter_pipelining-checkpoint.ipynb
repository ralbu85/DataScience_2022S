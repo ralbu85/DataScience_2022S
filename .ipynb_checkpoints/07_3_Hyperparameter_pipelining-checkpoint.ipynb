{
 "cells": [
  {
   "cell_type": "code",
   "execution_count": 1,
   "id": "cfd16a83-8c51-43c2-aaad-90bee5ebd003",
   "metadata": {
    "ExecuteTime": {
     "end_time": "2023-04-17T03:44:17.701058Z",
     "start_time": "2023-04-17T03:44:17.694949Z"
    }
   },
   "outputs": [],
   "source": [
    "import numpy as np\n",
    "import matplotlib.pyplot as plt\n",
    "np.random.seed(42) "
   ]
  },
  {
   "cell_type": "markdown",
   "id": "db48fcd0-9020-4b83-a79a-2879fb096549",
   "metadata": {},
   "source": [
    "## 데이터 만들기"
   ]
  },
  {
   "cell_type": "code",
   "execution_count": 2,
   "id": "33ff678e-f269-4f60-8270-8c3e00f7269a",
   "metadata": {
    "ExecuteTime": {
     "end_time": "2023-04-17T03:44:30.579403Z",
     "start_time": "2023-04-17T03:44:30.407062Z"
    }
   },
   "outputs": [
    {
     "data": {
      "text/plain": [
       "<matplotlib.collections.PathCollection at 0x7f5a3f340340>"
      ]
     },
     "execution_count": 2,
     "metadata": {},
     "output_type": "execute_result"
    },
    {
     "data": {
      "image/png": "[encoded data removed]",
      "text/plain": [
       "<Figure size 432x288 with 1 Axes>"
      ]
     },
     "metadata": {
      "needs_background": "light"
     },
     "output_type": "display_data"
    }
   ],
   "source": [
    "X=np.linspace(-5,3,100)\n",
    "y=0.1*(X-3)*(X+3)*(X+1)*(X+5)+ np.random.normal(1,size=100)\n",
    "plt.scatter(X,y)"
   ]
  },
  {
   "cell_type": "markdown",
   "id": "8117c1f5-2db5-4641-bcb2-9dd2cf116db3",
   "metadata": {},
   "source": [
    "## 파이프라이닝"
   ]
  },
  {
   "cell_type": "code",
   "execution_count": 17,
   "id": "c00606c0-9fdc-43b3-a11b-f362f3ce0ae7",
   "metadata": {
    "ExecuteTime": {
     "end_time": "2023-04-17T03:50:18.531724Z",
     "start_time": "2023-04-17T03:50:18.514198Z"
    }
   },
   "outputs": [
    {
     "data": {
      "text/plain": [
       "Pipeline(steps=[('polynomialfeatures', PolynomialFeatures(degree=4)),\n",
       "                ('linearregression', LinearRegression())])"
      ]
     },
     "execution_count": 17,
     "metadata": {},
     "output_type": "execute_result"
    }
   ],
   "source": [
    "from sklearn.pipeline import make_pipeline\n",
    "from sklearn.preprocessing import PolynomialFeatures\n",
    "from sklearn.linear_model import LinearRegression\n",
    "\n",
    "poly = PolynomialFeatures(degree=4)\n",
    "reg = LinearRegression()\n",
    "pipe = make_pipeline(poly, reg) #두가지 스텝을 동시에 수행\n",
    "pipe.fit(X.reshape(-1,1),y) #학습\n",
    "\n"
   ]
  },
  {
   "cell_type": "markdown",
   "id": "e9893a5a-5e1c-4c2e-8bc3-4b3e9c1e66d1",
   "metadata": {},
   "source": [
    "## 파이프라이닝과 CrossValidate 같이사용"
   ]
  },
  {
   "cell_type": "code",
   "execution_count": 30,
   "id": "f421ea9b-e921-47a6-bf02-bf1f06d6c5c4",
   "metadata": {
    "ExecuteTime": {
     "end_time": "2023-04-17T05:37:16.045230Z",
     "start_time": "2023-04-17T05:37:16.016357Z"
    }
   },
   "outputs": [],
   "source": [
    "poly = PolynomialFeatures(degree=4)\n",
    "reg = LinearRegression()\n",
    "pipe = make_pipeline(poly, reg) #두가지 스텝을 동시에 수행\n",
    "kfold = KFold(n_splits=5, shuffle=True) #데이터 쪼갤 방식\n",
    "metrics = ['neg_mean_absolute_error','neg_mean_squared_error','r2'] #기록할 메트릭\n",
    "\n",
    "result=cross_validate(X=X.reshape(-1,1),y=y,\n",
    "                      estimator=reg,\n",
    "                      scoring=metrics,\n",
    "                      cv=kfold,\n",
    "                      return_train_score=True                       \n",
    "                     )\n"
   ]
  },
  {
   "cell_type": "code",
   "execution_count": 31,
   "id": "53df303b-d03a-4c3e-9986-57dd63481cf1",
   "metadata": {
    "ExecuteTime": {
     "end_time": "2023-04-17T05:37:17.218590Z",
     "start_time": "2023-04-17T05:37:17.206953Z"
    }
   },
   "outputs": [
    {
     "data": {
      "text/plain": [
       "{'fit_time': array([0.00166154, 0.00100851, 0.00108337, 0.00062537, 0.00062585]),\n",
       " 'score_time': array([0.00164056, 0.00127816, 0.00128007, 0.00084329, 0.00082612]),\n",
       " 'test_neg_mean_absolute_error': array([-2.4533029 , -2.95113809, -2.73585775, -2.90193801, -2.18064996]),\n",
       " 'train_neg_mean_absolute_error': array([-2.65305584, -2.51219074, -2.57054763, -2.51852274, -2.71050817]),\n",
       " 'test_neg_mean_squared_error': array([ -9.50236222, -12.49168502, -10.06875182,  -9.8919924 ,\n",
       "         -6.72989798]),\n",
       " 'train_neg_mean_squared_error': array([ -9.42620385,  -8.56663477,  -9.2417506 ,  -9.25600354,\n",
       "        -10.02256023]),\n",
       " 'test_r2': array([-0.02537647,  0.36107309,  0.53887083,  0.48334255,  0.44359004]),\n",
       " 'train_r2': array([0.49461328, 0.4715718 , 0.4352306 , 0.45817483, 0.46822949])}"
      ]
     },
     "execution_count": 31,
     "metadata": {},
     "output_type": "execute_result"
    }
   ],
   "source": [
    "result"
   ]
  },
  {
   "cell_type": "code",
   "execution_count": 32,
   "id": "26255aab-c807-4a90-90d0-274aebd364a2",
   "metadata": {
    "ExecuteTime": {
     "end_time": "2023-04-17T05:37:46.702360Z",
     "start_time": "2023-04-17T05:37:46.688919Z"
    }
   },
   "outputs": [
    {
     "name": "stdout",
     "output_type": "stream",
     "text": [
      "train_mse:  9.302630599030207\n",
      "train_mae:  2.5929650249489233\n",
      "train_r2:  0.4655640001872065\n",
      "test_mse:  9.736937888616357\n",
      "test_mae:  2.6445773400408794\n",
      "test_r2:  0.36030000786496374\n"
     ]
    }
   ],
   "source": [
    "print('train_mse: ',-1*result['train_neg_mean_squared_error'].mean())\n",
    "print('train_mae: ',-1*result['train_neg_mean_absolute_error'].mean())\n",
    "print('train_r2: ',result['train_r2'].mean())\n",
    "print('test_mse: ',-1*result['test_neg_mean_squared_error'].mean())\n",
    "print('test_mae: ',-1*result['test_neg_mean_absolute_error'].mean())\n",
    "print('test_r2: ',result['test_r2'].mean())"
   ]
  },
  {
   "cell_type": "code",
   "execution_count": 46,
   "id": "51878a10-7fa9-4f39-b7e6-ac20dbf64b62",
   "metadata": {
    "ExecuteTime": {
     "end_time": "2023-04-17T05:41:41.973866Z",
     "start_time": "2023-04-17T05:41:41.773690Z"
    }
   },
   "outputs": [
    {
     "data": {
      "text/plain": [
       "GridSearchCV(cv=KFold(n_splits=5, random_state=None, shuffle=True),\n",
       "             estimator=Pipeline(steps=[('poly', PolynomialFeatures()),\n",
       "                                       ('reg', LinearRegression())]),\n",
       "             param_grid={'poly__degree': range(1, 20)}, return_train_score=True,\n",
       "             scoring='neg_mean_squared_error')"
      ]
     },
     "execution_count": 46,
     "metadata": {},
     "output_type": "execute_result"
    }
   ],
   "source": [
    "from sklearn.model_selection import GridSearchCV, cross_val_score\n",
    "from sklearn.linear_model import LinearRegression\n",
    "\n",
    "from sklearn.pipeline import make_pipeline, Pipeline\n",
    "import numpy as np\n",
    "\n",
    "# Create a pipeline with PolynomialFeatures and LinearRegression\n",
    "pipe = Pipeline(steps=[('poly', PolynomialFeatures()), ('reg', LinearRegression())])\n",
    "\n",
    "# Define the range of polynomial degrees to test\n",
    "degrees = range(1,20)\n",
    "param_grid = {'poly__degree': degrees}\n",
    "kfold = KFold(n_splits=5, shuffle=True) #데이터 쪼갤 방식\n",
    "\n",
    "# Use GridSearchCV with 5-fold cross-validation to search over the hyperparameter grid\n",
    "grid_search = GridSearchCV(pipe, param_grid, cv=kfold, scoring='neg_mean_squared_error', return_train_score=True)\n",
    "\n",
    "# Fit the GridSearchCV object to the data\n",
    "grid_search.fit(X.reshape(-1,1), y)\n"
   ]
  },
  {
   "cell_type": "code",
   "execution_count": 47,
   "id": "d82c0a6c-d829-4423-9652-99056db80865",
   "metadata": {
    "ExecuteTime": {
     "end_time": "2023-04-17T05:41:42.853652Z",
     "start_time": "2023-04-17T05:41:42.723323Z"
    }
   },
   "outputs": [
    {
     "data": {
      "text/plain": [
       "[<matplotlib.lines.Line2D at 0x7f59dbd0a730>]"
      ]
     },
     "execution_count": 47,
     "metadata": {},
     "output_type": "execute_result"
    },
    {
     "data": {
      "image/png": "[encoded data removed]",
      "text/plain": [
       "<Figure size 432x288 with 1 Axes>"
      ]
     },
     "metadata": {
      "needs_background": "light"
     },
     "output_type": "display_data"
    }
   ],
   "source": [
    "mean_train_mse = grid_search.cv_results_['mean_train_score']\n",
    "mean_test_mse = grid_search.cv_results_['mean_test_score']\n",
    "plt.plot(degrees,-1*mean_train_mse)\n",
    "plt.plot(degrees,-1*mean_test_mse)"
   ]
  },
  {
   "cell_type": "code",
   "execution_count": 48,
   "id": "76f4ce0d-4b05-43cb-8094-c2e53663cc19",
   "metadata": {
    "ExecuteTime": {
     "end_time": "2023-04-17T05:41:53.629915Z",
     "start_time": "2023-04-17T05:41:53.621675Z"
    }
   },
   "outputs": [
    {
     "name": "stdout",
     "output_type": "stream",
     "text": [
      "Best hyperparameters: {'poly__degree': 4}\n",
      "Best score: 0.8349207704194264\n"
     ]
    }
   ],
   "source": [
    "# Print the best hyperparameters and mean score\n",
    "print(\"Best hyperparameters:\", grid_search.best_params_)\n",
    "print(\"Best score:\", -grid_search.best_score_)"
   ]
  }
 ],
 "metadata": {
  "kernelspec": {
   "display_name": "Python 3 (ipykernel)",
   "language": "python",
   "name": "python3"
  },
  "language_info": {
   "codemirror_mode": {
    "name": "ipython",
    "version": 3
   },
   "file_extension": ".py",
   "mimetype": "text/x-python",
   "name": "python",
   "nbconvert_exporter": "python",
   "pygments_lexer": "ipython3",
   "version": "3.8.10"
  }
 },
 "nbformat": 4,
 "nbformat_minor": 5
}
