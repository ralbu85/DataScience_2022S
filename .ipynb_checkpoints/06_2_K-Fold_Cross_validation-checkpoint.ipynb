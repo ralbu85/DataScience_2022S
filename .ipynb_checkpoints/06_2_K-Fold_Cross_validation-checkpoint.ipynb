{
 "cells": [
  {
   "cell_type": "code",
   "execution_count": 1,
   "id": "2d740041-3117-4a0d-bcad-c12b0975335b",
   "metadata": {},
   "outputs": [],
   "source": [
    "import numpy as np\n",
    "import matplotlib.pyplot as plt"
   ]
  },
  {
   "cell_type": "code",
   "execution_count": 2,
   "id": "28f03fd1-e835-4422-a5c0-d33c3d4a00fb",
   "metadata": {},
   "outputs": [
    {
     "data": {
      "text/plain": [
       "<matplotlib.collections.PathCollection at 0x7fe7d3d72730>"
      ]
     },
     "execution_count": 2,
     "metadata": {},
     "output_type": "execute_result"
    },
    {
     "data": {
      "image/png": "[encoded data removed]",
      "text/plain": [
       "<Figure size 432x288 with 1 Axes>"
      ]
     },
     "metadata": {
      "needs_background": "light"
     },
     "output_type": "display_data"
    }
   ],
   "source": [
    "X=np.linspace(-5,3,100)\n",
    "y=0.1*(X-3)*(X+3)*(X+1)*(X+5)\n",
    "y+=1*np.random.normal(1,size=100)\n",
    "plt.scatter(X,y)"
   ]
  },
  {
   "cell_type": "code",
   "execution_count": 6,
   "id": "c3ad1bc1-5884-44d1-b6bb-5eed441bdecf",
   "metadata": {},
   "outputs": [],
   "source": [
    "data=np.column_stack((X,y))"
   ]
  },
  {
   "cell_type": "markdown",
   "id": "a9e1af21-e44b-40ca-8988-97ce6bc704ec",
   "metadata": {
    "tags": []
   },
   "source": [
    "## SKlearn 이용한 교차검증"
   ]
  },
  {
   "cell_type": "code",
   "execution_count": 7,
   "id": "c38f18a1-7c4a-4cd0-8ee4-26838f02fe29",
   "metadata": {},
   "outputs": [
    {
     "data": {
      "text/plain": [
       "<generator object _BaseKFold.split at 0x7fe7750327b0>"
      ]
     },
     "execution_count": 7,
     "metadata": {},
     "output_type": "execute_result"
    }
   ],
   "source": [
    "from sklearn.model_selection import KFold\n",
    "kfold=KFold(n_splits=5)\n",
    "kfold.split(data)\n",
    "\n"
   ]
  },
  {
   "cell_type": "code",
   "execution_count": 8,
   "id": "d2b73ce0-20ad-4a13-ad9f-ac9b42d6379c",
   "metadata": {},
   "outputs": [
    {
     "name": "stdout",
     "output_type": "stream",
     "text": [
      "train_idx:  [20 21 22 23 24 25 26 27 28 29 30 31 32 33 34 35 36 37 38 39 40 41 42 43\n",
      " 44 45 46 47 48 49 50 51 52 53 54 55 56 57 58 59 60 61 62 63 64 65 66 67\n",
      " 68 69 70 71 72 73 74 75 76 77 78 79 80 81 82 83 84 85 86 87 88 89 90 91\n",
      " 92 93 94 95 96 97 98 99]\n",
      "test_idx:  [ 0  1  2  3  4  5  6  7  8  9 10 11 12 13 14 15 16 17 18 19]\n",
      "train_idx:  [ 0  1  2  3  4  5  6  7  8  9 10 11 12 13 14 15 16 17 18 19 40 41 42 43\n",
      " 44 45 46 47 48 49 50 51 52 53 54 55 56 57 58 59 60 61 62 63 64 65 66 67\n",
      " 68 69 70 71 72 73 74 75 76 77 78 79 80 81 82 83 84 85 86 87 88 89 90 91\n",
      " 92 93 94 95 96 97 98 99]\n",
      "test_idx:  [20 21 22 23 24 25 26 27 28 29 30 31 32 33 34 35 36 37 38 39]\n",
      "train_idx:  [ 0  1  2  3  4  5  6  7  8  9 10 11 12 13 14 15 16 17 18 19 20 21 22 23\n",
      " 24 25 26 27 28 29 30 31 32 33 34 35 36 37 38 39 60 61 62 63 64 65 66 67\n",
      " 68 69 70 71 72 73 74 75 76 77 78 79 80 81 82 83 84 85 86 87 88 89 90 91\n",
      " 92 93 94 95 96 97 98 99]\n",
      "test_idx:  [40 41 42 43 44 45 46 47 48 49 50 51 52 53 54 55 56 57 58 59]\n",
      "train_idx:  [ 0  1  2  3  4  5  6  7  8  9 10 11 12 13 14 15 16 17 18 19 20 21 22 23\n",
      " 24 25 26 27 28 29 30 31 32 33 34 35 36 37 38 39 40 41 42 43 44 45 46 47\n",
      " 48 49 50 51 52 53 54 55 56 57 58 59 80 81 82 83 84 85 86 87 88 89 90 91\n",
      " 92 93 94 95 96 97 98 99]\n",
      "test_idx:  [60 61 62 63 64 65 66 67 68 69 70 71 72 73 74 75 76 77 78 79]\n",
      "train_idx:  [ 0  1  2  3  4  5  6  7  8  9 10 11 12 13 14 15 16 17 18 19 20 21 22 23\n",
      " 24 25 26 27 28 29 30 31 32 33 34 35 36 37 38 39 40 41 42 43 44 45 46 47\n",
      " 48 49 50 51 52 53 54 55 56 57 58 59 60 61 62 63 64 65 66 67 68 69 70 71\n",
      " 72 73 74 75 76 77 78 79]\n",
      "test_idx:  [80 81 82 83 84 85 86 87 88 89 90 91 92 93 94 95 96 97 98 99]\n"
     ]
    }
   ],
   "source": [
    "for train_idx,test_idx in kfold.split(data):\n",
    "    print('train_idx: ',train_idx)\n",
    "    print('test_idx: ',test_idx)"
   ]
  },
  {
   "cell_type": "code",
   "execution_count": 9,
   "id": "5b55f450-af7f-4463-a53d-2d91c87b979b",
   "metadata": {},
   "outputs": [
    {
     "name": "stdout",
     "output_type": "stream",
     "text": [
      "train_idx:  [ 1  2  3  4  5  6  7  8 10 11 13 14 15 16 17 20 21 22 23 24 25 26 27 28\n",
      " 29 30 31 32 33 34 35 36 37 38 39 40 42 43 44 45 46 47 49 50 51 53 54 55\n",
      " 56 58 61 62 63 64 65 66 67 68 69 70 72 73 74 76 77 79 81 83 84 85 86 87\n",
      " 88 89 90 92 93 96 97 99]\n",
      "test_idx:  [ 0  9 12 18 19 41 48 52 57 59 60 71 75 78 80 82 91 94 95 98]\n",
      "train_idx:  [ 0  1  3  4  5  6  7  8  9 10 12 13 14 17 18 19 21 22 23 24 25 26 27 28\n",
      " 29 31 32 33 34 35 37 38 39 40 41 42 43 44 48 49 50 51 52 53 54 55 56 57\n",
      " 58 59 60 61 63 66 68 69 70 71 73 74 75 77 78 79 80 82 83 84 85 88 90 91\n",
      " 92 93 94 95 96 97 98 99]\n",
      "test_idx:  [ 2 11 15 16 20 30 36 45 46 47 62 64 65 67 72 76 81 86 87 89]\n",
      "train_idx:  [ 0  2  4  7  9 11 12 13 14 15 16 17 18 19 20 21 22 24 26 28 29 30 31 32\n",
      " 33 36 38 39 40 41 42 43 44 45 46 47 48 49 50 51 52 53 54 55 56 57 58 59\n",
      " 60 62 64 65 66 67 70 71 72 73 74 75 76 77 78 79 80 81 82 84 85 86 87 89\n",
      " 90 91 92 94 95 97 98 99]\n",
      "test_idx:  [ 1  3  5  6  8 10 23 25 27 34 35 37 61 63 68 69 83 88 93 96]\n",
      "train_idx:  [ 0  1  2  3  5  6  7  8  9 10 11 12 13 14 15 16 17 18 19 20 23 24 25 27\n",
      " 29 30 31 32 33 34 35 36 37 38 40 41 45 46 47 48 49 50 52 55 57 58 59 60\n",
      " 61 62 63 64 65 67 68 69 70 71 72 75 76 77 78 80 81 82 83 84 86 87 88 89\n",
      " 91 93 94 95 96 97 98 99]\n",
      "test_idx:  [ 4 21 22 26 28 39 42 43 44 51 53 54 56 66 73 74 79 85 90 92]\n",
      "train_idx:  [ 0  1  2  3  4  5  6  8  9 10 11 12 15 16 18 19 20 21 22 23 25 26 27 28\n",
      " 30 34 35 36 37 39 41 42 43 44 45 46 47 48 51 52 53 54 56 57 59 60 61 62\n",
      " 63 64 65 66 67 68 69 71 72 73 74 75 76 78 79 80 81 82 83 85 86 87 88 89\n",
      " 90 91 92 93 94 95 96 98]\n",
      "test_idx:  [ 7 13 14 17 24 29 31 32 33 38 40 49 50 55 58 70 77 84 97 99]\n"
     ]
    }
   ],
   "source": [
    "## 데이터를 쪼개서 교차검증\n",
    "kfold = KFold(n_splits=5, shuffle=True)\n",
    "kfold.split(data)\n",
    "for train_idx,test_idx in kfold.split(data):\n",
    "    print('train_idx: ',train_idx)\n",
    "    print('test_idx: ',test_idx)\n"
   ]
  },
  {
   "cell_type": "code",
   "execution_count": 14,
   "id": "1263bc9a-0823-41d7-b9b9-a54444c8f5cc",
   "metadata": {},
   "outputs": [
    {
     "data": {
      "text/plain": [
       "array([[-5.00000000e+00,  2.25176316e+00],\n",
       "       [-4.91919192e+00, -1.16895070e+00],\n",
       "       [-4.83838384e+00,  8.82254981e-01],\n",
       "       [-4.75757576e+00, -6.58734777e-01],\n",
       "       [-4.67676768e+00, -1.21743290e-01],\n",
       "       [-4.59595960e+00, -1.01521745e+00],\n",
       "       [-4.51515152e+00,  6.07362707e-03],\n",
       "       [-4.43434343e+00, -7.83767628e-01],\n",
       "       [-4.35353535e+00, -2.92514048e-01],\n",
       "       [-4.27272727e+00, -7.74968870e-01],\n",
       "       [-4.19191919e+00, -1.36610912e+00],\n",
       "       [-4.11111111e+00, -7.74442430e-01],\n",
       "       [-4.03030303e+00, -1.48366020e+00],\n",
       "       [-3.94949495e+00, -2.97481967e-01],\n",
       "       [-3.86868687e+00, -2.49461394e+00],\n",
       "       [-3.78787879e+00,  2.95918027e-01],\n",
       "       [-3.70707071e+00, -2.57027050e+00],\n",
       "       [-3.62626263e+00, -2.18274891e+00],\n",
       "       [-3.54545455e+00, -1.47727475e+00],\n",
       "       [-3.46464646e+00, -7.23735957e-01],\n",
       "       [-3.38383838e+00,  1.01839482e+00],\n",
       "       [-3.30303030e+00,  2.62296835e+00],\n",
       "       [-3.22222222e+00,  4.19013784e-02],\n",
       "       [-3.14141414e+00,  3.20659819e-01],\n",
       "       [-3.06060606e+00,  1.10223655e+00],\n",
       "       [-2.97979798e+00,  1.53270668e+00],\n",
       "       [-2.89898990e+00,  6.61590044e-01],\n",
       "       [-2.81818182e+00,  6.28657324e-01],\n",
       "       [-2.73737374e+00,  1.79886778e+00],\n",
       "       [-2.65656566e+00, -2.40884486e-01],\n",
       "       [-2.57575758e+00,  1.74125891e+00],\n",
       "       [-2.49494949e+00,  2.66756159e+00],\n",
       "       [-2.41414141e+00,  3.11889917e+00],\n",
       "       [-2.33333333e+00,  3.37410223e+00],\n",
       "       [-2.25252525e+00,  2.75859888e+00],\n",
       "       [-2.17171717e+00,  1.23505387e+00],\n",
       "       [-2.09090909e+00,  6.15826435e-01],\n",
       "       [-2.01010101e+00,  1.76560978e+00],\n",
       "       [-1.92929293e+00,  2.17060580e+00],\n",
       "       [-1.84848485e+00,  2.14349323e+00],\n",
       "       [-1.76767677e+00,  1.30822632e+00],\n",
       "       [-1.68686869e+00,  5.19130039e+00],\n",
       "       [-1.60606061e+00,  3.69904313e+00],\n",
       "       [-1.52525253e+00,  3.54086977e+00],\n",
       "       [-1.44444444e+00,  9.27416379e-01],\n",
       "       [-1.36363636e+00, -1.86359022e-02],\n",
       "       [-1.28282828e+00,  1.77909687e+00],\n",
       "       [-1.20202020e+00, -2.09809739e-02],\n",
       "       [-1.12121212e+00,  6.03810338e-01],\n",
       "       [-1.04040404e+00, -1.62857707e+00],\n",
       "       [-9.59595960e-01,  5.94096816e-01],\n",
       "       [-8.78787879e-01,  3.32630706e-01],\n",
       "       [-7.97979798e-01,  2.59417828e+00],\n",
       "       [-7.17171717e-01,  8.26818919e-01],\n",
       "       [-6.36363636e-01,  3.94866955e-01],\n",
       "       [-5.55555556e-01, -1.11547297e+00],\n",
       "       [-4.74747475e-01, -3.08196631e+00],\n",
       "       [-3.93939394e-01, -1.99684114e+00],\n",
       "       [-3.13131313e-01, -2.65205425e+00],\n",
       "       [-2.32323232e-01, -3.99169375e+00],\n",
       "       [-1.51515152e-01, -2.70892318e+00],\n",
       "       [-7.07070707e-02, -4.08962176e+00],\n",
       "       [ 1.01010101e-02, -2.60607962e+00],\n",
       "       [ 9.09090909e-02, -5.20207448e+00],\n",
       "       [ 1.71717172e-01, -4.15470151e+00],\n",
       "       [ 2.52525253e-01, -5.93700818e+00],\n",
       "       [ 3.33333333e-01, -5.43124449e+00],\n",
       "       [ 4.14141414e-01, -7.75387282e+00],\n",
       "       [ 4.94949495e-01, -6.68566432e+00],\n",
       "       [ 5.75757576e-01, -5.89250103e+00],\n",
       "       [ 6.56565657e-01, -8.42333124e+00],\n",
       "       [ 7.37373737e-01, -7.60017199e+00],\n",
       "       [ 8.18181818e-01, -8.75085256e+00],\n",
       "       [ 8.98989899e-01, -6.99648830e+00],\n",
       "       [ 9.79797980e-01, -8.68268100e+00],\n",
       "       [ 1.06060606e+00, -8.34304856e+00],\n",
       "       [ 1.14141414e+00, -9.19766377e+00],\n",
       "       [ 1.22222222e+00, -8.56705369e+00],\n",
       "       [ 1.30303030e+00, -9.01639367e+00],\n",
       "       [ 1.38383838e+00, -1.12595007e+01],\n",
       "       [ 1.46464646e+00, -9.18601902e+00],\n",
       "       [ 1.54545455e+00, -1.10583144e+01],\n",
       "       [ 1.62626263e+00, -1.10174382e+01],\n",
       "       [ 1.70707071e+00, -9.33007094e+00],\n",
       "       [ 1.78787879e+00, -1.01524108e+01],\n",
       "       [ 1.86868687e+00, -1.15816956e+01],\n",
       "       [ 1.94949495e+00, -1.10370464e+01],\n",
       "       [ 2.03030303e+00, -9.43567644e+00],\n",
       "       [ 2.11111111e+00, -9.82339608e+00],\n",
       "       [ 2.19191919e+00, -8.84279161e+00],\n",
       "       [ 2.27272727e+00, -7.22866992e+00],\n",
       "       [ 2.35353535e+00, -7.27201998e+00],\n",
       "       [ 2.43434343e+00, -6.61275486e+00],\n",
       "       [ 2.51515152e+00, -4.05068983e+00],\n",
       "       [ 2.59595960e+00, -5.94013157e+00],\n",
       "       [ 2.67676768e+00, -3.54683027e+00],\n",
       "       [ 2.75757576e+00, -4.15732675e+00],\n",
       "       [ 2.83838384e+00,  4.40921447e-01],\n",
       "       [ 2.91919192e+00,  2.32779432e-01],\n",
       "       [ 3.00000000e+00,  1.25481528e-01]])"
      ]
     },
     "execution_count": 14,
     "metadata": {},
     "output_type": "execute_result"
    }
   ],
   "source": [
    "data"
   ]
  },
  {
   "cell_type": "code",
   "execution_count": 31,
   "id": "dbee26c4-c0cb-4c6e-8b98-602586438d86",
   "metadata": {},
   "outputs": [],
   "source": [
    "from sklearn.preprocessing import PolynomialFeatures\n",
    "from sklearn.linear_model import LinearRegression\n",
    "from sklearn.metrics import mean_squared_error\n",
    "import pandas as pd\n",
    "\n",
    "kfold = KFold(n_splits=5, shuffle=True) # 데이터 쪼개기\n",
    "kfold.split(data)\n",
    "\n",
    "mse={}\n",
    "for i in range(1,20):\n",
    "    # 차원 늘리기\n",
    "    poly=PolynomialFeatures(degree=i,include_bias=False)    \n",
    "    temp_mse=[]\n",
    "    \n",
    "    # 각 i 차원에서 교차검증 수행\n",
    "    for train_idx,test_idx in kfold.split(data):\n",
    "                \n",
    "        X_train = X[train_idx].reshape(-1,1)\n",
    "        X_train_transformed = poly.fit_transform(X_train)\n",
    "        y_train = y[train_idx]\n",
    "        \n",
    "        X_test = X[test_idx].reshape(-1,1)\n",
    "        X_test_transformed = poly.fit_transform(X_test)\n",
    "        y_test = y[test_idx]\n",
    "        \n",
    "        reg=LinearRegression()\n",
    "        reg.fit(X_train_transformed,y_train) #학습\n",
    "        \n",
    "        y_pred=reg.predict(X_test_transformed)\n",
    "        temp_mse.append(mean_squared_error(y_test,y_pred))\n",
    "    \n",
    "    mse[i] = temp_mse    \n",
    "    \n",
    "result=pd.DataFrame(mse).T"
   ]
  },
  {
   "cell_type": "code",
   "execution_count": 34,
   "id": "9136636a-047d-4b99-9c36-b6000d09f6ca",
   "metadata": {},
   "outputs": [
    {
     "data": {
      "text/plain": [
       "1     10.438995\n",
       "2     10.105343\n",
       "3      6.312569\n",
       "4      1.316735\n",
       "5      1.341379\n",
       "6      1.447457\n",
       "7      1.387614\n",
       "8      1.380511\n",
       "9      1.553248\n",
       "10     1.826406\n",
       "11     1.595218\n",
       "12     1.657345\n",
       "13     1.688646\n",
       "14     1.573949\n",
       "15     7.132183\n",
       "16     2.352293\n",
       "17    47.509072\n",
       "18     5.141896\n",
       "19     3.735466\n",
       "dtype: float64"
      ]
     },
     "execution_count": 34,
     "metadata": {},
     "output_type": "execute_result"
    }
   ],
   "source": [
    "result.mean(axis=1)"
   ]
  },
  {
   "cell_type": "markdown",
   "id": "0c40bbe3-f5d9-432f-8345-1bfcd2ed1b36",
   "metadata": {},
   "source": [
    "## SKlearn을 이용한 교차검증"
   ]
  },
  {
   "cell_type": "code",
   "execution_count": 40,
   "id": "4aa1595e-1eb9-41d6-b3e0-1a3dc8fbc7b8",
   "metadata": {},
   "outputs": [],
   "source": [
    "from sklearn.model_selection import cross_validate\n",
    "\n",
    "reg=LinearRegression() #학습할 모형\n",
    "kfold = KFold(n_splits=5, shuffle=True) #데이터 쪼갤 방식\n",
    "metrics = ['neg_mean_absolute_error','neg_mean_squared_error','r2']\n",
    "\n",
    "result=cross_validate(X=X.reshape(-1,1),y=y,\n",
    "                       estimator=reg,\n",
    "                       scoring=metrics,\n",
    "                       cv=kfold)\n"
   ]
  },
  {
   "cell_type": "code",
   "execution_count": 41,
   "id": "0e60985b-89ac-4dca-b608-ad8142ea4d16",
   "metadata": {},
   "outputs": [
    {
     "data": {
      "text/plain": [
       "{'fit_time': array([0.00146031, 0.00117087, 0.00105906, 0.00075865, 0.00074315]),\n",
       " 'score_time': array([0.00221992, 0.00149035, 0.0014019 , 0.00101447, 0.00101304]),\n",
       " 'test_neg_mean_absolute_error': array([-3.18792168, -2.71027498, -2.97180745, -2.14701292, -2.82737495]),\n",
       " 'test_neg_mean_squared_error': array([-13.77644532,  -9.2861187 , -11.38314696,  -6.6664716 ,\n",
       "        -12.8805273 ]),\n",
       " 'test_r2': array([ 0.38404743,  0.42601679,  0.52644113,  0.60967879, -0.28249399])}"
      ]
     },
     "execution_count": 41,
     "metadata": {},
     "output_type": "execute_result"
    }
   ],
   "source": [
    "result"
   ]
  }
 ],
 "metadata": {
  "kernelspec": {
   "display_name": "Python 3 (ipykernel)",
   "language": "python",
   "name": "python3"
  },
  "language_info": {
   "codemirror_mode": {
    "name": "ipython",
    "version": 3
   },
   "file_extension": ".py",
   "mimetype": "text/x-python",
   "name": "python",
   "nbconvert_exporter": "python",
   "pygments_lexer": "ipython3",
   "version": "3.8.10"
  }
 },
 "nbformat": 4,
 "nbformat_minor": 5
}
