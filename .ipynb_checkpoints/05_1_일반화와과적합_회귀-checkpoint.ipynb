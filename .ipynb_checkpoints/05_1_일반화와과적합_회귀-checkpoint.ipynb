{
 "cells": [
  {
   "cell_type": "markdown",
   "id": "43ee26d3-f580-4ddd-b754-938c1991499d",
   "metadata": {},
   "source": [
    "## 데이터 생성"
   ]
  },
  {
   "cell_type": "code",
   "execution_count": 2,
   "id": "de2d17a1-512e-466e-ba09-78662ca6c0df",
   "metadata": {
    "ExecuteTime": {
     "end_time": "2023-04-11T08:43:20.944679Z",
     "start_time": "2023-04-11T08:43:20.940065Z"
    }
   },
   "outputs": [],
   "source": [
    "import numpy as np\n",
    "np.random.seed(42) # 다른 컴퓨터에서도 동일한 난수의 발생 순서를 보장"
   ]
  },
  {
   "cell_type": "code",
   "execution_count": 3,
   "id": "925df9b8-9bad-4e65-84aa-8c3e20aee4e2",
   "metadata": {
    "ExecuteTime": {
     "end_time": "2023-04-11T08:44:28.168487Z",
     "start_time": "2023-04-11T08:44:28.161587Z"
    }
   },
   "outputs": [],
   "source": [
    "## 정답 데이터 생성\n",
    "X=np.random.uniform(size=50)*5 #0~5 사이의 난수를 \n",
    "y=0.65*X**3-4*X**2+3*X+3+np.random.normal(scale=0.6,size=50)"
   ]
  },
  {
   "cell_type": "code",
   "execution_count": 4,
   "id": "51b84b9c-9340-4487-a950-0a76a86a5b19",
   "metadata": {
    "ExecuteTime": {
     "end_time": "2023-04-11T08:45:18.443106Z",
     "start_time": "2023-04-11T08:45:18.244274Z"
    },
    "scrolled": true,
    "tags": []
   },
   "outputs": [
    {
     "data": {
      "text/plain": [
       "<matplotlib.collections.PathCollection at 0x7ff9988a4e50>"
      ]
     },
     "execution_count": 4,
     "metadata": {},
     "output_type": "execute_result"
    },
    {
     "data": {
      "image/png": "[encoded data removed]",
      "text/plain": [
       "<Figure size 432x288 with 1 Axes>"
      ]
     },
     "metadata": {
      "needs_background": "light"
     },
     "output_type": "display_data"
    }
   ],
   "source": [
    "# 정답 데이터를 산점도로 출력\n",
    "import matplotlib.pyplot as plt\n",
    "plt.scatter(X,y)"
   ]
  },
  {
   "cell_type": "markdown",
   "id": "fcd5a7bb",
   "metadata": {},
   "source": [
    "## 데이터 쪼개기"
   ]
  },
  {
   "cell_type": "code",
   "execution_count": 5,
   "id": "888fdd11-67b2-4fcd-8dfd-8f2f73507d64",
   "metadata": {
    "ExecuteTime": {
     "end_time": "2023-04-11T08:47:05.503870Z",
     "start_time": "2023-04-11T08:47:05.190069Z"
    }
   },
   "outputs": [],
   "source": [
    "from sklearn.model_selection import train_test_split\n",
    "X_train,X_test,y_train,y_test=train_test_split(X,y,test_size=0.4,shuffle=True) # 전체 데이터를 6:4 (훈련:테스트)"
   ]
  },
  {
   "cell_type": "markdown",
   "id": "38594482",
   "metadata": {},
   "source": [
    "## 데이터 확인"
   ]
  },
  {
   "cell_type": "code",
   "execution_count": 6,
   "id": "698d7288",
   "metadata": {
    "ExecuteTime": {
     "end_time": "2023-04-11T08:57:08.191332Z",
     "start_time": "2023-04-11T08:57:08.183064Z"
    }
   },
   "outputs": [
    {
     "name": "stdout",
     "output_type": "stream",
     "text": [
      "X_train: (30,)\n",
      "y_train: (30,)\n",
      "X_test: (20,)\n",
      "y_test: (20,)\n"
     ]
    }
   ],
   "source": [
    "print(f'X_train: {X_train.shape}') #f스트링, 문자열과 변수값을 합쳐서 사용\n",
    "print(f'y_train: {y_train.shape}')\n",
    "print(f'X_test: {X_test.shape}')\n",
    "print(f'y_test: {y_test.shape}')\n"
   ]
  },
  {
   "cell_type": "markdown",
   "id": "ee10527e",
   "metadata": {},
   "source": [
    "## 훈련데이터와 테스팅데이터 그려보기"
   ]
  },
  {
   "cell_type": "code",
   "execution_count": 7,
   "id": "68ae1e20-b217-47c5-92ec-e9d25161bd94",
   "metadata": {
    "ExecuteTime": {
     "end_time": "2023-04-11T08:57:10.014275Z",
     "start_time": "2023-04-11T08:57:09.852649Z"
    },
    "scrolled": true
   },
   "outputs": [
    {
     "data": {
      "image/png": "[encoded data removed]",
      "text/plain": [
       "<Figure size 432x288 with 1 Axes>"
      ]
     },
     "metadata": {
      "needs_background": "light"
     },
     "output_type": "display_data"
    }
   ],
   "source": [
    "import numpy as np\n",
    "import matplotlib.pyplot as plt\n",
    "\n",
    "## X,y 데이터를 X기준으로 모두 정렬\n",
    "## 나중에 사용됨\n",
    "\n",
    "# Sort the y_train and y_test arrays based on the sorted X_train and X_test arrays\n",
    "y_train = y_train[np.argsort(X_train)] # [3,1,2] -> argsort -> [1,2,0]\n",
    "y_test = y_test[np.argsort(X_test)]\n",
    "\n",
    "# Sort the training and test arrays\n",
    "X_train = np.sort(X_train)\n",
    "X_test = np.sort(X_test)\n",
    "\n",
    "# Plot the sorted training and test data\n",
    "plt.scatter(X_train, y_train, c='blue', label='Training data')\n",
    "plt.scatter(X_test, y_test, c='red', label='Test data')\n",
    "\n",
    "# Add a legend\n",
    "plt.legend()\n",
    "\n",
    "# Show the plot\n",
    "plt.show()"
   ]
  },
  {
   "cell_type": "code",
   "execution_count": 9,
   "id": "7a11a19f",
   "metadata": {
    "ExecuteTime": {
     "end_time": "2023-04-11T09:05:10.038224Z",
     "start_time": "2023-04-11T09:05:09.993463Z"
    }
   },
   "outputs": [],
   "source": [
    "from sklearn.preprocessing import PolynomialFeatures\n",
    "from sklearn.linear_model import LinearRegression\n",
    "from sklearn.metrics import mean_squared_error\n",
    "\n",
    "# degree : 차수\n",
    "# graph : 그래프 그릴지 여부 결정\n",
    "\n",
    "def plot_regressor(degree, graph=True): \n",
    "    \n",
    "    ## 모델 생성\n",
    "    reg = LinearRegression()\n",
    "    \n",
    "    ## 데이터 변환\n",
    "    poly = PolynomialFeatures(degree=degree,include_bias=False)    \n",
    "    X_train_ = poly.fit_transform(X_train.reshape(-1,1)) # 데이터가 1차원이라 reshape 사용      \n",
    "    \n",
    "    ## 모델 학습    \n",
    "    reg.fit(X_train_,y_train)\n",
    "    \n",
    "    ## 예측값\n",
    "    y_pred_train = reg.predict(X_train_)\n",
    "    \n",
    "    ## 그래프 그리기\n",
    "    if graph:\n",
    "        plt.scatter(X_train,y_train,c='blue',label='training')\n",
    "        plt.scatter(X_test,y_test,c='red',label='testing')    \n",
    "        plt.plot(X_train,y_pred_train,color='blue') # 훈련데이터를 얼마나 잘 나타내는지 표현하기 위해 선형도 작성\n",
    "        plt.legend()\n",
    "    \n",
    "    ## 트레이닝 데이터와 테스팅 데이터 각각의 MSE 계산\n",
    "    X_test_ = poly.fit_transform(X_test.reshape(-1,1))\n",
    "    y_pred_test = reg.predict(X_test_)\n",
    "    train_mse = mean_squared_error(y_train,y_pred_train) # 훈련 데이터의 MSE\n",
    "    test_mse = mean_squared_error(y_test,y_pred_test) # 테스팅 데이터의 MSE\n",
    "    print(f'training MSE: {train_mse}')\n",
    "    print(f'testing MSE:{test_mse}')\n",
    "    \n",
    "    return train_mse, test_mse\n",
    "    \n",
    "    \n",
    "    "
   ]
  },
  {
   "cell_type": "markdown",
   "id": "96a1bdcd-d21b-4edb-baf8-7e12e6f8286a",
   "metadata": {},
   "source": [
    "## 1차회귀"
   ]
  },
  {
   "cell_type": "code",
   "execution_count": 10,
   "id": "56323ea7",
   "metadata": {
    "ExecuteTime": {
     "end_time": "2023-04-11T09:05:12.605788Z",
     "start_time": "2023-04-11T09:05:12.411778Z"
    },
    "scrolled": true
   },
   "outputs": [
    {
     "name": "stdout",
     "output_type": "stream",
     "text": [
      "training MSE: 4.950933409839489\n",
      "testing MSE:5.582050958972192\n"
     ]
    },
    {
     "data": {
      "text/plain": [
       "(4.950933409839489, 5.582050958972192)"
      ]
     },
     "execution_count": 10,
     "metadata": {},
     "output_type": "execute_result"
    },
    {
     "data": {
      "image/png": "[encoded data removed]",
      "text/plain": [
       "<Figure size 432x288 with 1 Axes>"
      ]
     },
     "metadata": {
      "needs_background": "light"
     },
     "output_type": "display_data"
    }
   ],
   "source": [
    "plot_regressor(1)"
   ]
  },
  {
   "cell_type": "markdown",
   "id": "aac6c25d",
   "metadata": {},
   "source": [
    "## 2차회귀"
   ]
  },
  {
   "cell_type": "code",
   "execution_count": 11,
   "id": "ac8eebe9",
   "metadata": {
    "ExecuteTime": {
     "end_time": "2023-04-11T09:06:00.683626Z",
     "start_time": "2023-04-11T09:06:00.451573Z"
    }
   },
   "outputs": [
    {
     "name": "stdout",
     "output_type": "stream",
     "text": [
      "training MSE: 2.4379070558478313\n",
      "testing MSE:2.4854161048873893\n"
     ]
    },
    {
     "data": {
      "text/plain": [
       "(2.4379070558478313, 2.4854161048873893)"
      ]
     },
     "execution_count": 11,
     "metadata": {},
     "output_type": "execute_result"
    },
    {
     "data": {
      "image/png": "[encoded data removed]",
      "text/plain": [
       "<Figure size 432x288 with 1 Axes>"
      ]
     },
     "metadata": {
      "needs_background": "light"
     },
     "output_type": "display_data"
    }
   ],
   "source": [
    "plot_regressor(2)"
   ]
  },
  {
   "cell_type": "markdown",
   "id": "2899ed26",
   "metadata": {},
   "source": [
    "## 3차회귀"
   ]
  },
  {
   "cell_type": "code",
   "execution_count": 12,
   "id": "5594a656",
   "metadata": {
    "ExecuteTime": {
     "end_time": "2023-04-11T09:06:31.729873Z",
     "start_time": "2023-04-11T09:06:31.537818Z"
    }
   },
   "outputs": [
    {
     "name": "stdout",
     "output_type": "stream",
     "text": [
      "training MSE: 0.26779358828585476\n",
      "testing MSE:0.38515042919296294\n"
     ]
    },
    {
     "data": {
      "text/plain": [
       "(0.26779358828585476, 0.38515042919296294)"
      ]
     },
     "execution_count": 12,
     "metadata": {},
     "output_type": "execute_result"
    },
    {
     "data": {
      "image/png": "[encoded data removed]",
      "text/plain": [
       "<Figure size 432x288 with 1 Axes>"
      ]
     },
     "metadata": {
      "needs_background": "light"
     },
     "output_type": "display_data"
    }
   ],
   "source": [
    "plot_regressor(3)"
   ]
  },
  {
   "cell_type": "markdown",
   "id": "a5844cee",
   "metadata": {},
   "source": [
    "## 8차회귀"
   ]
  },
  {
   "cell_type": "code",
   "execution_count": 13,
   "id": "4a3f4418",
   "metadata": {
    "ExecuteTime": {
     "end_time": "2023-04-11T09:07:07.559460Z",
     "start_time": "2023-04-11T09:07:07.371196Z"
    }
   },
   "outputs": [
    {
     "name": "stdout",
     "output_type": "stream",
     "text": [
      "training MSE: 0.2124895792268226\n",
      "testing MSE:0.4472938472996228\n"
     ]
    },
    {
     "data": {
      "text/plain": [
       "(0.2124895792268226, 0.4472938472996228)"
      ]
     },
     "execution_count": 13,
     "metadata": {},
     "output_type": "execute_result"
    },
    {
     "data": {
      "image/png": "[encoded data removed]",
      "text/plain": [
       "<Figure size 432x288 with 1 Axes>"
      ]
     },
     "metadata": {
      "needs_background": "light"
     },
     "output_type": "display_data"
    }
   ],
   "source": [
    "plot_regressor(8)"
   ]
  },
  {
   "cell_type": "markdown",
   "id": "56e2e965",
   "metadata": {},
   "source": [
    "## 15차회귀"
   ]
  },
  {
   "cell_type": "code",
   "execution_count": 14,
   "id": "442ee751",
   "metadata": {
    "ExecuteTime": {
     "end_time": "2023-04-11T09:07:50.064031Z",
     "start_time": "2023-04-11T09:07:49.868643Z"
    }
   },
   "outputs": [
    {
     "name": "stdout",
     "output_type": "stream",
     "text": [
      "training MSE: 0.09989518458989624\n",
      "testing MSE:1.9446676408637664\n"
     ]
    },
    {
     "data": {
      "text/plain": [
       "(0.09989518458989624, 1.9446676408637664)"
      ]
     },
     "execution_count": 14,
     "metadata": {},
     "output_type": "execute_result"
    },
    {
     "data": {
      "image/png": "[encoded data removed]",
      "text/plain": [
       "<Figure size 432x288 with 1 Axes>"
      ]
     },
     "metadata": {
      "needs_background": "light"
     },
     "output_type": "display_data"
    }
   ],
   "source": [
    "plot_regressor(15)"
   ]
  },
  {
   "cell_type": "markdown",
   "id": "462871f7",
   "metadata": {},
   "source": [
    "## 유연성을 변경시켜가며 mse 기록"
   ]
  },
  {
   "cell_type": "code",
   "execution_count": 153,
   "id": "016d4782",
   "metadata": {
    "ExecuteTime": {
     "end_time": "2023-04-11T07:43:14.922202Z",
     "start_time": "2023-04-11T07:43:14.684748Z"
    }
   },
   "outputs": [
    {
     "name": "stdout",
     "output_type": "stream",
     "text": [
      "==========1==========\n",
      "training MSE: 4.950933409839489\n",
      "testing MSE:5.582050958972192\n",
      "==========2==========\n",
      "training MSE: 2.4379070558478313\n",
      "testing MSE:2.4854161048873893\n",
      "==========3==========\n",
      "training MSE: 0.26779358828585476\n",
      "testing MSE:0.38515042919296294\n",
      "==========4==========\n",
      "training MSE: 0.2675859790661353\n",
      "testing MSE:0.37867473404149543\n",
      "==========5==========\n",
      "training MSE: 0.2516303641745341\n",
      "testing MSE:0.37335590316301637\n",
      "==========6==========\n",
      "training MSE: 0.2375903071581561\n",
      "testing MSE:0.4306287570356907\n",
      "==========7==========\n",
      "training MSE: 0.21296092152107285\n",
      "testing MSE:0.4477475116609441\n",
      "==========8==========\n",
      "training MSE: 0.2124895792268226\n",
      "testing MSE:0.4472938472996228\n",
      "==========9==========\n",
      "training MSE: 0.2090173318174315\n",
      "testing MSE:0.45629413274148645\n",
      "==========10==========\n",
      "training MSE: 0.18686163049153873\n",
      "testing MSE:0.468851023359651\n",
      "==========11==========\n",
      "training MSE: 0.18672450820234354\n",
      "testing MSE:0.47316899341115465\n",
      "==========12==========\n",
      "training MSE: 0.1861609889757471\n",
      "testing MSE:0.49663635363577807\n",
      "==========13==========\n",
      "training MSE: 0.16027337882724269\n",
      "testing MSE:0.7633558583311306\n",
      "==========14==========\n",
      "training MSE: 0.13966349937090217\n",
      "testing MSE:1.157153740488385\n",
      "==========15==========\n",
      "training MSE: 0.09989518458989624\n",
      "testing MSE:1.9446676408637664\n"
     ]
    },
    {
     "data": {
      "text/plain": [
       "<matplotlib.legend.Legend at 0x7f0820cf8190>"
      ]
     },
     "execution_count": 153,
     "metadata": {},
     "output_type": "execute_result"
    },
    {
     "data": {
      "image/png": "[encoded data removed]",
      "text/plain": [
       "<Figure size 576x432 with 1 Axes>"
      ]
     },
     "metadata": {
      "needs_background": "light"
     },
     "output_type": "display_data"
    }
   ],
   "source": [
    "train_mse = []\n",
    "test_mse = []\n",
    "degrees = range(1,16)\n",
    "\n",
    "for i in degrees:\n",
    "    print(\"=\"*10+str(i)+\"=\"*10)\n",
    "    train, test = plot_regressor(i,graph=False)\n",
    "    train_mse.append(train)\n",
    "    test_mse.append(test)\n",
    "\n",
    "plt.figure(figsize=(8,6))\n",
    "plt.plot(degrees,train_mse, label = 'train_mse')\n",
    "plt.plot(degrees,test_mse, label = 'test_mse')\n",
    "plt.legend()\n"
   ]
  }
 ],
 "metadata": {
  "kernelspec": {
   "display_name": "Python 3 (ipykernel)",
   "language": "python",
   "name": "python3"
  },
  "language_info": {
   "codemirror_mode": {
    "name": "ipython",
    "version": 3
   },
   "file_extension": ".py",
   "mimetype": "text/x-python",
   "name": "python",
   "nbconvert_exporter": "python",
   "pygments_lexer": "ipython3",
   "version": "3.8.10"
  },
  "toc": {
   "base_numbering": 1,
   "nav_menu": {},
   "number_sections": false,
   "sideBar": true,
   "skip_h1_title": false,
   "title_cell": "Table of Contents",
   "title_sidebar": "Contents",
   "toc_cell": false,
   "toc_position": {},
   "toc_section_display": true,
   "toc_window_display": false
  }
 },
 "nbformat": 4,
 "nbformat_minor": 5
}
