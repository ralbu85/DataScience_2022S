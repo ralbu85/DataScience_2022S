{
 "cells": [
  {
   "cell_type": "code",
   "execution_count": 1,
   "id": "6653ef4f",
   "metadata": {
    "ExecuteTime": {
     "end_time": "2023-04-17T03:44:17.701058Z",
     "start_time": "2023-04-17T03:44:17.694949Z"
    }
   },
   "outputs": [],
   "source": [
    "import numpy as np\n",
    "import matplotlib.pyplot as plt\n",
    "np.random.seed(42) "
   ]
  },
  {
   "cell_type": "markdown",
   "id": "18fd2373",
   "metadata": {},
   "source": [
    "## 데이터 만들기"
   ]
  },
  {
   "cell_type": "code",
   "execution_count": 2,
   "id": "e2b4ae6a",
   "metadata": {
    "ExecuteTime": {
     "end_time": "2023-04-17T03:44:30.579403Z",
     "start_time": "2023-04-17T03:44:30.407062Z"
    }
   },
   "outputs": [
    {
     "data": {
      "text/plain": [
       "<matplotlib.collections.PathCollection at 0x7f5a3f340340>"
      ]
     },
     "execution_count": 2,
     "metadata": {},
     "output_type": "execute_result"
    },
    {
     "data": {
      "image/png": "[encoded data removed]",
      "text/plain": [
       "<Figure size 432x288 with 1 Axes>"
      ]
     },
     "metadata": {
      "needs_background": "light"
     },
     "output_type": "display_data"
    }
   ],
   "source": [
    "X=np.linspace(-5,3,100)\n",
    "y=0.1*(X-3)*(X+3)*(X+1)*(X+5)+ np.random.normal(1,size=100)\n",
    "plt.scatter(X,y)"
   ]
  },
  {
   "cell_type": "markdown",
   "id": "b8d95f2d",
   "metadata": {},
   "source": [
    "## Cross Validate 사용"
   ]
  },
  {
   "cell_type": "code",
   "execution_count": 52,
   "id": "108a993a",
   "metadata": {
    "ExecuteTime": {
     "end_time": "2023-04-17T05:55:43.123961Z",
     "start_time": "2023-04-17T05:55:43.092480Z"
    }
   },
   "outputs": [],
   "source": [
    "from sklearn.model_selection import cross_validate, KFold\n",
    "from sklearn.linear_model import LinearRegression\n",
    "\n",
    "reg=LinearRegression() #학습할 모형\n",
    "kfold = KFold(n_splits=5, shuffle=True) #데이터 쪼갤 방식\n",
    "\n",
    "# https://scikit-learn.org/stable/modules/model_evaluation.html\n",
    "metrics = ['neg_mean_absolute_error','neg_mean_squared_error','r2'] # 교차검증하면서 기록할 평가지표\n",
    "\n",
    "result=cross_validate(X=X.reshape(-1,1), #X데이터\n",
    "                      y=y,#y데이터\n",
    "                      estimator=reg, #학습시킬 모델\n",
    "                      scoring=metrics, #평가할 지표\n",
    "                      cv=kfold, # 교차검증 방식\n",
    "                      return_train_score=True                      \n",
    "                     )\n"
   ]
  },
  {
   "cell_type": "code",
   "execution_count": 53,
   "id": "f28cf9d8",
   "metadata": {
    "ExecuteTime": {
     "end_time": "2023-04-17T05:55:44.231254Z",
     "start_time": "2023-04-17T05:55:44.220796Z"
    }
   },
   "outputs": [
    {
     "data": {
      "text/plain": [
       "{'fit_time': array([0.0021193 , 0.00096202, 0.00090313, 0.00098324, 0.00079513]),\n",
       " 'score_time': array([0.0020473 , 0.00119805, 0.00118279, 0.0012269 , 0.00078177]),\n",
       " 'test_neg_mean_absolute_error': array([-3.3161621 , -2.18241742, -2.92579413, -2.57613859, -2.2287664 ]),\n",
       " 'train_neg_mean_absolute_error': array([-2.42245941, -2.70580595, -2.52883726, -2.61000064, -2.69699519]),\n",
       " 'test_neg_mean_squared_error': array([-15.32457093,  -5.97906658, -11.39615837,  -8.64486052,\n",
       "         -6.92311238]),\n",
       " 'train_neg_mean_squared_error': array([ -7.85255757, -10.20204118,  -8.86150958,  -9.60592661,\n",
       "        -10.03962762]),\n",
       " 'test_r2': array([0.33991886, 0.57935295, 0.21854711, 0.26113022, 0.61350661]),\n",
       " 'train_r2': array([0.50684268, 0.42242589, 0.50611595, 0.47348952, 0.42191008])}"
      ]
     },
     "execution_count": 53,
     "metadata": {},
     "output_type": "execute_result"
    }
   ],
   "source": [
    "# 딕셔너리에 키값으로 교차검증 결과가 저장되어있다.\n",
    "result"
   ]
  },
  {
   "cell_type": "code",
   "execution_count": 57,
   "id": "3a108b78",
   "metadata": {
    "ExecuteTime": {
     "end_time": "2023-04-17T05:57:58.336331Z",
     "start_time": "2023-04-17T05:57:58.327435Z"
    }
   },
   "outputs": [
    {
     "name": "stdout",
     "output_type": "stream",
     "text": [
      "2.6458557260335893 9.653553755677452 0.40249114950681975\n"
     ]
    }
   ],
   "source": [
    "# 결과의 사용\n",
    "test_mae = -result['test_neg_mean_absolute_error'].mean()\n",
    "test_mse = -result['test_neg_mean_squared_error'].mean()\n",
    "test_r2 = result['test_r2'].mean()\n",
    "print(test_mae, test_mse, test_r2)"
   ]
  }
 ],
 "metadata": {
  "kernelspec": {
   "display_name": "Python 3 (ipykernel)",
   "language": "python",
   "name": "python3"
  },
  "language_info": {
   "codemirror_mode": {
    "name": "ipython",
    "version": 3
   },
   "file_extension": ".py",
   "mimetype": "text/x-python",
   "name": "python",
   "nbconvert_exporter": "python",
   "pygments_lexer": "ipython3",
   "version": "3.8.10"
  },
  "toc": {
   "base_numbering": 1,
   "nav_menu": {},
   "number_sections": false,
   "sideBar": true,
   "skip_h1_title": false,
   "title_cell": "Table of Contents",
   "title_sidebar": "Contents",
   "toc_cell": false,
   "toc_position": {},
   "toc_section_display": true,
   "toc_window_display": false
  }
 },
 "nbformat": 4,
 "nbformat_minor": 5
}
