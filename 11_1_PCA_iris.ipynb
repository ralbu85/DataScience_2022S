{
 "cells": [
  {
   "cell_type": "markdown",
   "id": "a50dea16-efe2-4a62-8cb9-822412dc118d",
   "metadata": {},
   "source": [
    "## 주성분 분석"
   ]
  },
  {
   "cell_type": "code",
   "execution_count": 4,
   "id": "65c98282-922b-4cb6-aea3-6f42e4b2b458",
   "metadata": {},
   "outputs": [],
   "source": [
    "from sklearn import datasets\n",
    "import pandas as pd\n",
    "iris = datasets.load_iris(as_frame=True)"
   ]
  },
  {
   "cell_type": "code",
   "execution_count": 6,
   "id": "317d4fae-818d-4f41-b365-d76627d0285d",
   "metadata": {},
   "outputs": [
    {
     "data": {
      "text/html": [
       "<div>\n",
       "<style scoped>\n",
       "    .dataframe tbody tr th:only-of-type {\n",
       "        vertical-align: middle;\n",
       "    }\n",
       "\n",
       "    .dataframe tbody tr th {\n",
       "        vertical-align: top;\n",
       "    }\n",
       "\n",
       "    .dataframe thead th {\n",
       "        text-align: right;\n",
       "    }\n",
       "</style>\n",
       "<table border=\"1\" class=\"dataframe\">\n",
       "  <thead>\n",
       "    <tr style=\"text-align: right;\">\n",
       "      <th></th>\n",
       "      <th>sepal length (cm)</th>\n",
       "      <th>sepal width (cm)</th>\n",
       "      <th>petal length (cm)</th>\n",
       "      <th>petal width (cm)</th>\n",
       "    </tr>\n",
       "  </thead>\n",
       "  <tbody>\n",
       "    <tr>\n",
       "      <th>0</th>\n",
       "      <td>5.1</td>\n",
       "      <td>3.5</td>\n",
       "      <td>1.4</td>\n",
       "      <td>0.2</td>\n",
       "    </tr>\n",
       "    <tr>\n",
       "      <th>1</th>\n",
       "      <td>4.9</td>\n",
       "      <td>3.0</td>\n",
       "      <td>1.4</td>\n",
       "      <td>0.2</td>\n",
       "    </tr>\n",
       "    <tr>\n",
       "      <th>2</th>\n",
       "      <td>4.7</td>\n",
       "      <td>3.2</td>\n",
       "      <td>1.3</td>\n",
       "      <td>0.2</td>\n",
       "    </tr>\n",
       "    <tr>\n",
       "      <th>3</th>\n",
       "      <td>4.6</td>\n",
       "      <td>3.1</td>\n",
       "      <td>1.5</td>\n",
       "      <td>0.2</td>\n",
       "    </tr>\n",
       "    <tr>\n",
       "      <th>4</th>\n",
       "      <td>5.0</td>\n",
       "      <td>3.6</td>\n",
       "      <td>1.4</td>\n",
       "      <td>0.2</td>\n",
       "    </tr>\n",
       "    <tr>\n",
       "      <th>...</th>\n",
       "      <td>...</td>\n",
       "      <td>...</td>\n",
       "      <td>...</td>\n",
       "      <td>...</td>\n",
       "    </tr>\n",
       "    <tr>\n",
       "      <th>145</th>\n",
       "      <td>6.7</td>\n",
       "      <td>3.0</td>\n",
       "      <td>5.2</td>\n",
       "      <td>2.3</td>\n",
       "    </tr>\n",
       "    <tr>\n",
       "      <th>146</th>\n",
       "      <td>6.3</td>\n",
       "      <td>2.5</td>\n",
       "      <td>5.0</td>\n",
       "      <td>1.9</td>\n",
       "    </tr>\n",
       "    <tr>\n",
       "      <th>147</th>\n",
       "      <td>6.5</td>\n",
       "      <td>3.0</td>\n",
       "      <td>5.2</td>\n",
       "      <td>2.0</td>\n",
       "    </tr>\n",
       "    <tr>\n",
       "      <th>148</th>\n",
       "      <td>6.2</td>\n",
       "      <td>3.4</td>\n",
       "      <td>5.4</td>\n",
       "      <td>2.3</td>\n",
       "    </tr>\n",
       "    <tr>\n",
       "      <th>149</th>\n",
       "      <td>5.9</td>\n",
       "      <td>3.0</td>\n",
       "      <td>5.1</td>\n",
       "      <td>1.8</td>\n",
       "    </tr>\n",
       "  </tbody>\n",
       "</table>\n",
       "<p>150 rows × 4 columns</p>\n",
       "</div>"
      ],
      "text/plain": [
       "     sepal length (cm)  sepal width (cm)  petal length (cm)  petal width (cm)\n",
       "0                  5.1               3.5                1.4               0.2\n",
       "1                  4.9               3.0                1.4               0.2\n",
       "2                  4.7               3.2                1.3               0.2\n",
       "3                  4.6               3.1                1.5               0.2\n",
       "4                  5.0               3.6                1.4               0.2\n",
       "..                 ...               ...                ...               ...\n",
       "145                6.7               3.0                5.2               2.3\n",
       "146                6.3               2.5                5.0               1.9\n",
       "147                6.5               3.0                5.2               2.0\n",
       "148                6.2               3.4                5.4               2.3\n",
       "149                5.9               3.0                5.1               1.8\n",
       "\n",
       "[150 rows x 4 columns]"
      ]
     },
     "execution_count": 6,
     "metadata": {},
     "output_type": "execute_result"
    }
   ],
   "source": [
    "df=iris['data']\n",
    "df"
   ]
  },
  {
   "cell_type": "code",
   "execution_count": 29,
   "id": "53ef204a-9731-40fd-816f-69fee5de2220",
   "metadata": {},
   "outputs": [
    {
     "data": {
      "text/plain": [
       "0      0\n",
       "1      0\n",
       "2      0\n",
       "3      0\n",
       "4      0\n",
       "      ..\n",
       "145    2\n",
       "146    2\n",
       "147    2\n",
       "148    2\n",
       "149    2\n",
       "Name: target, Length: 150, dtype: int64"
      ]
     },
     "execution_count": 29,
     "metadata": {},
     "output_type": "execute_result"
    }
   ],
   "source": [
    "# 데이터의 레이블 (3개의 서로 다른 꽃의 종으로 구성되어 있음)\n",
    "iris['target']"
   ]
  },
  {
   "cell_type": "markdown",
   "id": "666c84c0-6d12-4acd-885d-e3a3b448a3ad",
   "metadata": {},
   "source": [
    "## 데이터를 평균 0, 표준편차가 1이 되도록 정규화"
   ]
  },
  {
   "cell_type": "code",
   "execution_count": 7,
   "id": "c3de677b-d9d4-4904-af15-38f3dc5afaad",
   "metadata": {},
   "outputs": [],
   "source": [
    "df_norm = (df-df.mean())/df.std()"
   ]
  },
  {
   "cell_type": "markdown",
   "id": "9e781d3b-14ad-4846-abdd-855e694be09c",
   "metadata": {},
   "source": [
    "## 주성분 분석 적용"
   ]
  },
  {
   "cell_type": "code",
   "execution_count": 23,
   "id": "991ecaad-a2c8-439e-b63b-6ce99fd70108",
   "metadata": {},
   "outputs": [],
   "source": [
    "from sklearn.decomposition import PCA\n",
    "pca = PCA() # 주성분 분석 수행을 위한 객체 생성\n",
    "# pca.fit(df_norm) # 학습\n",
    "# Z=pca.transform(df_norm) #예측\n",
    "Z = pca.fit_transform(df_norm) # fit_transform을 통해 학습과 함께 새로운 차원 Z로 변환"
   ]
  },
  {
   "cell_type": "code",
   "execution_count": 24,
   "id": "445e732a-379b-427a-8900-784eb8893dea",
   "metadata": {},
   "outputs": [
    {
     "data": {
      "text/plain": [
       "(150, 4)"
      ]
     },
     "execution_count": 24,
     "metadata": {},
     "output_type": "execute_result"
    }
   ],
   "source": [
    "Z.shape"
   ]
  },
  {
   "cell_type": "markdown",
   "id": "021480b6-3118-44a1-88d8-5282841410d5",
   "metadata": {},
   "source": [
    "## 각 차원의 중요도 파악"
   ]
  },
  {
   "cell_type": "markdown",
   "id": "e884e024-b9f7-4958-87a4-b80fe23c54c6",
   "metadata": {},
   "source": [
    "학습된 pca 객체 내부의 멤버 변수들을 살펴봄으로써 확인 가능하다"
   ]
  },
  {
   "cell_type": "code",
   "execution_count": 16,
   "id": "d86f720a-c94e-4743-bdcd-696693690f89",
   "metadata": {},
   "outputs": [
    {
     "data": {
      "text/plain": [
       "array([2.91849782, 0.91403047, 0.14675688, 0.02071484])"
      ]
     },
     "execution_count": 16,
     "metadata": {},
     "output_type": "execute_result"
    }
   ],
   "source": [
    "importance = pca.explained_variance_\n",
    "importance"
   ]
  },
  {
   "cell_type": "markdown",
   "id": "1a4aef90-8c56-46fd-a32d-4d52b7a79f5c",
   "metadata": {},
   "source": [
    "## 각 차원의 중요도를 비율로 설명"
   ]
  },
  {
   "cell_type": "code",
   "execution_count": 14,
   "id": "e0569788-34a3-4751-9ee6-35962d60b792",
   "metadata": {},
   "outputs": [
    {
     "data": {
      "text/plain": [
       "array([0.72962445, 0.22850762, 0.03668922, 0.00517871])"
      ]
     },
     "execution_count": 14,
     "metadata": {},
     "output_type": "execute_result"
    }
   ],
   "source": [
    "pca.explained_variance_ratio_"
   ]
  },
  {
   "cell_type": "markdown",
   "id": "a470ed50-33dd-4e51-87b2-16b9490d3ea6",
   "metadata": {},
   "source": [
    "## 중요도의 누적합"
   ]
  },
  {
   "cell_type": "markdown",
   "id": "7eeebbdf-3b2e-4b9a-ad64-3031dfc5a925",
   "metadata": {},
   "source": [
    "numpy에 있는 cumsum이라는 누적합을 계산해 주는 메소드를 사용하면 쉽계 계산이 가능"
   ]
  },
  {
   "cell_type": "code",
   "execution_count": 18,
   "id": "c6e34c9d-060c-4485-9a4c-162545366a2e",
   "metadata": {},
   "outputs": [
    {
     "data": {
      "text/plain": [
       "array([0.72962445, 0.95813207, 0.99482129, 1.        ])"
      ]
     },
     "execution_count": 18,
     "metadata": {},
     "output_type": "execute_result"
    }
   ],
   "source": [
    "import numpy as np\n",
    "np.cumsum(pca.explained_variance_ratio_)"
   ]
  },
  {
   "cell_type": "markdown",
   "id": "de00890c-0623-4362-929e-e8c8208d5829",
   "metadata": {
    "tags": []
   },
   "source": [
    "## 변환원 데이터의 특정 차원 선택"
   ]
  },
  {
   "cell_type": "markdown",
   "id": "4718684f-8861-4564-b102-42e135e830de",
   "metadata": {},
   "source": [
    "변환된 데이터에서 열을 선택함으로써 변환된 데이터의 특정 차원을 선택할 수 있다"
   ]
  },
  {
   "cell_type": "code",
   "execution_count": 20,
   "id": "d45ab0c7-b7e1-4c5d-a484-78f012469584",
   "metadata": {},
   "outputs": [
    {
     "data": {
      "text/plain": [
       "(150, 4)"
      ]
     },
     "execution_count": 20,
     "metadata": {},
     "output_type": "execute_result"
    }
   ],
   "source": [
    "Z.shape"
   ]
  },
  {
   "cell_type": "code",
   "execution_count": 21,
   "id": "8f7ea8f2-aac4-4e04-a4d6-8acc973546e2",
   "metadata": {},
   "outputs": [
    {
     "data": {
      "text/plain": [
       "array([-2.25714118, -2.07401302, -2.35633511, -2.29170679, -2.3818627 ,\n",
       "       -2.06870061, -2.43586845, -2.22539189, -2.32684533, -2.17703491,\n",
       "       -2.15907699, -2.31836413, -2.2110437 , -2.62430902, -2.19139921,\n",
       "       -2.25466121, -2.20021676, -2.18303613, -1.89223284, -2.33554476,\n",
       "       -1.90793125, -2.19964383, -2.76508142, -1.81259716, -2.21972701,\n",
       "       -1.9453293 , -2.04430277, -2.1613365 , -2.13241965, -2.25769799,\n",
       "       -2.13297647, -1.82547925, -2.60621687, -2.43800983, -2.10292986,\n",
       "       -2.20043723, -2.03831765, -2.51889339, -2.42152026, -2.16246625,\n",
       "       -2.27884081, -1.85191836, -2.54511203, -1.95788857, -2.12992356,\n",
       "       -2.06283361, -2.37677076, -2.38638171, -2.22200263, -2.19647504,\n",
       "        1.09810244,  0.72889556,  1.2368358 ,  0.40612251,  1.07188379,\n",
       "        0.38738955,  0.74403715, -0.48569562,  0.92480346,  0.01138804,\n",
       "       -0.10982834,  0.43922201,  0.56023148,  0.71715934, -0.03324333,\n",
       "        0.87248429,  0.34908221,  0.1582798 ,  1.22100316,  0.16436725,\n",
       "        0.73521959,  0.47469691,  1.23005729,  0.63074514,  0.70031506,\n",
       "        0.87135454,  1.25231375,  1.35386953,  0.66258066, -0.04012419,\n",
       "        0.13035846,  0.02337438,  0.2407318 ,  1.05755171,  0.22323093,\n",
       "        0.42770626,  1.04522645,  1.04104379,  0.06935597,  0.28253073,\n",
       "        0.27814596,  0.62248441,  0.33540673, -0.36097409,  0.28762268,\n",
       "        0.09105561,  0.22695654,  0.57446378, -0.4461723 ,  0.25587339,\n",
       "        1.83841002,  1.15401555,  2.19790361,  1.43534213,  1.86157577,\n",
       "        2.74268509,  0.36579225,  2.29475181,  1.99998633,  2.25223216,\n",
       "        1.35962064,  1.59732747,  1.87761053,  1.25590769,  1.46274487,\n",
       "        1.5847682 ,  1.46651849,  2.4182277 ,  3.29964148,  1.25954707,\n",
       "        2.03091256,  0.97471535,  2.8879765 ,  1.32878064,  1.6950553 ,\n",
       "        1.94780139,  1.17118007,  1.01754169,  1.78237879,  1.85742501,\n",
       "        2.4278203 ,  2.29723178,  1.85648383,  1.1104277 ,  1.19845835,\n",
       "        2.78942561,  1.57099294,  1.34179696,  0.92173701,  1.84586124,\n",
       "        2.00808316,  1.89543421,  1.15401555,  2.03374499,  1.99147547,\n",
       "        1.86425786,  1.55935649,  1.51609145,  1.36820418,  0.95744849])"
      ]
     },
     "execution_count": 21,
     "metadata": {},
     "output_type": "execute_result"
    }
   ],
   "source": [
    "Z[:,0] # 첫번째 열 -> 변환된 데이터의 첫번째 차원"
   ]
  },
  {
   "cell_type": "code",
   "execution_count": 22,
   "id": "edb0ae91-e5ad-467a-bfba-e34fc960d37a",
   "metadata": {},
   "outputs": [
    {
     "data": {
      "text/plain": [
       "array([ 0.47842383, -0.67188269, -0.34076642, -0.59539986,  0.64467566,\n",
       "        1.4842053 ,  0.04748512,  0.222403  , -1.1116037 , -0.46744757,\n",
       "        1.04020587,  0.132634  , -0.72624318, -0.95829635,  1.85384655,\n",
       "        2.67731523,  1.47865573,  0.48720613,  1.40032757,  1.1240836 ,\n",
       "        0.40749058,  0.92103587,  0.4568133 ,  0.08527285,  0.13679618,\n",
       "       -0.62352971,  0.24135499,  0.52538942,  0.312172  , -0.33660425,\n",
       "       -0.50285608,  0.42228039,  1.78758727,  2.1435468 , -0.45866527,\n",
       "       -0.20541922,  0.65934923,  0.59031516, -0.90116107,  0.2679812 ,\n",
       "        0.44024054, -2.32961074, -0.47750102,  0.47074961,  1.13841546,\n",
       "       -0.70867859,  1.11668869, -0.38495723,  0.99462767,  0.00918558,\n",
       "        0.86009103,  0.59262936,  0.61423989, -1.7485462 , -0.20772515,\n",
       "       -0.59130272,  0.77043827, -1.846244  ,  0.03211848, -1.03056578,\n",
       "       -2.64521111, -0.06308385, -1.75883213, -0.18560282, -0.43753742,\n",
       "        0.50736424, -0.19565627, -0.78945101, -1.61682728, -1.29825994,\n",
       "        0.39524745, -0.41592689, -0.93020944, -0.41499744, -0.06320009,\n",
       "        0.24995602, -0.07699807,  0.33020546, -0.2251735 , -1.05518358,\n",
       "       -1.55705555, -1.56722524, -0.7746612 , -0.6317269 , -0.28681266,\n",
       "        0.84275892,  0.52030871, -1.37837105, -0.21877043, -1.32488615,\n",
       "       -1.11628885,  0.02483981, -0.98510383, -2.01249582, -0.85287312,\n",
       "       -0.18058714, -0.38363487, -0.15435649, -1.53863746, -0.59685229,\n",
       "        0.86751506, -0.6965364 ,  0.56013398, -0.0468307 ,  0.2940597 ,\n",
       "        0.79773671, -1.55628918,  0.41866302, -0.70906323,  1.9145963 ,\n",
       "        0.6904434 , -0.42029243,  0.41784981, -1.15837974, -0.44079488,\n",
       "        0.67398689,  0.25476833,  2.5481248 ,  0.01772158, -1.70104672,\n",
       "        0.90742744, -0.56985526,  0.41225995, -0.4802025 ,  1.01053648,\n",
       "        1.00441272, -0.31533806,  0.06413118, -0.18673563,  0.56041329,\n",
       "        0.25841871,  2.61755442, -0.17795333, -0.29194458, -0.80860636,\n",
       "        0.85394254,  1.06501321,  0.42102015,  0.01716559,  0.67387065,\n",
       "        0.61183593,  0.68727307, -0.6965364 ,  0.86462403,  1.04566567,\n",
       "        0.38567404, -0.89369285,  0.26817075,  1.00787793, -0.02425043])"
      ]
     },
     "execution_count": 22,
     "metadata": {},
     "output_type": "execute_result"
    }
   ],
   "source": [
    "Z[:,1] # 두번째 열 -> 변환된 데이터의 두번째 차원"
   ]
  },
  {
   "cell_type": "markdown",
   "id": "90966d00-f1f9-4f63-b647-3c6a28d7b1aa",
   "metadata": {},
   "source": [
    "## Visualization"
   ]
  },
  {
   "cell_type": "code",
   "execution_count": 30,
   "id": "665d6f2a-a6df-40f8-9caa-9f72dae20c80",
   "metadata": {},
   "outputs": [
    {
     "data": {
      "text/plain": [
       "Text(0, 0.5, 'second dimension')"
      ]
     },
     "execution_count": 30,
     "metadata": {},
     "output_type": "execute_result"
    },
    {
     "data": {
      "image/png": "[encoded data removed]",
      "text/plain": [
       "<Figure size 864x576 with 1 Axes>"
      ]
     },
     "metadata": {
      "needs_background": "light"
     },
     "output_type": "display_data"
    }
   ],
   "source": [
    "import matplotlib.pyplot as plt\n",
    "plt.figure(figsize=(12,8))\n",
    "plt.scatter(Z[:,0],Z[:,1], c=iris['target'])\n",
    "plt.xlabel(\"first dimension\")\n",
    "plt.ylabel(\"second dimension\")"
   ]
  },
  {
   "cell_type": "markdown",
   "id": "ea49e02d-e66f-4859-87f6-992e01d2232f",
   "metadata": {},
   "source": [
    "## 변환된 차원에 의미부여"
   ]
  },
  {
   "cell_type": "code",
   "execution_count": 31,
   "id": "9fc62dbd-23ae-4e26-8527-a573ff5eded9",
   "metadata": {},
   "outputs": [
    {
     "data": {
      "text/plain": [
       "array([[ 0.52106591, -0.26934744,  0.5804131 ,  0.56485654],\n",
       "       [ 0.37741762,  0.92329566,  0.02449161,  0.06694199],\n",
       "       [-0.71956635,  0.24438178,  0.14212637,  0.63427274],\n",
       "       [-0.26128628,  0.12350962,  0.80144925, -0.52359713]])"
      ]
     },
     "execution_count": 31,
     "metadata": {},
     "output_type": "execute_result"
    }
   ],
   "source": [
    "pca.components_"
   ]
  },
  {
   "cell_type": "code",
   "execution_count": 47,
   "id": "7a7597d4-248a-4f09-affe-6a92f489ab86",
   "metadata": {},
   "outputs": [
    {
     "data": {
      "text/plain": [
       "array([[ 0.52106591, -0.26934744,  0.5804131 ,  0.56485654],\n",
       "       [ 0.37741762,  0.92329566,  0.02449161,  0.06694199]])"
      ]
     },
     "execution_count": 47,
     "metadata": {},
     "output_type": "execute_result"
    }
   ],
   "source": [
    "# 고유행렬에서 첫 2행까지의 데이터를 추려내자\n",
    "factor = pca.components_[:2,:]\n",
    "factor"
   ]
  },
  {
   "cell_type": "code",
   "execution_count": 48,
   "id": "c990a49b-ba2f-410b-9b5a-4ac9680281a7",
   "metadata": {},
   "outputs": [
    {
     "data": {
      "image/png": "[encoded data removed]",
      "text/plain": [
       "<Figure size 864x576 with 1 Axes>"
      ]
     },
     "metadata": {
      "needs_background": "light"
     },
     "output_type": "display_data"
    }
   ],
   "source": [
    "plt.figure(figsize=(12,8))\n",
    "plt.scatter(Z[:,0],Z[:,1],c=iris['target'])\n",
    "for i in range(4):\n",
    "    plt.annotate(df.columns[i],xy=(0,0),xytext=(factor[:,i]*2),arrowprops={'lw':1.5, 'arrowstyle':'<-'})"
   ]
  }
 ],
 "metadata": {
  "kernelspec": {
   "display_name": "Python 3 (ipykernel)",
   "language": "python",
   "name": "python3"
  },
  "language_info": {
   "codemirror_mode": {
    "name": "ipython",
    "version": 3
   },
   "file_extension": ".py",
   "mimetype": "text/x-python",
   "name": "python",
   "nbconvert_exporter": "python",
   "pygments_lexer": "ipython3",
   "version": "3.8.10"
  }
 },
 "nbformat": 4,
 "nbformat_minor": 5
}
