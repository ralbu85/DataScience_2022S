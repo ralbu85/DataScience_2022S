{
 "cells": [
  {
   "cell_type": "markdown",
   "id": "97bf874d-1d95-4add-b8e1-61e51189cd84",
   "metadata": {},
   "source": [
    "$$ IG(A) = H(T) - \\sum_{v \\in Values(A)} \\frac{|T_v|}{|T|} H(T_v) $$\n",
    "\n"
   ]
  },
  {
   "cell_type": "code",
   "execution_count": 13,
   "id": "8864e386-fb75-45a2-ace7-641cac493968",
   "metadata": {},
   "outputs": [
    {
     "data": {
      "text/plain": [
       "<matplotlib.collections.PathCollection at 0x7f4a041f6040>"
      ]
     },
     "execution_count": 13,
     "metadata": {},
     "output_type": "execute_result"
    },
    {
     "data": {
      "image/png": "[encoded data removed]",
      "text/plain": [
       "<Figure size 432x360 with 1 Axes>"
      ]
     },
     "metadata": {
      "needs_background": "light"
     },
     "output_type": "display_data"
    }
   ],
   "source": [
    "import pandas as pd\n",
    "import matplotlib.pyplot as plt\n",
    "\n",
    "data = {'x':[2,4,5,6,9,0,2], 'y':[2,4,5,6,9,2,0]}\n",
    "central = {'x':[1,3,8], 'y':[1,5,8]}\n",
    "pd.DataFrame(data)\n",
    "plt.figure(figsize=(6,5))\n",
    "plt.grid()\n",
    "plt.scatter(data['x'],data['y'],s=200)\n",
    "plt.scatter(central['x'],central['y'],c='red',marker='+', s=200)\n"
   ]
  },
  {
   "cell_type": "code",
   "execution_count": null,
   "id": "782ac78d-051f-449a-a314-959af02ef596",
   "metadata": {},
   "outputs": [],
   "source": [
    "y = df['pop']"
   ]
  },
  {
   "cell_type": "code",
   "execution_count": null,
   "id": "4bd72654-a383-46e7-9e4c-73920107cdf3",
   "metadata": {},
   "outputs": [],
   "source": [
    "X_train,X_test,y_train,y_test = train_test_split(X,y,test_size=0.4,shuffle=True) # 데이터 쪼개기\n",
    "\n",
    "reg.fit(X_train,y_train) # 훈련 데이터를 이용해 모델 학습\n",
    "\n",
    "y_pred = reg.predict(X_test) # 테스팅 데이터를 이용해 예측\n",
    "\n",
    "mean_squared_error(y_test, y_pred) # mean squared error를 이용해 테스팅 데이터의 성능 측정"
   ]
  }
 ],
 "metadata": {
  "kernelspec": {
   "display_name": "Python 3 (ipykernel)",
   "language": "python",
   "name": "python3"
  },
  "language_info": {
   "codemirror_mode": {
    "name": "ipython",
    "version": 3
   },
   "file_extension": ".py",
   "mimetype": "text/x-python",
   "name": "python",
   "nbconvert_exporter": "python",
   "pygments_lexer": "ipython3",
   "version": "3.8.10"
  }
 },
 "nbformat": 4,
 "nbformat_minor": 5
}
