{
 "cells": [
  {
   "cell_type": "code",
   "execution_count": 12,
   "metadata": {},
   "outputs": [],
   "source": [
    "import pandas as pd\n",
    "df=pd.read_csv('auto.csv')"
   ]
  },
  {
   "cell_type": "markdown",
   "metadata": {},
   "source": [
    "## X, y 나누기"
   ]
  },
  {
   "cell_type": "code",
   "execution_count": 13,
   "metadata": {},
   "outputs": [],
   "source": [
    "df=pd.get_dummies(df,columns=['origin'])\n",
    "y=df['mpg']\n",
    "X=df.drop(columns=['mpg'])"
   ]
  },
  {
   "cell_type": "markdown",
   "metadata": {},
   "source": [
    "## 교차검증"
   ]
  },
  {
   "cell_type": "code",
   "execution_count": 14,
   "metadata": {},
   "outputs": [
    {
     "data": {
      "text/plain": [
       "{'fit_time': array([0.00717497, 0.00427723, 0.0026958 , 0.00253844, 0.00268602]),\n",
       " 'score_time': array([0.00473952, 0.00262904, 0.00218534, 0.00218225, 0.00221539]),\n",
       " 'test_neg_mean_squared_error': array([-12.74508498,  -9.04574755, -11.640754  , -16.88548068,\n",
       "         -9.32127167]),\n",
       " 'train_neg_mean_squared_error': array([-10.3029387 , -11.14943926, -10.51406655,  -9.57417723,\n",
       "        -11.21933189]),\n",
       " 'test_r2': array([0.83032205, 0.80813955, 0.80022858, 0.75528628, 0.81188805]),\n",
       " 'train_r2': array([0.81846899, 0.82621853, 0.82640809, 0.83655634, 0.82320605])}"
      ]
     },
     "execution_count": 14,
     "metadata": {},
     "output_type": "execute_result"
    }
   ],
   "source": [
    "from sklearn.linear_model import LinearRegression\n",
    "from sklearn.model_selection import KFold, cross_validate\n",
    "\n",
    "reg= LinearRegression()\n",
    "kfold = KFold(5,shuffle=True)\n",
    "result=cross_validate(estimator=reg, X=X, y=y, cv=kfold, scoring=['neg_mean_squared_error','r2'], return_train_score=True)\n",
    "result\n"
   ]
  }
 ],
 "metadata": {
  "kernelspec": {
   "display_name": "Python 3 (ipykernel)",
   "language": "python",
   "name": "python3"
  },
  "language_info": {
   "codemirror_mode": {
    "name": "ipython",
    "version": 3
   },
   "file_extension": ".py",
   "mimetype": "text/x-python",
   "name": "python",
   "nbconvert_exporter": "python",
   "pygments_lexer": "ipython3",
   "version": "3.8.10"
  }
 },
 "nbformat": 4,
 "nbformat_minor": 4
}
