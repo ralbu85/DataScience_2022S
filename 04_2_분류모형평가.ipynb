{
 "cells": [
  {
   "cell_type": "markdown",
   "id": "96a83b86-9661-4e18-8ab2-899720326a56",
   "metadata": {},
   "source": [
    "## 로지스틱회귀"
   ]
  },
  {
   "cell_type": "code",
   "execution_count": 1,
   "id": "61137733-0ed9-41bc-a7af-1b21e3e5f026",
   "metadata": {},
   "outputs": [],
   "source": [
    "import pandas as pd "
   ]
  },
  {
   "cell_type": "code",
   "execution_count": 2,
   "id": "e1de8d7d-e73d-4138-bae6-cd72710d28cc",
   "metadata": {},
   "outputs": [],
   "source": [
    "df=pd.read_csv('https://raw.githubusercontent.com/ralbu85/DataScience_2022S/master/data/classification_data.csv')"
   ]
  },
  {
   "cell_type": "code",
   "execution_count": 3,
   "id": "82f2d900-9164-4ed8-885c-ebc2eb897f6f",
   "metadata": {},
   "outputs": [
    {
     "data": {
      "text/html": [
       "<div>\n",
       "<style scoped>\n",
       "    .dataframe tbody tr th:only-of-type {\n",
       "        vertical-align: middle;\n",
       "    }\n",
       "\n",
       "    .dataframe tbody tr th {\n",
       "        vertical-align: top;\n",
       "    }\n",
       "\n",
       "    .dataframe thead th {\n",
       "        text-align: right;\n",
       "    }\n",
       "</style>\n",
       "<table border=\"1\" class=\"dataframe\">\n",
       "  <thead>\n",
       "    <tr style=\"text-align: right;\">\n",
       "      <th></th>\n",
       "      <th>X1</th>\n",
       "      <th>X2</th>\n",
       "      <th>y</th>\n",
       "    </tr>\n",
       "  </thead>\n",
       "  <tbody>\n",
       "    <tr>\n",
       "      <th>0</th>\n",
       "      <td>-2.056844</td>\n",
       "      <td>-0.752741</td>\n",
       "      <td>0</td>\n",
       "    </tr>\n",
       "    <tr>\n",
       "      <th>1</th>\n",
       "      <td>1.760238</td>\n",
       "      <td>1.558517</td>\n",
       "      <td>1</td>\n",
       "    </tr>\n",
       "    <tr>\n",
       "      <th>2</th>\n",
       "      <td>-0.447763</td>\n",
       "      <td>-1.554927</td>\n",
       "      <td>1</td>\n",
       "    </tr>\n",
       "    <tr>\n",
       "      <th>3</th>\n",
       "      <td>1.008459</td>\n",
       "      <td>0.529517</td>\n",
       "      <td>1</td>\n",
       "    </tr>\n",
       "    <tr>\n",
       "      <th>4</th>\n",
       "      <td>0.636547</td>\n",
       "      <td>0.409058</td>\n",
       "      <td>1</td>\n",
       "    </tr>\n",
       "    <tr>\n",
       "      <th>...</th>\n",
       "      <td>...</td>\n",
       "      <td>...</td>\n",
       "      <td>...</td>\n",
       "    </tr>\n",
       "    <tr>\n",
       "      <th>95</th>\n",
       "      <td>-0.129932</td>\n",
       "      <td>-0.797169</td>\n",
       "      <td>0</td>\n",
       "    </tr>\n",
       "    <tr>\n",
       "      <th>96</th>\n",
       "      <td>1.426902</td>\n",
       "      <td>1.244639</td>\n",
       "      <td>1</td>\n",
       "    </tr>\n",
       "    <tr>\n",
       "      <th>97</th>\n",
       "      <td>-0.582968</td>\n",
       "      <td>1.630750</td>\n",
       "      <td>1</td>\n",
       "    </tr>\n",
       "    <tr>\n",
       "      <th>98</th>\n",
       "      <td>-0.619720</td>\n",
       "      <td>1.630840</td>\n",
       "      <td>0</td>\n",
       "    </tr>\n",
       "    <tr>\n",
       "      <th>99</th>\n",
       "      <td>1.938929</td>\n",
       "      <td>0.069963</td>\n",
       "      <td>1</td>\n",
       "    </tr>\n",
       "  </tbody>\n",
       "</table>\n",
       "<p>100 rows × 3 columns</p>\n",
       "</div>"
      ],
      "text/plain": [
       "          X1        X2  y\n",
       "0  -2.056844 -0.752741  0\n",
       "1   1.760238  1.558517  1\n",
       "2  -0.447763 -1.554927  1\n",
       "3   1.008459  0.529517  1\n",
       "4   0.636547  0.409058  1\n",
       "..       ...       ... ..\n",
       "95 -0.129932 -0.797169  0\n",
       "96  1.426902  1.244639  1\n",
       "97 -0.582968  1.630750  1\n",
       "98 -0.619720  1.630840  0\n",
       "99  1.938929  0.069963  1\n",
       "\n",
       "[100 rows x 3 columns]"
      ]
     },
     "execution_count": 3,
     "metadata": {},
     "output_type": "execute_result"
    }
   ],
   "source": [
    "df"
   ]
  },
  {
   "cell_type": "markdown",
   "id": "22d4eb7b-d699-4880-bed9-eeae1c652610",
   "metadata": {},
   "source": [
    "## 클래스에 따라 색깔 구분하기"
   ]
  },
  {
   "cell_type": "code",
   "execution_count": 4,
   "id": "61d4dfe7-5516-41f5-b9e5-8da1f2bce0f9",
   "metadata": {},
   "outputs": [
    {
     "data": {
      "text/plain": [
       "<matplotlib.collections.PathCollection at 0x7f964bd99670>"
      ]
     },
     "execution_count": 4,
     "metadata": {},
     "output_type": "execute_result"
    },
    {
     "data": {
      "image/png": "[encoded data removed]",
      "text/plain": [
       "<Figure size 432x288 with 1 Axes>"
      ]
     },
     "metadata": {
      "needs_background": "light"
     },
     "output_type": "display_data"
    }
   ],
   "source": [
    "import matplotlib.pyplot as plt\n",
    "plt.scatter(df['X1'],df['X2'],c=df['y'])"
   ]
  },
  {
   "cell_type": "markdown",
   "id": "2407c873-8aac-4a4f-9298-1196f7b84a4d",
   "metadata": {},
   "source": [
    "## 로지스틱 회귀"
   ]
  },
  {
   "cell_type": "code",
   "execution_count": 5,
   "id": "eade47e6-1952-4f4e-ab88-1608abe810ed",
   "metadata": {
    "tags": []
   },
   "outputs": [],
   "source": [
    "from sklearn.linear_model import LogisticRegression"
   ]
  },
  {
   "cell_type": "code",
   "execution_count": 6,
   "id": "2c94d726-63cc-44c2-81a3-97b1ab10e702",
   "metadata": {},
   "outputs": [],
   "source": [
    "reg=LogisticRegression()"
   ]
  },
  {
   "cell_type": "markdown",
   "id": "52ded4d7-7eab-41f7-9872-794ecea79fe6",
   "metadata": {},
   "source": [
    "### 데이터 분할"
   ]
  },
  {
   "cell_type": "code",
   "execution_count": 7,
   "id": "7ed7a22f-703d-43a1-8cba-a1920e84e8e7",
   "metadata": {},
   "outputs": [
    {
     "data": {
      "text/plain": [
       "LogisticRegression()"
      ]
     },
     "execution_count": 7,
     "metadata": {},
     "output_type": "execute_result"
    }
   ],
   "source": [
    "X = df[['X1','X2']]\n",
    "y = df['y']\n",
    "reg.fit(X,y)"
   ]
  },
  {
   "cell_type": "markdown",
   "id": "a460da10-113b-4966-8a9f-686ec388518c",
   "metadata": {},
   "source": [
    "## Accuracy"
   ]
  },
  {
   "cell_type": "code",
   "execution_count": 8,
   "id": "28b441ff-2c14-4f23-9b33-658f03e54540",
   "metadata": {},
   "outputs": [],
   "source": [
    "y_pred=reg.predict(X)"
   ]
  },
  {
   "cell_type": "code",
   "execution_count": 9,
   "id": "6f1c167c-e17d-4b01-ab46-9aedfc57d276",
   "metadata": {},
   "outputs": [
    {
     "data": {
      "text/plain": [
       "0      True\n",
       "1      True\n",
       "2     False\n",
       "3      True\n",
       "4      True\n",
       "      ...  \n",
       "95    False\n",
       "96     True\n",
       "97    False\n",
       "98     True\n",
       "99     True\n",
       "Name: y, Length: 100, dtype: bool"
      ]
     },
     "execution_count": 9,
     "metadata": {},
     "output_type": "execute_result"
    }
   ],
   "source": [
    "y==y_pred"
   ]
  },
  {
   "cell_type": "code",
   "execution_count": 10,
   "id": "4b0ed9be-8f32-4bcd-8d5e-c654fed36c62",
   "metadata": {},
   "outputs": [],
   "source": [
    "import numpy as np"
   ]
  },
  {
   "cell_type": "code",
   "execution_count": 11,
   "id": "06c07845-813e-49da-8782-c0a9ad77940e",
   "metadata": {},
   "outputs": [
    {
     "data": {
      "text/plain": [
       "89"
      ]
     },
     "execution_count": 11,
     "metadata": {},
     "output_type": "execute_result"
    }
   ],
   "source": [
    "np.sum(y==y_pred)"
   ]
  },
  {
   "cell_type": "code",
   "execution_count": 12,
   "id": "427326c9-3a85-449e-89e6-b814f21e6c4a",
   "metadata": {
    "tags": []
   },
   "outputs": [
    {
     "data": {
      "text/plain": [
       "0.89"
      ]
     },
     "execution_count": 12,
     "metadata": {},
     "output_type": "execute_result"
    }
   ],
   "source": [
    "np.sum(y==y_pred)/y.count()"
   ]
  },
  {
   "cell_type": "markdown",
   "id": "84d6f3c9-98b2-4fbc-a858-3aa01580a9bb",
   "metadata": {},
   "source": [
    "## Precision"
   ]
  },
  {
   "cell_type": "code",
   "execution_count": 13,
   "id": "beec98ae-9ca5-4665-be3a-7141dc1905be",
   "metadata": {},
   "outputs": [],
   "source": [
    "df['y_pred']=y_pred"
   ]
  },
  {
   "cell_type": "code",
   "execution_count": 14,
   "id": "9dc8a49e-f063-45ba-8abf-195d21331b48",
   "metadata": {},
   "outputs": [
    {
     "data": {
      "text/html": [
       "<div>\n",
       "<style scoped>\n",
       "    .dataframe tbody tr th:only-of-type {\n",
       "        vertical-align: middle;\n",
       "    }\n",
       "\n",
       "    .dataframe tbody tr th {\n",
       "        vertical-align: top;\n",
       "    }\n",
       "\n",
       "    .dataframe thead th {\n",
       "        text-align: right;\n",
       "    }\n",
       "</style>\n",
       "<table border=\"1\" class=\"dataframe\">\n",
       "  <thead>\n",
       "    <tr style=\"text-align: right;\">\n",
       "      <th></th>\n",
       "      <th>X1</th>\n",
       "      <th>X2</th>\n",
       "      <th>y</th>\n",
       "      <th>y_pred</th>\n",
       "    </tr>\n",
       "  </thead>\n",
       "  <tbody>\n",
       "    <tr>\n",
       "      <th>0</th>\n",
       "      <td>-2.056844</td>\n",
       "      <td>-0.752741</td>\n",
       "      <td>0</td>\n",
       "      <td>0</td>\n",
       "    </tr>\n",
       "    <tr>\n",
       "      <th>1</th>\n",
       "      <td>1.760238</td>\n",
       "      <td>1.558517</td>\n",
       "      <td>1</td>\n",
       "      <td>1</td>\n",
       "    </tr>\n",
       "    <tr>\n",
       "      <th>2</th>\n",
       "      <td>-0.447763</td>\n",
       "      <td>-1.554927</td>\n",
       "      <td>1</td>\n",
       "      <td>0</td>\n",
       "    </tr>\n",
       "    <tr>\n",
       "      <th>3</th>\n",
       "      <td>1.008459</td>\n",
       "      <td>0.529517</td>\n",
       "      <td>1</td>\n",
       "      <td>1</td>\n",
       "    </tr>\n",
       "    <tr>\n",
       "      <th>4</th>\n",
       "      <td>0.636547</td>\n",
       "      <td>0.409058</td>\n",
       "      <td>1</td>\n",
       "      <td>1</td>\n",
       "    </tr>\n",
       "    <tr>\n",
       "      <th>...</th>\n",
       "      <td>...</td>\n",
       "      <td>...</td>\n",
       "      <td>...</td>\n",
       "      <td>...</td>\n",
       "    </tr>\n",
       "    <tr>\n",
       "      <th>95</th>\n",
       "      <td>-0.129932</td>\n",
       "      <td>-0.797169</td>\n",
       "      <td>0</td>\n",
       "      <td>1</td>\n",
       "    </tr>\n",
       "    <tr>\n",
       "      <th>96</th>\n",
       "      <td>1.426902</td>\n",
       "      <td>1.244639</td>\n",
       "      <td>1</td>\n",
       "      <td>1</td>\n",
       "    </tr>\n",
       "    <tr>\n",
       "      <th>97</th>\n",
       "      <td>-0.582968</td>\n",
       "      <td>1.630750</td>\n",
       "      <td>1</td>\n",
       "      <td>0</td>\n",
       "    </tr>\n",
       "    <tr>\n",
       "      <th>98</th>\n",
       "      <td>-0.619720</td>\n",
       "      <td>1.630840</td>\n",
       "      <td>0</td>\n",
       "      <td>0</td>\n",
       "    </tr>\n",
       "    <tr>\n",
       "      <th>99</th>\n",
       "      <td>1.938929</td>\n",
       "      <td>0.069963</td>\n",
       "      <td>1</td>\n",
       "      <td>1</td>\n",
       "    </tr>\n",
       "  </tbody>\n",
       "</table>\n",
       "<p>100 rows × 4 columns</p>\n",
       "</div>"
      ],
      "text/plain": [
       "          X1        X2  y  y_pred\n",
       "0  -2.056844 -0.752741  0       0\n",
       "1   1.760238  1.558517  1       1\n",
       "2  -0.447763 -1.554927  1       0\n",
       "3   1.008459  0.529517  1       1\n",
       "4   0.636547  0.409058  1       1\n",
       "..       ...       ... ..     ...\n",
       "95 -0.129932 -0.797169  0       1\n",
       "96  1.426902  1.244639  1       1\n",
       "97 -0.582968  1.630750  1       0\n",
       "98 -0.619720  1.630840  0       0\n",
       "99  1.938929  0.069963  1       1\n",
       "\n",
       "[100 rows x 4 columns]"
      ]
     },
     "execution_count": 14,
     "metadata": {},
     "output_type": "execute_result"
    }
   ],
   "source": [
    "df"
   ]
  },
  {
   "cell_type": "markdown",
   "id": "9954f66e-fc82-4718-8200-85af4fc4da7a",
   "metadata": {},
   "source": [
    "## Confusion Matrix"
   ]
  },
  {
   "cell_type": "code",
   "execution_count": 15,
   "id": "52c7b95c-acdf-44f1-84fd-6fbce67f8985",
   "metadata": {},
   "outputs": [
    {
     "data": {
      "text/plain": [
       "49"
      ]
     },
     "execution_count": 15,
     "metadata": {},
     "output_type": "execute_result"
    }
   ],
   "source": [
    "df[df['y_pred']==1]\n",
    "len(df[df['y_pred']==1])"
   ]
  },
  {
   "cell_type": "markdown",
   "id": "2311a4cb-b60e-4db1-9a01-1a7232586ca7",
   "metadata": {},
   "source": [
    "### True Positive"
   ]
  },
  {
   "cell_type": "code",
   "execution_count": 16,
   "id": "9c98e41e-d58f-4320-9c33-dabfbd8445f3",
   "metadata": {},
   "outputs": [
    {
     "data": {
      "text/plain": [
       "44"
      ]
     },
     "execution_count": 16,
     "metadata": {},
     "output_type": "execute_result"
    }
   ],
   "source": [
    "df[(df['y_pred']==1)&(df['y']==1)]\n",
    "tp=len(df[(df['y_pred']==1)&(df['y']==1)])\n",
    "tp"
   ]
  },
  {
   "cell_type": "markdown",
   "id": "e1e3306e-11f9-46a0-a0dc-733073bf25d7",
   "metadata": {},
   "source": [
    "### False Positive"
   ]
  },
  {
   "cell_type": "code",
   "execution_count": 17,
   "id": "1aa88a70-982c-4e8b-abf3-748cac76ee51",
   "metadata": {},
   "outputs": [
    {
     "data": {
      "text/plain": [
       "5"
      ]
     },
     "execution_count": 17,
     "metadata": {},
     "output_type": "execute_result"
    }
   ],
   "source": [
    "fp=len(df[(df['y_pred']==1)&(df['y']==0)])\n",
    "fp"
   ]
  },
  {
   "cell_type": "markdown",
   "id": "705be847-88a4-459f-a233-e5d3d173375e",
   "metadata": {},
   "source": [
    "### True Negative"
   ]
  },
  {
   "cell_type": "code",
   "execution_count": 18,
   "id": "f28b2d1a-3c04-4304-8929-c47a75bde6dd",
   "metadata": {},
   "outputs": [
    {
     "data": {
      "text/plain": [
       "45"
      ]
     },
     "execution_count": 18,
     "metadata": {},
     "output_type": "execute_result"
    }
   ],
   "source": [
    "tn=len(df[(df['y_pred']==0)&(df['y']==0)]) \n",
    "tn"
   ]
  },
  {
   "cell_type": "markdown",
   "id": "770da9e2-f92e-46e0-92f4-e3c599bc097a",
   "metadata": {},
   "source": [
    "### False Negative"
   ]
  },
  {
   "cell_type": "code",
   "execution_count": 19,
   "id": "9fdc0b41-b7b3-4e3c-8bd5-78ccce277231",
   "metadata": {},
   "outputs": [
    {
     "data": {
      "text/plain": [
       "6"
      ]
     },
     "execution_count": 19,
     "metadata": {},
     "output_type": "execute_result"
    }
   ],
   "source": [
    "fn=len(df[(df['y_pred']==0)&(df['y']==1)]) \n",
    "fn"
   ]
  },
  {
   "cell_type": "markdown",
   "id": "4ab19aac-6979-4809-af92-cbf2edc1501b",
   "metadata": {},
   "source": [
    "### Precision"
   ]
  },
  {
   "cell_type": "code",
   "execution_count": 20,
   "id": "4a72f164-04b5-4b1e-8d8a-3beb6c71c6e0",
   "metadata": {},
   "outputs": [
    {
     "data": {
      "text/plain": [
       "0.8979591836734694"
      ]
     },
     "execution_count": 20,
     "metadata": {},
     "output_type": "execute_result"
    }
   ],
   "source": [
    "tp/(tp+fp)"
   ]
  },
  {
   "cell_type": "markdown",
   "id": "ced31800-9acc-47b3-892c-6124db73a836",
   "metadata": {},
   "source": [
    "### Recall(True Positive Rate)"
   ]
  },
  {
   "cell_type": "code",
   "execution_count": 21,
   "id": "013cca88-1983-4caf-bd95-9b5f280f0140",
   "metadata": {},
   "outputs": [
    {
     "data": {
      "text/plain": [
       "0.88"
      ]
     },
     "execution_count": 21,
     "metadata": {},
     "output_type": "execute_result"
    }
   ],
   "source": [
    "tp/(tp+fn)"
   ]
  },
  {
   "cell_type": "markdown",
   "id": "68c3650b-3269-42f5-9622-7140a1a7ce1d",
   "metadata": {},
   "source": [
    "### False Positive Rate"
   ]
  },
  {
   "cell_type": "code",
   "execution_count": 22,
   "id": "36c86548-7570-4a32-b699-467d68e50b0e",
   "metadata": {},
   "outputs": [
    {
     "data": {
      "text/plain": [
       "0.1"
      ]
     },
     "execution_count": 22,
     "metadata": {},
     "output_type": "execute_result"
    }
   ],
   "source": [
    "fp/(fp+tn)"
   ]
  },
  {
   "cell_type": "markdown",
   "id": "906082b3-e63d-4f9d-a94d-14f95ed87675",
   "metadata": {},
   "source": [
    "## sklearn을 이용한 confusion matrix 구하기"
   ]
  },
  {
   "cell_type": "code",
   "execution_count": 23,
   "id": "7d0a1d0d-d561-47fa-9cf3-06dcbbedb6c3",
   "metadata": {},
   "outputs": [],
   "source": [
    "from sklearn.metrics import confusion_matrix"
   ]
  },
  {
   "cell_type": "code",
   "execution_count": 24,
   "id": "05998a93-f4e5-4f9e-a826-fbe4ca964c0f",
   "metadata": {},
   "outputs": [
    {
     "data": {
      "text/plain": [
       "array([[45,  5],\n",
       "       [ 6, 44]])"
      ]
     },
     "execution_count": 24,
     "metadata": {},
     "output_type": "execute_result"
    }
   ],
   "source": [
    "confusion_matrix(y,y_pred)"
   ]
  },
  {
   "cell_type": "markdown",
   "id": "19f26165-1731-4242-9cb0-de971df4df5d",
   "metadata": {},
   "source": [
    "## decision threashold에 따라 달라지는 예측값 확인"
   ]
  },
  {
   "cell_type": "code",
   "execution_count": 25,
   "id": "e1c9caf5-3518-4b40-a71e-c6e795c66559",
   "metadata": {},
   "outputs": [
    {
     "data": {
      "text/plain": [
       "array([0, 1, 0, 1, 1, 1, 1, 1, 0, 0, 0, 1, 0, 0, 0, 1, 0, 1, 1, 0, 1, 0,\n",
       "       0, 1, 0, 0, 0, 0, 1, 0, 1, 0, 1, 1, 0, 1, 0, 1, 0, 0, 1, 0, 1, 0,\n",
       "       0, 0, 1, 0, 0, 0, 0, 1, 0, 0, 0, 1, 0, 0, 1, 0, 0, 0, 0, 0, 0, 0,\n",
       "       0, 0, 0, 0, 0, 1, 1, 1, 0, 0, 0, 0, 0, 1, 1, 0, 0, 1, 1, 1, 0, 0,\n",
       "       0, 0, 0, 1, 1, 0, 1, 0, 1, 0, 0, 1])"
      ]
     },
     "execution_count": 25,
     "metadata": {},
     "output_type": "execute_result"
    }
   ],
   "source": [
    "def predict_th(logreg, th=0.5):\n",
    "    result=[]\n",
    "    for i in logreg.predict_proba(X)[:,1]:\n",
    "        if i>th:\n",
    "            result.append(1)\n",
    "        else:\n",
    "            result.append(0)\n",
    "    return np.array(result)\n",
    "\n",
    "y_hat=predict_th(reg,0.8)\n",
    "y_hat"
   ]
  },
  {
   "cell_type": "code",
   "execution_count": 26,
   "id": "b397caf8-78bf-48f1-ab0e-684718452c43",
   "metadata": {},
   "outputs": [
    {
     "data": {
      "text/plain": [
       "array([[49,  1],\n",
       "       [14, 36]])"
      ]
     },
     "execution_count": 26,
     "metadata": {},
     "output_type": "execute_result"
    }
   ],
   "source": [
    "confusion_matrix(y,y_hat)"
   ]
  },
  {
   "cell_type": "markdown",
   "id": "68b68837-e4d2-4ddf-b4c1-b12435f47dbe",
   "metadata": {},
   "source": [
    "## ROC_AUC"
   ]
  },
  {
   "cell_type": "code",
   "execution_count": 27,
   "id": "64f2319a-397e-4517-886b-61625123bf97",
   "metadata": {},
   "outputs": [],
   "source": [
    "def get_tpr_fpr(logreg, th, y):\n",
    "    y_hat = predict_th(logreg,th)\n",
    "    cm = confusion_matrix(y,y_hat)\n",
    "    tp,fp,tn,fn = cm[1][1],cm[0][1],cm[0][0],cm[1][0]\n",
    "    tpr = tp/(tp+fn)\n",
    "    fpr = fp/(tn+fp)\n",
    "    return tpr,fpr\n",
    "    "
   ]
  },
  {
   "cell_type": "code",
   "execution_count": 28,
   "id": "ad1b9c0e-0de6-4c00-808d-5f2b6905d926",
   "metadata": {},
   "outputs": [],
   "source": [
    "tpr_result=[]\n",
    "fpr_result=[]\n",
    "for th in np.arange(0,1,0.05):\n",
    "    tpr,fpr=get_tpr_fpr(reg,th,y)\n",
    "    tpr_result.append(tpr)\n",
    "    fpr_result.append(fpr)\n",
    "    "
   ]
  },
  {
   "cell_type": "code",
   "execution_count": 29,
   "id": "44150ccc-cb90-4b0f-b160-7dffb43b978b",
   "metadata": {},
   "outputs": [
    {
     "data": {
      "text/plain": [
       "[<matplotlib.lines.Line2D at 0x7f95f0c576a0>]"
      ]
     },
     "execution_count": 29,
     "metadata": {},
     "output_type": "execute_result"
    },
    {
     "data": {
      "image/png": "[encoded data removed]",
      "text/plain": [
       "<Figure size 432x288 with 1 Axes>"
      ]
     },
     "metadata": {
      "needs_background": "light"
     },
     "output_type": "display_data"
    }
   ],
   "source": [
    "plt.plot(fpr_result,tpr_result)"
   ]
  },
  {
   "cell_type": "markdown",
   "id": "42c51f6f-f2a7-415b-b978-d1b21ec03b74",
   "metadata": {},
   "source": [
    "## Sklearn을 이용하여 계산하기"
   ]
  },
  {
   "cell_type": "code",
   "execution_count": 33,
   "id": "63b784a8-84d7-4483-a178-eea7836ea242",
   "metadata": {},
   "outputs": [],
   "source": [
    "from sklearn.metrics import roc_auc_score"
   ]
  },
  {
   "cell_type": "code",
   "execution_count": 35,
   "id": "300a3793-4ddc-4568-b1f2-27d0d724bb8e",
   "metadata": {},
   "outputs": [
    {
     "data": {
      "text/plain": [
       "0.9672000000000001"
      ]
     },
     "execution_count": 35,
     "metadata": {},
     "output_type": "execute_result"
    }
   ],
   "source": [
    "roc_auc_score(y,reg.predict_proba(X)[:,1])"
   ]
  }
 ],
 "metadata": {
  "kernelspec": {
   "display_name": "Python 3 (ipykernel)",
   "language": "python",
   "name": "python3"
  },
  "language_info": {
   "codemirror_mode": {
    "name": "ipython",
    "version": 3
   },
   "file_extension": ".py",
   "mimetype": "text/x-python",
   "name": "python",
   "nbconvert_exporter": "python",
   "pygments_lexer": "ipython3",
   "version": "3.8.10"
  }
 },
 "nbformat": 4,
 "nbformat_minor": 5
}
