{
 "cells": [
  {
   "cell_type": "markdown",
   "id": "6004c80a-6c43-41bc-aede-abd6ad6c19cc",
   "metadata": {},
   "source": [
    "## 로지스틱회귀"
   ]
  },
  {
   "cell_type": "code",
   "execution_count": 1,
   "id": "3f316b4f-67d7-451c-8472-53a18bf38344",
   "metadata": {},
   "outputs": [],
   "source": [
    "import pandas as pd"
   ]
  },
  {
   "cell_type": "code",
   "execution_count": 2,
   "id": "60e1fc89-8124-454c-899a-71c2b78250c1",
   "metadata": {},
   "outputs": [],
   "source": [
    "df=pd.read_csv('https://raw.githubusercontent.com/ralbu85/DataScience_2022S/master/data/classification_data.csv')"
   ]
  },
  {
   "cell_type": "code",
   "execution_count": 3,
   "id": "ccda1c47-5d76-4b8c-9955-7ba26c29b97d",
   "metadata": {},
   "outputs": [
    {
     "data": {
      "text/html": [
       "<div>\n",
       "<style scoped>\n",
       "    .dataframe tbody tr th:only-of-type {\n",
       "        vertical-align: middle;\n",
       "    }\n",
       "\n",
       "    .dataframe tbody tr th {\n",
       "        vertical-align: top;\n",
       "    }\n",
       "\n",
       "    .dataframe thead th {\n",
       "        text-align: right;\n",
       "    }\n",
       "</style>\n",
       "<table border=\"1\" class=\"dataframe\">\n",
       "  <thead>\n",
       "    <tr style=\"text-align: right;\">\n",
       "      <th></th>\n",
       "      <th>X1</th>\n",
       "      <th>X2</th>\n",
       "      <th>y</th>\n",
       "    </tr>\n",
       "  </thead>\n",
       "  <tbody>\n",
       "    <tr>\n",
       "      <th>0</th>\n",
       "      <td>-2.056844</td>\n",
       "      <td>-0.752741</td>\n",
       "      <td>0</td>\n",
       "    </tr>\n",
       "    <tr>\n",
       "      <th>1</th>\n",
       "      <td>1.760238</td>\n",
       "      <td>1.558517</td>\n",
       "      <td>1</td>\n",
       "    </tr>\n",
       "    <tr>\n",
       "      <th>2</th>\n",
       "      <td>-0.447763</td>\n",
       "      <td>-1.554927</td>\n",
       "      <td>1</td>\n",
       "    </tr>\n",
       "    <tr>\n",
       "      <th>3</th>\n",
       "      <td>1.008459</td>\n",
       "      <td>0.529517</td>\n",
       "      <td>1</td>\n",
       "    </tr>\n",
       "    <tr>\n",
       "      <th>4</th>\n",
       "      <td>0.636547</td>\n",
       "      <td>0.409058</td>\n",
       "      <td>1</td>\n",
       "    </tr>\n",
       "    <tr>\n",
       "      <th>...</th>\n",
       "      <td>...</td>\n",
       "      <td>...</td>\n",
       "      <td>...</td>\n",
       "    </tr>\n",
       "    <tr>\n",
       "      <th>95</th>\n",
       "      <td>-0.129932</td>\n",
       "      <td>-0.797169</td>\n",
       "      <td>0</td>\n",
       "    </tr>\n",
       "    <tr>\n",
       "      <th>96</th>\n",
       "      <td>1.426902</td>\n",
       "      <td>1.244639</td>\n",
       "      <td>1</td>\n",
       "    </tr>\n",
       "    <tr>\n",
       "      <th>97</th>\n",
       "      <td>-0.582968</td>\n",
       "      <td>1.630750</td>\n",
       "      <td>1</td>\n",
       "    </tr>\n",
       "    <tr>\n",
       "      <th>98</th>\n",
       "      <td>-0.619720</td>\n",
       "      <td>1.630840</td>\n",
       "      <td>0</td>\n",
       "    </tr>\n",
       "    <tr>\n",
       "      <th>99</th>\n",
       "      <td>1.938929</td>\n",
       "      <td>0.069963</td>\n",
       "      <td>1</td>\n",
       "    </tr>\n",
       "  </tbody>\n",
       "</table>\n",
       "<p>100 rows × 3 columns</p>\n",
       "</div>"
      ],
      "text/plain": [
       "          X1        X2  y\n",
       "0  -2.056844 -0.752741  0\n",
       "1   1.760238  1.558517  1\n",
       "2  -0.447763 -1.554927  1\n",
       "3   1.008459  0.529517  1\n",
       "4   0.636547  0.409058  1\n",
       "..       ...       ... ..\n",
       "95 -0.129932 -0.797169  0\n",
       "96  1.426902  1.244639  1\n",
       "97 -0.582968  1.630750  1\n",
       "98 -0.619720  1.630840  0\n",
       "99  1.938929  0.069963  1\n",
       "\n",
       "[100 rows x 3 columns]"
      ]
     },
     "execution_count": 3,
     "metadata": {},
     "output_type": "execute_result"
    }
   ],
   "source": [
    "df"
   ]
  },
  {
   "cell_type": "markdown",
   "id": "65b0641a-dbb0-4234-949d-793d46ab6e4e",
   "metadata": {},
   "source": [
    "## 2차원 평면에 그려보기"
   ]
  },
  {
   "cell_type": "code",
   "execution_count": 4,
   "id": "3730f817-b905-49f4-810c-6d0ecd78c81b",
   "metadata": {},
   "outputs": [],
   "source": [
    "import matplotlib.pyplot as plt"
   ]
  },
  {
   "cell_type": "code",
   "execution_count": 5,
   "id": "fb981d5f-d347-4b1d-acc2-6db3c345e24d",
   "metadata": {},
   "outputs": [
    {
     "data": {
      "text/plain": [
       "<matplotlib.collections.PathCollection at 0x7f1f04dfdca0>"
      ]
     },
     "execution_count": 5,
     "metadata": {},
     "output_type": "execute_result"
    },
    {
     "data": {
      "image/png": "[encoded data removed]",
      "text/plain": [
       "<Figure size 432x288 with 1 Axes>"
      ]
     },
     "metadata": {
      "needs_background": "light"
     },
     "output_type": "display_data"
    }
   ],
   "source": [
    "plt.scatter(df['X1'],df['X2'])"
   ]
  },
  {
   "cell_type": "markdown",
   "id": "d4cd643a-d447-4486-ab17-cc42f5b98da5",
   "metadata": {},
   "source": [
    "## 클래스에 따라 색깔 구분하기"
   ]
  },
  {
   "cell_type": "code",
   "execution_count": 7,
   "id": "b81723a2-dbdc-47df-a541-d32dc15e1a2d",
   "metadata": {},
   "outputs": [
    {
     "data": {
      "text/plain": [
       "<matplotlib.collections.PathCollection at 0x7f1efbc28c10>"
      ]
     },
     "execution_count": 7,
     "metadata": {},
     "output_type": "execute_result"
    },
    {
     "data": {
      "image/png": "[encoded data removed]",
      "text/plain": [
       "<Figure size 432x288 with 1 Axes>"
      ]
     },
     "metadata": {
      "needs_background": "light"
     },
     "output_type": "display_data"
    }
   ],
   "source": [
    "plt.scatter(df['X1'],df['X2'],c=df['y'])"
   ]
  },
  {
   "cell_type": "markdown",
   "id": "381be86a-3b6e-4ddd-b7bc-fdbce8f5fdba",
   "metadata": {},
   "source": [
    "## 로지스틱 함수"
   ]
  },
  {
   "cell_type": "code",
   "execution_count": 8,
   "id": "d4bf3c89-4c6a-48a1-a3f9-6efb7951043b",
   "metadata": {},
   "outputs": [],
   "source": [
    "import numpy as np"
   ]
  },
  {
   "cell_type": "code",
   "execution_count": 10,
   "id": "55544107-8e66-4d60-b0ca-2c003c9b1ee8",
   "metadata": {},
   "outputs": [
    {
     "data": {
      "text/plain": [
       "array([-10.        ,  -9.7979798 ,  -9.5959596 ,  -9.39393939,\n",
       "        -9.19191919,  -8.98989899,  -8.78787879,  -8.58585859,\n",
       "        -8.38383838,  -8.18181818,  -7.97979798,  -7.77777778,\n",
       "        -7.57575758,  -7.37373737,  -7.17171717,  -6.96969697,\n",
       "        -6.76767677,  -6.56565657,  -6.36363636,  -6.16161616,\n",
       "        -5.95959596,  -5.75757576,  -5.55555556,  -5.35353535,\n",
       "        -5.15151515,  -4.94949495,  -4.74747475,  -4.54545455,\n",
       "        -4.34343434,  -4.14141414,  -3.93939394,  -3.73737374,\n",
       "        -3.53535354,  -3.33333333,  -3.13131313,  -2.92929293,\n",
       "        -2.72727273,  -2.52525253,  -2.32323232,  -2.12121212,\n",
       "        -1.91919192,  -1.71717172,  -1.51515152,  -1.31313131,\n",
       "        -1.11111111,  -0.90909091,  -0.70707071,  -0.50505051,\n",
       "        -0.3030303 ,  -0.1010101 ,   0.1010101 ,   0.3030303 ,\n",
       "         0.50505051,   0.70707071,   0.90909091,   1.11111111,\n",
       "         1.31313131,   1.51515152,   1.71717172,   1.91919192,\n",
       "         2.12121212,   2.32323232,   2.52525253,   2.72727273,\n",
       "         2.92929293,   3.13131313,   3.33333333,   3.53535354,\n",
       "         3.73737374,   3.93939394,   4.14141414,   4.34343434,\n",
       "         4.54545455,   4.74747475,   4.94949495,   5.15151515,\n",
       "         5.35353535,   5.55555556,   5.75757576,   5.95959596,\n",
       "         6.16161616,   6.36363636,   6.56565657,   6.76767677,\n",
       "         6.96969697,   7.17171717,   7.37373737,   7.57575758,\n",
       "         7.77777778,   7.97979798,   8.18181818,   8.38383838,\n",
       "         8.58585859,   8.78787879,   8.98989899,   9.19191919,\n",
       "         9.39393939,   9.5959596 ,   9.7979798 ,  10.        ])"
      ]
     },
     "execution_count": 10,
     "metadata": {},
     "output_type": "execute_result"
    }
   ],
   "source": [
    "z=np.linspace(-10,10,100)\n",
    "z"
   ]
  },
  {
   "cell_type": "code",
   "execution_count": 33,
   "id": "9393a00b-8065-45d6-9e73-997ceb7db407",
   "metadata": {},
   "outputs": [],
   "source": [
    "def sigmoid(z):\n",
    "    return 1/(1+np.exp(-1*z))"
   ]
  },
  {
   "cell_type": "code",
   "execution_count": 34,
   "id": "e3df1657-f82e-4d96-a591-049d3aa299d1",
   "metadata": {},
   "outputs": [
    {
     "data": {
      "text/plain": [
       "array([4.53978687e-05, 5.55606489e-05, 6.79983174e-05, 8.32200197e-05,\n",
       "       1.01848815e-04, 1.24647146e-04, 1.52547986e-04, 1.86692945e-04,\n",
       "       2.28478855e-04, 2.79614739e-04, 3.42191434e-04, 4.18766684e-04,\n",
       "       5.12469082e-04, 6.27124987e-04, 7.67413430e-04, 9.39055039e-04,\n",
       "       1.14904229e-03, 1.40591988e-03, 1.72012560e-03, 2.10440443e-03,\n",
       "       2.57431039e-03, 3.14881358e-03, 3.85103236e-03, 4.70911357e-03,\n",
       "       5.75728612e-03, 7.03711536e-03, 8.59898661e-03, 1.05038445e-02,\n",
       "       1.28252101e-02, 1.56514861e-02, 1.90885420e-02, 2.32625358e-02,\n",
       "       2.83228820e-02, 3.44451957e-02, 4.18339400e-02, 5.07243606e-02,\n",
       "       6.13831074e-02, 7.41067363e-02, 8.92170603e-02, 1.07052146e-01,\n",
       "       1.27951705e-01, 1.52235823e-01, 1.80176593e-01, 2.11963334e-01,\n",
       "       2.47663801e-01, 2.87185901e-01, 3.30246430e-01, 3.76354517e-01,\n",
       "       4.24816868e-01, 4.74768924e-01, 5.25231076e-01, 5.75183132e-01,\n",
       "       6.23645483e-01, 6.69753570e-01, 7.12814099e-01, 7.52336199e-01,\n",
       "       7.88036666e-01, 8.19823407e-01, 8.47764177e-01, 8.72048295e-01,\n",
       "       8.92947854e-01, 9.10782940e-01, 9.25893264e-01, 9.38616893e-01,\n",
       "       9.49275639e-01, 9.58166060e-01, 9.65554804e-01, 9.71677118e-01,\n",
       "       9.76737464e-01, 9.80911458e-01, 9.84348514e-01, 9.87174790e-01,\n",
       "       9.89496155e-01, 9.91401013e-01, 9.92962885e-01, 9.94242714e-01,\n",
       "       9.95290886e-01, 9.96148968e-01, 9.96851186e-01, 9.97425690e-01,\n",
       "       9.97895596e-01, 9.98279874e-01, 9.98594080e-01, 9.98850958e-01,\n",
       "       9.99060945e-01, 9.99232587e-01, 9.99372875e-01, 9.99487531e-01,\n",
       "       9.99581233e-01, 9.99657809e-01, 9.99720385e-01, 9.99771521e-01,\n",
       "       9.99813307e-01, 9.99847452e-01, 9.99875353e-01, 9.99898151e-01,\n",
       "       9.99916780e-01, 9.99932002e-01, 9.99944439e-01, 9.99954602e-01])"
      ]
     },
     "execution_count": 34,
     "metadata": {},
     "output_type": "execute_result"
    }
   ],
   "source": [
    "sigmoid(z)"
   ]
  },
  {
   "cell_type": "code",
   "execution_count": 35,
   "id": "66969daf-2f55-49bc-b19a-192f0a9d2fbf",
   "metadata": {},
   "outputs": [
    {
     "data": {
      "text/plain": [
       "[<matplotlib.lines.Line2D at 0x7f1ea86d0e50>]"
      ]
     },
     "execution_count": 35,
     "metadata": {},
     "output_type": "execute_result"
    },
    {
     "data": {
      "image/png": "[encoded data removed]",
      "text/plain": [
       "<Figure size 432x288 with 1 Axes>"
      ]
     },
     "metadata": {
      "needs_background": "light"
     },
     "output_type": "display_data"
    }
   ],
   "source": [
    "plt.plot(z,sigmoid(z))"
   ]
  },
  {
   "cell_type": "markdown",
   "id": "d0519e66-f6d6-4fd2-b505-42514bc292b5",
   "metadata": {},
   "source": [
    "## 로지스틱 회귀"
   ]
  },
  {
   "cell_type": "code",
   "execution_count": 15,
   "id": "130c1f60-55c1-4838-9064-0be1699b0ef3",
   "metadata": {
    "tags": []
   },
   "outputs": [],
   "source": [
    "from sklearn.linear_model import LogisticRegression"
   ]
  },
  {
   "cell_type": "code",
   "execution_count": 16,
   "id": "f872696c-02a3-4042-89e0-b421329762d8",
   "metadata": {},
   "outputs": [],
   "source": [
    "reg=LogisticRegression()"
   ]
  },
  {
   "cell_type": "markdown",
   "id": "e75f003d-597d-4d3d-ab34-fb9b8699a8da",
   "metadata": {},
   "source": [
    "### 데이터 분할"
   ]
  },
  {
   "cell_type": "code",
   "execution_count": 17,
   "id": "d6f4caae-22c7-47dc-a967-96fb0dfb0a80",
   "metadata": {},
   "outputs": [],
   "source": [
    "X = df[['X1','X2']]"
   ]
  },
  {
   "cell_type": "code",
   "execution_count": 18,
   "id": "81aa4c50-4178-4a25-874a-ee65c571f70e",
   "metadata": {},
   "outputs": [],
   "source": [
    "y = df['y']"
   ]
  },
  {
   "cell_type": "code",
   "execution_count": 19,
   "id": "2aedc921-e597-43d6-928e-160be4edf860",
   "metadata": {},
   "outputs": [
    {
     "data": {
      "text/plain": [
       "LogisticRegression()"
      ]
     },
     "execution_count": 19,
     "metadata": {},
     "output_type": "execute_result"
    }
   ],
   "source": [
    "reg.fit(X,y)"
   ]
  },
  {
   "cell_type": "markdown",
   "id": "b7691452-f951-4b2f-a871-29d80a3bf7ae",
   "metadata": {},
   "source": [
    "### 학습결과"
   ]
  },
  {
   "cell_type": "code",
   "execution_count": 26,
   "id": "63f7631e-1569-469c-8cc5-23cfb21b5b51",
   "metadata": {},
   "outputs": [
    {
     "data": {
      "text/plain": [
       "array([[ 2.43054461, -0.36712609]])"
      ]
     },
     "execution_count": 26,
     "metadata": {},
     "output_type": "execute_result"
    }
   ],
   "source": [
    "W=reg.coef_\n",
    "W"
   ]
  },
  {
   "cell_type": "code",
   "execution_count": 27,
   "id": "fd471a4b-ed2d-4869-8a7d-8ada27764c4e",
   "metadata": {},
   "outputs": [
    {
     "data": {
      "text/plain": [
       "array([0.10689852])"
      ]
     },
     "execution_count": 27,
     "metadata": {},
     "output_type": "execute_result"
    }
   ],
   "source": [
    "b=reg.intercept_\n",
    "b"
   ]
  },
  {
   "cell_type": "markdown",
   "id": "dd5f37fe-653c-45ca-a681-e39c7a3d80e9",
   "metadata": {},
   "source": [
    "## 확률 계산해보기"
   ]
  },
  {
   "cell_type": "code",
   "execution_count": 51,
   "id": "0f7c7300-0516-419f-a380-43be033c4191",
   "metadata": {},
   "outputs": [
    {
     "data": {
      "text/plain": [
       "(100, 2)"
      ]
     },
     "execution_count": 51,
     "metadata": {},
     "output_type": "execute_result"
    }
   ],
   "source": [
    "np.array(X).shape"
   ]
  },
  {
   "cell_type": "code",
   "execution_count": 62,
   "id": "63a54973-af6d-4ba3-b8a5-bbf4283bd7eb",
   "metadata": {
    "collapsed": true,
    "jupyter": {
     "outputs_hidden": true
    },
    "tags": []
   },
   "outputs": [
    {
     "data": {
      "text/plain": [
       "array([[-4.61600238],\n",
       "       [ 3.81306237],\n",
       "       [-0.41055481],\n",
       "       [ 2.3636036 ],\n",
       "       [ 1.50387742],\n",
       "       [ 3.74246423],\n",
       "       [ 2.44026099],\n",
       "       [ 5.23731987],\n",
       "       [-3.77290719],\n",
       "       [ 0.46925461],\n",
       "       [-2.78700562],\n",
       "       [ 2.49815958],\n",
       "       [-3.31783252],\n",
       "       [-0.67765404],\n",
       "       [-1.91292558],\n",
       "       [ 5.45082282],\n",
       "       [-0.2311799 ],\n",
       "       [ 5.13228817],\n",
       "       [ 2.08471838],\n",
       "       [ 0.47039452],\n",
       "       [ 1.79713819],\n",
       "       [-2.69713339],\n",
       "       [-5.70749907],\n",
       "       [ 3.53573178],\n",
       "       [-0.32879591],\n",
       "       [-0.19784415],\n",
       "       [ 1.17835724],\n",
       "       [-3.26638161],\n",
       "       [ 1.74801706],\n",
       "       [-2.82291306],\n",
       "       [ 3.65725251],\n",
       "       [-0.77618101],\n",
       "       [ 4.09013878],\n",
       "       [ 3.40722494],\n",
       "       [-1.24078764],\n",
       "       [ 4.70220289],\n",
       "       [ 0.31967246],\n",
       "       [ 2.68163587],\n",
       "       [-0.88801225],\n",
       "       [ 0.8677343 ],\n",
       "       [ 4.06553144],\n",
       "       [-1.92142276],\n",
       "       [ 8.96793756],\n",
       "       [-1.19267962],\n",
       "       [-3.53077716],\n",
       "       [-2.0808738 ],\n",
       "       [ 3.43924025],\n",
       "       [-0.16588498],\n",
       "       [-1.76690732],\n",
       "       [-1.19684774],\n",
       "       [ 1.13047254],\n",
       "       [ 3.04565176],\n",
       "       [ 0.91782128],\n",
       "       [-4.35865716],\n",
       "       [-1.89906972],\n",
       "       [ 1.9369803 ],\n",
       "       [-1.38463496],\n",
       "       [ 1.15181198],\n",
       "       [ 2.70909908],\n",
       "       [-2.66372065],\n",
       "       [-1.68614391],\n",
       "       [-1.51238418],\n",
       "       [-3.17027817],\n",
       "       [-3.37982576],\n",
       "       [ 0.40538261],\n",
       "       [-1.08964408],\n",
       "       [-1.18113371],\n",
       "       [-3.89821355],\n",
       "       [-3.71388497],\n",
       "       [-4.90257046],\n",
       "       [ 0.52252097],\n",
       "       [ 4.73345224],\n",
       "       [ 3.36691676],\n",
       "       [ 3.44267597],\n",
       "       [-1.26119197],\n",
       "       [ 0.3334597 ],\n",
       "       [-5.5765385 ],\n",
       "       [-1.94135531],\n",
       "       [-7.189738  ],\n",
       "       [ 3.55031808],\n",
       "       [ 1.98756157],\n",
       "       [-3.61513624],\n",
       "       [-2.49908783],\n",
       "       [ 2.86637533],\n",
       "       [ 3.87321635],\n",
       "       [ 5.29185002],\n",
       "       [-3.36566122],\n",
       "       [-3.41886354],\n",
       "       [-5.7989079 ],\n",
       "       [-2.95359463],\n",
       "       [-1.77684131],\n",
       "       [ 5.52567937],\n",
       "       [ 4.23952716],\n",
       "       [-5.50118117],\n",
       "       [ 2.43474212],\n",
       "       [ 0.08375556],\n",
       "       [ 3.11810899],\n",
       "       [-1.90872215],\n",
       "       [-1.99808153],\n",
       "       [ 4.79386608]])"
      ]
     },
     "execution_count": 62,
     "metadata": {},
     "output_type": "execute_result"
    }
   ],
   "source": [
    "np.dot(X,W.T)+b"
   ]
  },
  {
   "cell_type": "code",
   "execution_count": 64,
   "id": "9cd5505b-a753-485d-91e5-9e9741eaa137",
   "metadata": {},
   "outputs": [
    {
     "data": {
      "text/plain": [
       "array([[9.79536428e-03],\n",
       "       [9.78396557e-01],\n",
       "       [3.98779096e-01],\n",
       "       [9.14009457e-01],\n",
       "       [8.18152067e-01],\n",
       "       [9.76852847e-01],\n",
       "       [9.19846332e-01],\n",
       "       [9.94713613e-01],\n",
       "       [2.24686977e-02],\n",
       "       [6.15207317e-01],\n",
       "       [5.80304202e-02],\n",
       "       [9.24012699e-01],\n",
       "       [3.49644700e-02],\n",
       "       [3.36785099e-01],\n",
       "       [1.28652535e-01],\n",
       "       [9.95725578e-01],\n",
       "       [4.42461057e-01],\n",
       "       [9.94131604e-01],\n",
       "       [8.89408990e-01],\n",
       "       [6.15477130e-01],\n",
       "       [8.57800212e-01],\n",
       "       [6.31427205e-02],\n",
       "       [3.30997536e-03],\n",
       "       [9.71687526e-01],\n",
       "       [4.18533625e-01],\n",
       "       [4.50699667e-01],\n",
       "       [7.64652303e-01],\n",
       "       [3.67426783e-02],\n",
       "       [8.51702521e-01],\n",
       "       [5.60984835e-02],\n",
       "       [9.74845753e-01],\n",
       "       [3.15143549e-01],\n",
       "       [9.83538602e-01],\n",
       "       [9.67929571e-01],\n",
       "       [2.24298915e-01],\n",
       "       [9.91006356e-01],\n",
       "       [5.79244426e-01],\n",
       "       [9.35934283e-01],\n",
       "       [2.91520200e-01],\n",
       "       [7.04274034e-01],\n",
       "       [9.83135422e-01],\n",
       "       [1.27702994e-01],\n",
       "       [9.99872585e-01],\n",
       "       [2.32780030e-01],\n",
       "       [2.84490994e-02],\n",
       "       [1.10969732e-01],\n",
       "       [9.68908637e-01],\n",
       "       [4.58623594e-01],\n",
       "       [1.45927355e-01],\n",
       "       [2.32036460e-01],\n",
       "       [7.55926094e-01],\n",
       "       [9.54594429e-01],\n",
       "       [7.14597968e-01],\n",
       "       [1.26339007e-02],\n",
       "       [1.30213800e-01],\n",
       "       [8.74020023e-01],\n",
       "       [2.00265636e-01],\n",
       "       [7.59841728e-01],\n",
       "       [9.37561430e-01],\n",
       "       [6.51483638e-02],\n",
       "       [1.56283626e-01],\n",
       "       [1.80585726e-01],\n",
       "       [4.02996557e-02],\n",
       "       [3.29319433e-02],\n",
       "       [5.99980199e-01],\n",
       "       [2.51685306e-01],\n",
       "       [2.34848413e-01],\n",
       "       [1.98750760e-02],\n",
       "       [2.38022523e-02],\n",
       "       [7.37270596e-03],\n",
       "       [6.27737063e-01],\n",
       "       [9.91280643e-01],\n",
       "       [9.66654450e-01],\n",
       "       [9.69011970e-01],\n",
       "       [2.20768769e-01],\n",
       "       [5.82600936e-01],\n",
       "       [3.77136980e-03],\n",
       "       [1.25499037e-01],\n",
       "       [7.53718197e-04],\n",
       "       [9.72086059e-01],\n",
       "       [8.79484925e-01],\n",
       "       [2.62079180e-02],\n",
       "       [7.59221512e-02],\n",
       "       [9.46158998e-01],\n",
       "       [9.79632088e-01],\n",
       "       [9.94992757e-01],\n",
       "       [3.33860443e-02],\n",
       "       [3.17111055e-02],\n",
       "       [3.02170457e-03],\n",
       "       [4.95668938e-02],\n",
       "       [1.44693606e-01],\n",
       "       [9.96032641e-01],\n",
       "       [9.85790417e-01],\n",
       "       [4.06535256e-03],\n",
       "       [9.19438487e-01],\n",
       "       [5.20926657e-01],\n",
       "       [9.57633574e-01],\n",
       "       [1.29124480e-01],\n",
       "       [1.19404496e-01],\n",
       "       [9.91787619e-01]])"
      ]
     },
     "execution_count": 64,
     "metadata": {},
     "output_type": "execute_result"
    }
   ],
   "source": [
    "sigmoid(np.dot(X,W.T)+b)"
   ]
  },
  {
   "cell_type": "code",
   "execution_count": 65,
   "id": "58bb1b82-767e-40b4-bfb3-1148c798a256",
   "metadata": {},
   "outputs": [
    {
     "data": {
      "text/plain": [
       "array([9.79536428e-03, 9.78396557e-01, 3.98779096e-01, 9.14009457e-01,\n",
       "       8.18152067e-01, 9.76852847e-01, 9.19846332e-01, 9.94713613e-01,\n",
       "       2.24686977e-02, 6.15207317e-01, 5.80304202e-02, 9.24012699e-01,\n",
       "       3.49644700e-02, 3.36785099e-01, 1.28652535e-01, 9.95725578e-01,\n",
       "       4.42461057e-01, 9.94131604e-01, 8.89408990e-01, 6.15477130e-01,\n",
       "       8.57800212e-01, 6.31427205e-02, 3.30997536e-03, 9.71687526e-01,\n",
       "       4.18533625e-01, 4.50699667e-01, 7.64652303e-01, 3.67426783e-02,\n",
       "       8.51702521e-01, 5.60984835e-02, 9.74845753e-01, 3.15143549e-01,\n",
       "       9.83538602e-01, 9.67929571e-01, 2.24298915e-01, 9.91006356e-01,\n",
       "       5.79244426e-01, 9.35934283e-01, 2.91520200e-01, 7.04274034e-01,\n",
       "       9.83135422e-01, 1.27702994e-01, 9.99872585e-01, 2.32780030e-01,\n",
       "       2.84490994e-02, 1.10969732e-01, 9.68908637e-01, 4.58623594e-01,\n",
       "       1.45927355e-01, 2.32036460e-01, 7.55926094e-01, 9.54594429e-01,\n",
       "       7.14597968e-01, 1.26339007e-02, 1.30213800e-01, 8.74020023e-01,\n",
       "       2.00265636e-01, 7.59841728e-01, 9.37561430e-01, 6.51483638e-02,\n",
       "       1.56283626e-01, 1.80585726e-01, 4.02996557e-02, 3.29319433e-02,\n",
       "       5.99980199e-01, 2.51685306e-01, 2.34848413e-01, 1.98750760e-02,\n",
       "       2.38022523e-02, 7.37270596e-03, 6.27737063e-01, 9.91280643e-01,\n",
       "       9.66654450e-01, 9.69011970e-01, 2.20768769e-01, 5.82600936e-01,\n",
       "       3.77136980e-03, 1.25499037e-01, 7.53718197e-04, 9.72086059e-01,\n",
       "       8.79484925e-01, 2.62079180e-02, 7.59221512e-02, 9.46158998e-01,\n",
       "       9.79632088e-01, 9.94992757e-01, 3.33860443e-02, 3.17111055e-02,\n",
       "       3.02170457e-03, 4.95668938e-02, 1.44693606e-01, 9.96032641e-01,\n",
       "       9.85790417e-01, 4.06535256e-03, 9.19438487e-01, 5.20926657e-01,\n",
       "       9.57633574e-01, 1.29124480e-01, 1.19404496e-01, 9.91787619e-01])"
      ]
     },
     "execution_count": 65,
     "metadata": {},
     "output_type": "execute_result"
    }
   ],
   "source": [
    "reg.predict_proba(X)[:,1]"
   ]
  },
  {
   "cell_type": "markdown",
   "id": "dc1bc15c-c388-4e23-bdaf-a13c84de4b30",
   "metadata": {},
   "source": [
    "## 정확도 측정"
   ]
  },
  {
   "cell_type": "code",
   "execution_count": 110,
   "id": "33a0cc68-775b-42b9-8a79-6079774f3af1",
   "metadata": {},
   "outputs": [],
   "source": [
    "y_pred=reg.predict(X)"
   ]
  },
  {
   "cell_type": "code",
   "execution_count": 112,
   "id": "8042d575-5c0f-462e-b6ba-4cdcb674b9a0",
   "metadata": {},
   "outputs": [
    {
     "data": {
      "text/plain": [
       "0      True\n",
       "1      True\n",
       "2     False\n",
       "3      True\n",
       "4      True\n",
       "      ...  \n",
       "95    False\n",
       "96     True\n",
       "97    False\n",
       "98     True\n",
       "99     True\n",
       "Name: y, Length: 100, dtype: bool"
      ]
     },
     "execution_count": 112,
     "metadata": {},
     "output_type": "execute_result"
    }
   ],
   "source": [
    "y==y_pred"
   ]
  },
  {
   "cell_type": "code",
   "execution_count": 115,
   "id": "4782cbfa-d6fd-4888-ae38-49b2067deaff",
   "metadata": {},
   "outputs": [
    {
     "data": {
      "text/plain": [
       "89"
      ]
     },
     "execution_count": 115,
     "metadata": {},
     "output_type": "execute_result"
    }
   ],
   "source": [
    "np.sum(y==y_pred)"
   ]
  },
  {
   "cell_type": "code",
   "execution_count": 116,
   "id": "86c4d743-dc28-4375-8161-0fd3967a62a6",
   "metadata": {
    "tags": []
   },
   "outputs": [
    {
     "data": {
      "text/plain": [
       "0.89"
      ]
     },
     "execution_count": 116,
     "metadata": {},
     "output_type": "execute_result"
    }
   ],
   "source": [
    "np.sum(y==y_pred)/y.count()"
   ]
  },
  {
   "cell_type": "markdown",
   "id": "8259ed2e-d4dc-4e2d-ad29-806f27376f08",
   "metadata": {},
   "source": [
    "## 의사결정의 경계선"
   ]
  },
  {
   "cell_type": "markdown",
   "id": "dc684ba3-82f7-441e-b04b-fd2ecb17e8f3",
   "metadata": {},
   "source": [
    "<font size=\"5\">\n",
    "$\n",
    "h(x)=w_{0}+w_{1}x_{1}+w_{2}x_{2}\\\\\n",
    "0=w_{0}+w_{1}x_{1}+w_{2}x_{2}\\\\\n",
    "x_{2}=-\\dfrac{w_{0}+w_{1}x_{1}}{w_{2}}\n",
    "$\n",
    "</font>    "
   ]
  },
  {
   "cell_type": "markdown",
   "id": "36492ca7-21c8-4c2e-a1bd-d932dfb7de27",
   "metadata": {},
   "source": [
    "* x1의 범위에 따라 x2의 변화를 위의 관계식에 따라 그린다"
   ]
  },
  {
   "cell_type": "code",
   "execution_count": 93,
   "id": "97fbf423-8a86-445d-85fa-0554c27dcea9",
   "metadata": {},
   "outputs": [
    {
     "data": {
      "text/plain": [
       "(-2.7481009063383444, 3.6079049245195742)"
      ]
     },
     "execution_count": 93,
     "metadata": {},
     "output_type": "execute_result"
    }
   ],
   "source": [
    "df['X1'].min(), df['X1'].max()"
   ]
  },
  {
   "cell_type": "code",
   "execution_count": 94,
   "id": "926e58a6-211f-4b0d-868d-f56ec215a5cf",
   "metadata": {},
   "outputs": [
    {
     "data": {
      "text/plain": [
       "array([-2.74810091, -2.6183865 , -2.4886721 , -2.35895769, -2.22924329,\n",
       "       -2.09952888, -1.96981448, -1.84010007, -1.71038567, -1.58067126,\n",
       "       -1.45095686, -1.32124245, -1.19152805, -1.06181365, -0.93209924,\n",
       "       -0.80238484, -0.67267043, -0.54295603, -0.41324162, -0.28352722,\n",
       "       -0.15381281, -0.02409841,  0.105616  ,  0.2353304 ,  0.36504481,\n",
       "        0.49475921,  0.62447362,  0.75418802,  0.88390243,  1.01361683,\n",
       "        1.14333124,  1.27304564,  1.40276004,  1.53247445,  1.66218885,\n",
       "        1.79190326,  1.92161766,  2.05133207,  2.18104647,  2.31076088,\n",
       "        2.44047528,  2.57018969,  2.69990409,  2.8296185 ,  2.9593329 ,\n",
       "        3.08904731,  3.21876171,  3.34847612,  3.47819052,  3.60790492])"
      ]
     },
     "execution_count": 94,
     "metadata": {},
     "output_type": "execute_result"
    }
   ],
   "source": [
    "x1=np.linspace(df['X1'].min(), df['X1'].max())\n",
    "x1"
   ]
  },
  {
   "cell_type": "code",
   "execution_count": 88,
   "id": "1a30ff24-67d4-4407-aa8c-d2c3cb964fbc",
   "metadata": {},
   "outputs": [],
   "source": [
    "w0=b\n",
    "w1=W[0][0]\n",
    "w2=W[0][1]"
   ]
  },
  {
   "cell_type": "code",
   "execution_count": 107,
   "id": "cdfd022f-a0b7-465e-bcec-630c9cc35af5",
   "metadata": {},
   "outputs": [
    {
     "data": {
      "text/plain": [
       "array([[ 2.43054461, -0.36712609]])"
      ]
     },
     "execution_count": 107,
     "metadata": {},
     "output_type": "execute_result"
    }
   ],
   "source": [
    "reg.coef_"
   ]
  },
  {
   "cell_type": "code",
   "execution_count": 98,
   "id": "2b2c3e4e-e12f-4d8f-86f6-7d371e56777b",
   "metadata": {},
   "outputs": [
    {
     "data": {
      "text/plain": [
       "<matplotlib.collections.PathCollection at 0x7f1ea7def0a0>"
      ]
     },
     "execution_count": 98,
     "metadata": {},
     "output_type": "execute_result"
    },
    {
     "data": {
      "image/png": "[encoded data removed]",
      "text/plain": [
       "<Figure size 432x288 with 1 Axes>"
      ]
     },
     "metadata": {
      "needs_background": "light"
     },
     "output_type": "display_data"
    }
   ],
   "source": [
    "plt.scatter(df['X1'],df['X2'],c=df['y'])"
   ]
  },
  {
   "cell_type": "code",
   "execution_count": 108,
   "id": "c9490da9-b429-49d7-9a26-9e01d4080487",
   "metadata": {},
   "outputs": [
    {
     "data": {
      "text/plain": [
       "(-4.3129195942741365, 3.455157807261014)"
      ]
     },
     "execution_count": 108,
     "metadata": {},
     "output_type": "execute_result"
    },
    {
     "data": {
      "image/png": "[encoded data removed]",
      "text/plain": [
       "<Figure size 432x288 with 1 Axes>"
      ]
     },
     "metadata": {
      "needs_background": "light"
     },
     "output_type": "display_data"
    }
   ],
   "source": [
    "plt.scatter(df['X1'],df['X2'],c=df['y'])\n",
    "plt.plot(x1,y1)\n",
    "plt.xlim(X['X1'].min()-1,X['X1'].max()+1)\n",
    "plt.ylim(X['X2'].min()-1,X['X2'].max()+1)"
   ]
  },
  {
   "cell_type": "code",
   "execution_count": 109,
   "id": "9f0a5069-479c-46ff-8f9f-d00b71cff418",
   "metadata": {},
   "outputs": [
    {
     "data": {
      "text/plain": [
       "<matplotlib.collections.PathCollection at 0x7f1ea7d02a90>"
      ]
     },
     "execution_count": 109,
     "metadata": {},
     "output_type": "execute_result"
    },
    {
     "data": {
      "image/png": "[encoded data removed]",
      "text/plain": [
       "<Figure size 432x288 with 1 Axes>"
      ]
     },
     "metadata": {
      "needs_background": "light"
     },
     "output_type": "display_data"
    }
   ],
   "source": [
    "plt.scatter(df['X1'],df['X2'],c=reg.predict(X))"
   ]
  }
 ],
 "metadata": {
  "kernelspec": {
   "display_name": "Python 3 (ipykernel)",
   "language": "python",
   "name": "python3"
  },
  "language_info": {
   "codemirror_mode": {
    "name": "ipython",
    "version": 3
   },
   "file_extension": ".py",
   "mimetype": "text/x-python",
   "name": "python",
   "nbconvert_exporter": "python",
   "pygments_lexer": "ipython3",
   "version": "3.8.10"
  }
 },
 "nbformat": 4,
 "nbformat_minor": 5
}
