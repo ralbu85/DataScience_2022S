{
 "cells": [
  {
   "cell_type": "markdown",
   "id": "55372822",
   "metadata": {},
   "source": [
    "## 데이터 생성"
   ]
  },
  {
   "cell_type": "code",
   "execution_count": 1,
   "id": "7bd63def",
   "metadata": {
    "ExecuteTime": {
     "end_time": "2023-04-12T15:17:10.249066Z",
     "start_time": "2023-04-12T15:17:10.246343Z"
    }
   },
   "outputs": [],
   "source": [
    "import numpy as np\n",
    "np.random.seed(42) # 다른 컴퓨터에서도 동일한 난수의 발생 순서를 보장"
   ]
  },
  {
   "cell_type": "code",
   "execution_count": 2,
   "id": "58a66125-7be4-4d0b-97c4-358f4ce9fed7",
   "metadata": {
    "ExecuteTime": {
     "end_time": "2023-04-12T15:17:10.257669Z",
     "start_time": "2023-04-12T15:17:10.250238Z"
    }
   },
   "outputs": [],
   "source": [
    "## 정답 데이터 생성\n",
    "X=np.random.uniform(size=50)*5 #0~5 사이의 난수를 \n",
    "y=0.65*X**3-4*X**2+3*X+3+np.random.normal(scale=0.6,size=50)"
   ]
  },
  {
   "cell_type": "code",
   "execution_count": 3,
   "id": "b3335232",
   "metadata": {
    "ExecuteTime": {
     "end_time": "2023-04-12T15:17:10.394201Z",
     "start_time": "2023-04-12T15:17:10.259468Z"
    }
   },
   "outputs": [
    {
     "data": {
      "text/plain": [
       "<matplotlib.collections.PathCollection at 0x7f1ae74ef1f0>"
      ]
     },
     "execution_count": 3,
     "metadata": {},
     "output_type": "execute_result"
    },
    {
     "data": {
      "image/png": "[encoded data removed]",
      "text/plain": [
       "<Figure size 432x288 with 1 Axes>"
      ]
     },
     "metadata": {
      "needs_background": "light"
     },
     "output_type": "display_data"
    }
   ],
   "source": [
    "# 정답 데이터를 산점도로 출력\n",
    "import matplotlib.pyplot as plt\n",
    "plt.scatter(X,y)"
   ]
  },
  {
   "cell_type": "markdown",
   "id": "73f7b840-4a3d-4367-8e03-5689fbd64620",
   "metadata": {},
   "source": [
    "## numpy 이용 직접 쪼개기"
   ]
  },
  {
   "cell_type": "code",
   "execution_count": 4,
   "id": "ea87ffbd-b3a2-4063-9c9a-ba4429c4cd3a",
   "metadata": {
    "ExecuteTime": {
     "end_time": "2023-04-12T15:17:10.399350Z",
     "start_time": "2023-04-12T15:17:10.395391Z"
    }
   },
   "outputs": [],
   "source": [
    "# create an index array and shuffle it\n",
    "idx = np.arange(len(X))\n",
    "np.random.shuffle(idx)\n",
    "\n",
    "# shuffle the arrays with the same shuffled index\n",
    "X,y = X[idx],y[idx]\n",
    "\n",
    "# 데이터 쪼개기 \n",
    "# 7:3\n",
    "train_size = int(len(X)*0.7)\n",
    "X_train, X_test, y_train, y_test = X[:train_size], X[train_size:], y[:train_size], y[train_size:]"
   ]
  },
  {
   "cell_type": "code",
   "execution_count": 5,
   "id": "8faeecac-b197-470e-b112-42325e155535",
   "metadata": {
    "ExecuteTime": {
     "end_time": "2023-04-12T15:17:10.733144Z",
     "start_time": "2023-04-12T15:17:10.400638Z"
    }
   },
   "outputs": [
    {
     "data": {
      "text/plain": [
       "LinearRegression()"
      ]
     },
     "execution_count": 5,
     "metadata": {},
     "output_type": "execute_result"
    }
   ],
   "source": [
    "# 선형회귀 학습\n",
    "from sklearn.linear_model import LinearRegression\n",
    "reg=LinearRegression()\n",
    "reg.fit(X_train.reshape(-1,1),y_train)"
   ]
  },
  {
   "cell_type": "code",
   "execution_count": 6,
   "id": "85e53a87-9868-4fdf-b6d7-c5134e3df026",
   "metadata": {
    "ExecuteTime": {
     "end_time": "2023-04-12T15:17:10.738915Z",
     "start_time": "2023-04-12T15:17:10.734519Z"
    }
   },
   "outputs": [
    {
     "data": {
      "text/plain": [
       "3.057470173897163"
      ]
     },
     "execution_count": 6,
     "metadata": {},
     "output_type": "execute_result"
    }
   ],
   "source": [
    "# 모델 검증\n",
    "from sklearn.metrics import mean_squared_error\n",
    "y_pred=reg.predict(X_test.reshape(-1,1))\n",
    "mean_squared_error(y_test,y_pred)"
   ]
  },
  {
   "cell_type": "markdown",
   "id": "6b7c006d-3641-4a3c-984e-ce3ae41a138b",
   "metadata": {},
   "source": [
    "## sklearn을 이용한 train_test_split"
   ]
  },
  {
   "cell_type": "code",
   "execution_count": 7,
   "id": "38b2def8-465d-4ba1-b9ea-4aa1b8754f80",
   "metadata": {
    "ExecuteTime": {
     "end_time": "2023-04-12T15:17:10.747454Z",
     "start_time": "2023-04-12T15:17:10.740128Z"
    }
   },
   "outputs": [],
   "source": [
    "from sklearn.model_selection import train_test_split\n",
    "X_train,X_test,y_train,y_test=train_test_split(X,y,test_size=0.3,shuffle=True)"
   ]
  },
  {
   "cell_type": "code",
   "execution_count": 8,
   "id": "b1fec20a-ecb4-4033-a786-937f8966bfeb",
   "metadata": {
    "ExecuteTime": {
     "end_time": "2023-04-12T15:17:10.754449Z",
     "start_time": "2023-04-12T15:17:10.748689Z"
    }
   },
   "outputs": [
    {
     "name": "stdout",
     "output_type": "stream",
     "text": [
      "(35,)\n",
      "(15,)\n",
      "(35,)\n",
      "(15,)\n"
     ]
    }
   ],
   "source": [
    "print(X_train.shape)\n",
    "print(X_test.shape)\n",
    "print(y_train.shape)\n",
    "print(y_test.shape)"
   ]
  },
  {
   "cell_type": "code",
   "execution_count": 9,
   "id": "9f7c6a1e-8b11-4ea5-82d7-5b25f71a5ac4",
   "metadata": {
    "ExecuteTime": {
     "end_time": "2023-04-12T15:17:10.761651Z",
     "start_time": "2023-04-12T15:17:10.757775Z"
    }
   },
   "outputs": [],
   "source": [
    "reg.fit(X_train.reshape(-1,1),y_train)\n",
    "y_pred=reg.predict(X_test.reshape(-1,1))"
   ]
  },
  {
   "cell_type": "code",
   "execution_count": 10,
   "id": "2e8758e7-66fb-4831-a57b-a37fd7ea05f1",
   "metadata": {
    "ExecuteTime": {
     "end_time": "2023-04-12T15:17:10.768614Z",
     "start_time": "2023-04-12T15:17:10.763297Z"
    }
   },
   "outputs": [
    {
     "data": {
      "text/plain": [
       "7.7291748630554356"
      ]
     },
     "execution_count": 10,
     "metadata": {},
     "output_type": "execute_result"
    }
   ],
   "source": [
    "mean_squared_error(y_test,y_pred)"
   ]
  },
  {
   "cell_type": "markdown",
   "id": "6953dd3c-e148-42ce-b419-0c97780d7388",
   "metadata": {},
   "source": [
    "## 차수를 변경해가며 검증"
   ]
  },
  {
   "cell_type": "code",
   "execution_count": 11,
   "id": "5cc1876a-8af4-4fe3-8b36-eaaafbfe699f",
   "metadata": {
    "ExecuteTime": {
     "end_time": "2023-04-12T15:17:10.911008Z",
     "start_time": "2023-04-12T15:17:10.770325Z"
    },
    "scrolled": true
   },
   "outputs": [
    {
     "data": {
      "text/plain": [
       "[<matplotlib.lines.Line2D at 0x7f1a8637f8b0>]"
      ]
     },
     "execution_count": 11,
     "metadata": {},
     "output_type": "execute_result"
    },
    {
     "data": {
      "image/png": "[encoded data removed]",
      "text/plain": [
       "<Figure size 432x288 with 1 Axes>"
      ]
     },
     "metadata": {
      "needs_background": "light"
     },
     "output_type": "display_data"
    }
   ],
   "source": [
    "from sklearn.preprocessing import PolynomialFeatures\n",
    "mse=[]\n",
    "degrees =range(1,16) \n",
    "for i in degrees:\n",
    "    poly=PolynomialFeatures(degree=i,include_bias=False)    \n",
    "    reg.fit(poly.fit_transform(X_train.reshape(-1,1)),y_train)\n",
    "    y_pred=reg.predict(poly.fit_transform(X_test.reshape(-1,1)))\n",
    "    mse.append(mean_squared_error(y_test,y_pred))\n",
    "plt.plot(degrees, mse)\n",
    "    "
   ]
  },
  {
   "cell_type": "markdown",
   "id": "6bbbf17d",
   "metadata": {},
   "source": [
    "## Train-Test Split의 한계점"
   ]
  },
  {
   "cell_type": "code",
   "execution_count": 17,
   "id": "e385cc97-1f5d-4d5a-bf88-98a310796ee3",
   "metadata": {
    "ExecuteTime": {
     "end_time": "2023-04-12T15:18:04.376185Z",
     "start_time": "2023-04-12T15:18:03.906292Z"
    }
   },
   "outputs": [
    {
     "data": {
      "image/png": "[encoded data removed]",
      "text/plain": [
       "<Figure size 432x288 with 1 Axes>"
      ]
     },
     "metadata": {
      "needs_background": "light"
     },
     "output_type": "display_data"
    }
   ],
   "source": [
    "from sklearn.preprocessing import PolynomialFeatures\n",
    "for s in range(50):\n",
    "    mse=[]\n",
    "    X_train,X_test,y_train,y_test = train_test_split(X,y,test_size=0.3,shuffle=True)\n",
    "    for i in range(1,9):\n",
    "        poly=PolynomialFeatures(degree=i,include_bias=False)    \n",
    "        reg.fit(poly.fit_transform(X_train.reshape(-1,1)),y_train)\n",
    "        y_pred=reg.predict(poly.fit_transform(X_test.reshape(-1,1)))\n",
    "        mse.append(mean_squared_error(y_test,y_pred))\n",
    "    plt.plot(mse)\n",
    "    "
   ]
  },
  {
   "cell_type": "markdown",
   "id": "8002f668-0fc6-4709-a37f-8cd5233198e7",
   "metadata": {},
   "source": [
    "data"
   ]
  }
 ],
 "metadata": {
  "kernelspec": {
   "display_name": "Python 3 (ipykernel)",
   "language": "python",
   "name": "python3"
  },
  "language_info": {
   "codemirror_mode": {
    "name": "ipython",
    "version": 3
   },
   "file_extension": ".py",
   "mimetype": "text/x-python",
   "name": "python",
   "nbconvert_exporter": "python",
   "pygments_lexer": "ipython3",
   "version": "3.8.10"
  },
  "toc": {
   "base_numbering": 1,
   "nav_menu": {},
   "number_sections": false,
   "sideBar": true,
   "skip_h1_title": false,
   "title_cell": "Table of Contents",
   "title_sidebar": "Contents",
   "toc_cell": false,
   "toc_position": {},
   "toc_section_display": true,
   "toc_window_display": false
  }
 },
 "nbformat": 4,
 "nbformat_minor": 5
}
