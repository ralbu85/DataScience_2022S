{
 "cells": [
  {
   "cell_type": "code",
   "execution_count": 1,
   "id": "2d740041-3117-4a0d-bcad-c12b0975335b",
   "metadata": {
    "ExecuteTime": {
     "end_time": "2023-04-17T02:10:51.837637Z",
     "start_time": "2023-04-17T02:10:51.831731Z"
    }
   },
   "outputs": [],
   "source": [
    "import numpy as np\n",
    "import matplotlib.pyplot as plt\n",
    "np.random.seed(42) "
   ]
  },
  {
   "cell_type": "markdown",
   "id": "3b731161",
   "metadata": {},
   "source": [
    "## 데이터 만들기"
   ]
  },
  {
   "cell_type": "code",
   "execution_count": 2,
   "id": "28f03fd1-e835-4422-a5c0-d33c3d4a00fb",
   "metadata": {
    "ExecuteTime": {
     "end_time": "2023-04-17T02:11:13.560692Z",
     "start_time": "2023-04-17T02:11:13.387595Z"
    }
   },
   "outputs": [
    {
     "data": {
      "text/plain": [
       "<matplotlib.collections.PathCollection at 0x7fbf1bd79310>"
      ]
     },
     "execution_count": 2,
     "metadata": {},
     "output_type": "execute_result"
    },
    {
     "data": {
      "image/png": "[encoded data removed]",
      "text/plain": [
       "<Figure size 432x288 with 1 Axes>"
      ]
     },
     "metadata": {
      "needs_background": "light"
     },
     "output_type": "display_data"
    }
   ],
   "source": [
    "X=np.linspace(-5,3,100)\n",
    "y=0.1*(X-3)*(X+3)*(X+1)*(X+5)+ np.random.normal(1,size=100)\n",
    "plt.scatter(X,y)"
   ]
  },
  {
   "cell_type": "markdown",
   "id": "a9e1af21-e44b-40ca-8988-97ce6bc704ec",
   "metadata": {
    "tags": []
   },
   "source": [
    "## SKlearn 이용한 교차검증"
   ]
  },
  {
   "cell_type": "code",
   "execution_count": 90,
   "id": "c38f18a1-7c4a-4cd0-8ee4-26838f02fe29",
   "metadata": {
    "ExecuteTime": {
     "end_time": "2023-04-17T03:14:20.718706Z",
     "start_time": "2023-04-17T03:14:20.701004Z"
    },
    "scrolled": false
   },
   "outputs": [
    {
     "name": "stdout",
     "output_type": "stream",
     "text": [
      "========== 1 ==========\n",
      "train_idx:  [20 21 22 23 24 25 26 27 28 29 30 31 32 33 34 35 36 37 38 39 40 41 42 43\n",
      " 44 45 46 47 48 49 50 51 52 53 54 55 56 57 58 59 60 61 62 63 64 65 66 67\n",
      " 68 69 70 71 72 73 74 75 76 77 78 79 80 81 82 83 84 85 86 87 88 89 90 91\n",
      " 92 93 94 95 96 97 98 99]\n",
      "test_idx:  [ 0  1  2  3  4  5  6  7  8  9 10 11 12 13 14 15 16 17 18 19]\n",
      "========== 2 ==========\n",
      "train_idx:  [ 0  1  2  3  4  5  6  7  8  9 10 11 12 13 14 15 16 17 18 19 40 41 42 43\n",
      " 44 45 46 47 48 49 50 51 52 53 54 55 56 57 58 59 60 61 62 63 64 65 66 67\n",
      " 68 69 70 71 72 73 74 75 76 77 78 79 80 81 82 83 84 85 86 87 88 89 90 91\n",
      " 92 93 94 95 96 97 98 99]\n",
      "test_idx:  [20 21 22 23 24 25 26 27 28 29 30 31 32 33 34 35 36 37 38 39]\n",
      "========== 3 ==========\n",
      "train_idx:  [ 0  1  2  3  4  5  6  7  8  9 10 11 12 13 14 15 16 17 18 19 20 21 22 23\n",
      " 24 25 26 27 28 29 30 31 32 33 34 35 36 37 38 39 60 61 62 63 64 65 66 67\n",
      " 68 69 70 71 72 73 74 75 76 77 78 79 80 81 82 83 84 85 86 87 88 89 90 91\n",
      " 92 93 94 95 96 97 98 99]\n",
      "test_idx:  [40 41 42 43 44 45 46 47 48 49 50 51 52 53 54 55 56 57 58 59]\n",
      "========== 4 ==========\n",
      "train_idx:  [ 0  1  2  3  4  5  6  7  8  9 10 11 12 13 14 15 16 17 18 19 20 21 22 23\n",
      " 24 25 26 27 28 29 30 31 32 33 34 35 36 37 38 39 40 41 42 43 44 45 46 47\n",
      " 48 49 50 51 52 53 54 55 56 57 58 59 80 81 82 83 84 85 86 87 88 89 90 91\n",
      " 92 93 94 95 96 97 98 99]\n",
      "test_idx:  [60 61 62 63 64 65 66 67 68 69 70 71 72 73 74 75 76 77 78 79]\n",
      "========== 5 ==========\n",
      "train_idx:  [ 0  1  2  3  4  5  6  7  8  9 10 11 12 13 14 15 16 17 18 19 20 21 22 23\n",
      " 24 25 26 27 28 29 30 31 32 33 34 35 36 37 38 39 40 41 42 43 44 45 46 47\n",
      " 48 49 50 51 52 53 54 55 56 57 58 59 60 61 62 63 64 65 66 67 68 69 70 71\n",
      " 72 73 74 75 76 77 78 79]\n",
      "test_idx:  [80 81 82 83 84 85 86 87 88 89 90 91 92 93 94 95 96 97 98 99]\n"
     ]
    }
   ],
   "source": [
    "from sklearn.model_selection import KFold\n",
    "kfold=KFold(n_splits=5) ## k겹 교차검증 객체 생성\n",
    "\n",
    "## 루프를 통해 어떻게 인덱스가 생성되는지 확인\n",
    "iteration = 1\n",
    "\n",
    "for train_idx,test_idx in kfold.split(X,y):\n",
    "    print('='*10, iteration, '='*10)\n",
    "    print('train_idx: ',train_idx)\n",
    "    print('test_idx: ',test_idx)\n",
    "    iteration += 1"
   ]
  },
  {
   "cell_type": "code",
   "execution_count": 12,
   "id": "4ebb8b19",
   "metadata": {
    "ExecuteTime": {
     "end_time": "2023-04-17T02:18:54.090793Z",
     "start_time": "2023-04-17T02:18:54.060012Z"
    },
    "scrolled": false
   },
   "outputs": [
    {
     "name": "stdout",
     "output_type": "stream",
     "text": [
      "========== 1 ==========\n",
      "train_X:  [-3.38383838 -3.3030303  -3.22222222 -3.14141414 -3.06060606 -2.97979798\n",
      " -2.8989899  -2.81818182 -2.73737374 -2.65656566 -2.57575758 -2.49494949\n",
      " -2.41414141 -2.33333333 -2.25252525 -2.17171717 -2.09090909 -2.01010101\n",
      " -1.92929293 -1.84848485 -1.76767677 -1.68686869 -1.60606061 -1.52525253\n",
      " -1.44444444 -1.36363636 -1.28282828 -1.2020202  -1.12121212 -1.04040404\n",
      " -0.95959596 -0.87878788 -0.7979798  -0.71717172 -0.63636364 -0.55555556\n",
      " -0.47474747 -0.39393939 -0.31313131 -0.23232323 -0.15151515 -0.07070707\n",
      "  0.01010101  0.09090909  0.17171717  0.25252525  0.33333333  0.41414141\n",
      "  0.49494949  0.57575758  0.65656566  0.73737374  0.81818182  0.8989899\n",
      "  0.97979798  1.06060606  1.14141414  1.22222222  1.3030303   1.38383838\n",
      "  1.46464646  1.54545455  1.62626263  1.70707071  1.78787879  1.86868687\n",
      "  1.94949495  2.03030303  2.11111111  2.19191919  2.27272727  2.35353535\n",
      "  2.43434343  2.51515152  2.5959596   2.67676768  2.75757576  2.83838384\n",
      "  2.91919192  3.        ]\n",
      "test_X:  [-5.         -4.91919192 -4.83838384 -4.75757576 -4.67676768 -4.5959596\n",
      " -4.51515152 -4.43434343 -4.35353535 -4.27272727 -4.19191919 -4.11111111\n",
      " -4.03030303 -3.94949495 -3.86868687 -3.78787879 -3.70707071 -3.62626263\n",
      " -3.54545455 -3.46464646]\n",
      "train_y:  [ 1.49671415  0.3803972   0.75377419  1.28102335 -0.76394495 -0.99548077\n",
      "  0.63857765 -0.3041005  -1.62728566 -0.66056816 -1.67446631 -1.65076252\n",
      " -0.8864763  -2.95780185 -2.66135294 -1.36951752 -1.67268594 -0.1829085\n",
      " -1.229901   -1.54896335]\n",
      "test_y:  [ 1.49671415  0.3803972   0.75377419  1.28102335 -0.76394495 -0.99548077\n",
      "  0.63857765 -0.3041005  -1.62728566 -0.66056816 -1.67446631 -1.65076252\n",
      " -0.8864763  -2.95780185 -2.66135294 -1.36951752 -1.67268594 -0.1829085\n",
      " -1.229901   -1.54896335]\n",
      "========== 2 ==========\n",
      "train_X:  [-5.         -4.91919192 -4.83838384 -4.75757576 -4.67676768 -4.5959596\n",
      " -4.51515152 -4.43434343 -4.35353535 -4.27272727 -4.19191919 -4.11111111\n",
      " -4.03030303 -3.94949495 -3.86868687 -3.78787879 -3.70707071 -3.62626263\n",
      " -3.54545455 -3.46464646 -1.76767677 -1.68686869 -1.60606061 -1.52525253\n",
      " -1.44444444 -1.36363636 -1.28282828 -1.2020202  -1.12121212 -1.04040404\n",
      " -0.95959596 -0.87878788 -0.7979798  -0.71717172 -0.63636364 -0.55555556\n",
      " -0.47474747 -0.39393939 -0.31313131 -0.23232323 -0.15151515 -0.07070707\n",
      "  0.01010101  0.09090909  0.17171717  0.25252525  0.33333333  0.41414141\n",
      "  0.49494949  0.57575758  0.65656566  0.73737374  0.81818182  0.8989899\n",
      "  0.97979798  1.06060606  1.14141414  1.22222222  1.3030303   1.38383838\n",
      "  1.46464646  1.54545455  1.62626263  1.70707071  1.78787879  1.86868687\n",
      "  1.94949495  2.03030303  2.11111111  2.19191919  2.27272727  2.35353535\n",
      "  2.43434343  2.51515152  2.5959596   2.67676768  2.75757576  2.83838384\n",
      "  2.91919192  3.        ]\n",
      "test_X:  [-3.38383838 -3.3030303  -3.22222222 -3.14141414 -3.06060606 -2.97979798\n",
      " -2.8989899  -2.81818182 -2.73737374 -2.65656566 -2.57575758 -2.49494949\n",
      " -2.41414141 -2.33333333 -2.25252525 -2.17171717 -2.09090909 -2.01010101\n",
      " -1.92929293 -1.84848485]\n",
      "train_y:  [ 1.52160554  0.02775914  0.52127001 -0.77040452  0.30882841  1.15923926\n",
      "  0.08674149  1.79534149  0.99168264  1.46245671  1.30190838  3.89157961\n",
      "  2.14640133  1.2064866   3.17363676  1.19873368  2.67761573  0.53814663\n",
      "  1.17788798  2.68979036]\n",
      "test_y:  [ 1.52160554  0.02775914  0.52127001 -0.77040452  0.30882841  1.15923926\n",
      "  0.08674149  1.79534149  0.99168264  1.46245671  1.30190838  3.89157961\n",
      "  2.14640133  1.2064866   3.17363676  1.19873368  2.67761573  0.53814663\n",
      "  1.17788798  2.68979036]\n",
      "========== 3 ==========\n",
      "train_X:  [-5.         -4.91919192 -4.83838384 -4.75757576 -4.67676768 -4.5959596\n",
      " -4.51515152 -4.43434343 -4.35353535 -4.27272727 -4.19191919 -4.11111111\n",
      " -4.03030303 -3.94949495 -3.86868687 -3.78787879 -3.70707071 -3.62626263\n",
      " -3.54545455 -3.46464646 -3.38383838 -3.3030303  -3.22222222 -3.14141414\n",
      " -3.06060606 -2.97979798 -2.8989899  -2.81818182 -2.73737374 -2.65656566\n",
      " -2.57575758 -2.49494949 -2.41414141 -2.33333333 -2.25252525 -2.17171717\n",
      " -2.09090909 -2.01010101 -1.92929293 -1.84848485 -0.15151515 -0.07070707\n",
      "  0.01010101  0.09090909  0.17171717  0.25252525  0.33333333  0.41414141\n",
      "  0.49494949  0.57575758  0.65656566  0.73737374  0.81818182  0.8989899\n",
      "  0.97979798  1.06060606  1.14141414  1.22222222  1.3030303   1.38383838\n",
      "  1.46464646  1.54545455  1.62626263  1.70707071  1.78787879  1.86868687\n",
      "  1.94949495  2.03030303  2.11111111  2.19191919  2.27272727  2.35353535\n",
      "  2.43434343  2.51515152  2.5959596   2.67676768  2.75757576  2.83838384\n",
      "  2.91919192  3.        ]\n",
      "test_X:  [-1.76767677 -1.68686869 -1.60606061 -1.52525253 -1.44444444 -1.36363636\n",
      " -1.28282828 -1.2020202  -1.12121212 -1.04040404 -0.95959596 -0.87878788\n",
      " -0.7979798  -0.71717172 -0.63636364 -0.55555556 -0.47474747 -0.39393939\n",
      " -0.31313131 -0.23232323]\n",
      "train_y:  [ 3.19635613  2.57193342  2.20501979  1.91690918  0.61399439  1.22435359\n",
      "  1.31253987  2.636805    1.70765468 -0.63637213  1.19219252  0.20390889\n",
      " -0.38687057  0.5838035   0.66715825  0.21446866 -1.924856   -1.77828747\n",
      " -1.53450831 -1.29873139]\n",
      "test_y:  [ 3.19635613  2.57193342  2.20501979  1.91690918  0.61399439  1.22435359\n",
      "  1.31253987  2.636805    1.70765468 -0.63637213  1.19219252  0.20390889\n",
      " -0.38687057  0.5838035   0.66715825  0.21446866 -1.924856   -1.77828747\n",
      " -1.53450831 -1.29873139]\n",
      "========== 4 ==========\n",
      "train_X:  [-5.         -4.91919192 -4.83838384 -4.75757576 -4.67676768 -4.5959596\n",
      " -4.51515152 -4.43434343 -4.35353535 -4.27272727 -4.19191919 -4.11111111\n",
      " -4.03030303 -3.94949495 -3.86868687 -3.78787879 -3.70707071 -3.62626263\n",
      " -3.54545455 -3.46464646 -3.38383838 -3.3030303  -3.22222222 -3.14141414\n",
      " -3.06060606 -2.97979798 -2.8989899  -2.81818182 -2.73737374 -2.65656566\n",
      " -2.57575758 -2.49494949 -2.41414141 -2.33333333 -2.25252525 -2.17171717\n",
      " -2.09090909 -2.01010101 -1.92929293 -1.84848485 -1.76767677 -1.68686869\n",
      " -1.60606061 -1.52525253 -1.44444444 -1.36363636 -1.28282828 -1.2020202\n",
      " -1.12121212 -1.04040404 -0.95959596 -0.87878788 -0.7979798  -0.71717172\n",
      " -0.63636364 -0.55555556 -0.47474747 -0.39393939 -0.31313131 -0.23232323\n",
      "  1.46464646  1.54545455  1.62626263  1.70707071  1.78787879  1.86868687\n",
      "  1.94949495  2.03030303  2.11111111  2.19191919  2.27272727  2.35353535\n",
      "  2.43434343  2.51515152  2.5959596   2.67676768  2.75757576  2.83838384\n",
      "  2.91919192  3.        ]\n",
      "test_X:  [-0.15151515 -0.07070707  0.01010101  0.09090909  0.17171717  0.25252525\n",
      "  0.33333333  0.41414141  0.49494949  0.57575758  0.65656566  0.73737374\n",
      "  0.81818182  0.8989899   0.97979798  1.06060606  1.14141414  1.22222222\n",
      "  1.3030303   1.38383838]\n",
      "train_y:  [ -3.17220944  -3.30605019  -4.66092062  -5.18996388  -3.62341664\n",
      "  -3.52283532  -5.39299778  -4.7558759   -5.83032982  -7.26130329\n",
      "  -6.66808867  -5.89115156  -7.84833885  -6.61193006 -11.13812901\n",
      "  -8.01295159  -9.03574559  -9.67791301  -9.50803601 -11.76953633]\n",
      "test_y:  [ -3.17220944  -3.30605019  -4.66092062  -5.18996388  -3.62341664\n",
      "  -3.52283532  -5.39299778  -4.7558759   -5.83032982  -7.26130329\n",
      "  -6.66808867  -5.89115156  -7.84833885  -6.61193006 -11.13812901\n",
      "  -8.01295159  -9.03574559  -9.67791301  -9.50803601 -11.76953633]\n",
      "========== 5 ==========\n",
      "train_X:  [-5.         -4.91919192 -4.83838384 -4.75757576 -4.67676768 -4.5959596\n",
      " -4.51515152 -4.43434343 -4.35353535 -4.27272727 -4.19191919 -4.11111111\n",
      " -4.03030303 -3.94949495 -3.86868687 -3.78787879 -3.70707071 -3.62626263\n",
      " -3.54545455 -3.46464646 -3.38383838 -3.3030303  -3.22222222 -3.14141414\n",
      " -3.06060606 -2.97979798 -2.8989899  -2.81818182 -2.73737374 -2.65656566\n",
      " -2.57575758 -2.49494949 -2.41414141 -2.33333333 -2.25252525 -2.17171717\n",
      " -2.09090909 -2.01010101 -1.92929293 -1.84848485 -1.76767677 -1.68686869\n",
      " -1.60606061 -1.52525253 -1.44444444 -1.36363636 -1.28282828 -1.2020202\n",
      " -1.12121212 -1.04040404 -0.95959596 -0.87878788 -0.7979798  -0.71717172\n",
      " -0.63636364 -0.55555556 -0.47474747 -0.39393939 -0.31313131 -0.23232323\n",
      " -0.15151515 -0.07070707  0.01010101  0.09090909  0.17171717  0.25252525\n",
      "  0.33333333  0.41414141  0.49494949  0.57575758  0.65656566  0.73737374\n",
      "  0.81818182  0.8989899   0.97979798  1.06060606  1.14141414  1.22222222\n",
      "  1.3030303   1.38383838]\n",
      "test_X:  [1.46464646 1.54545455 1.62626263 1.70707071 1.78787879 1.86868687\n",
      " 1.94949495 2.03030303 2.11111111 2.19191919 2.27272727 2.35353535\n",
      " 2.43434343 2.51515152 2.5959596  2.67676768 2.75757576 2.83838384\n",
      " 2.91919192 3.        ]\n",
      "train_y:  [-10.14148848  -9.65852844  -8.58174098 -10.5681609  -10.79089125\n",
      " -10.35480033  -8.7422105   -9.06303721  -9.58091094  -8.11791044\n",
      "  -8.03016786  -6.56598167  -7.55054574  -6.39157416  -5.56795925\n",
      "  -5.64268882  -2.77252173  -1.57785954  -0.4794358    0.76541287]\n",
      "test_y:  [-10.14148848  -9.65852844  -8.58174098 -10.5681609  -10.79089125\n",
      " -10.35480033  -8.7422105   -9.06303721  -9.58091094  -8.11791044\n",
      "  -8.03016786  -6.56598167  -7.55054574  -6.39157416  -5.56795925\n",
      "  -5.64268882  -2.77252173  -1.57785954  -0.4794358    0.76541287]\n"
     ]
    }
   ],
   "source": [
    "## 루프를 통해 어떻게 인덱스가 생성되는지 확인\n",
    "iteration = 1\n",
    "for train_idx,test_idx in kfold.split(X,y):\n",
    "    print('='*10, iteration, '='*10)\n",
    "    print('train_X: ',X[train_idx]) # X에 대한 훈련데이터\n",
    "    print('test_X: ',X[test_idx]) # X에 대한 테스트데이터\n",
    "    print('train_y: ',y[test_idx]) # y에 대한 훈련데이터\n",
    "    print('test_y: ',y[test_idx]) # y에 대한 테스트데이터\n",
    "    iteration += 1"
   ]
  },
  {
   "cell_type": "code",
   "execution_count": 14,
   "id": "d2b73ce0-20ad-4a13-ad9f-ac9b42d6379c",
   "metadata": {
    "ExecuteTime": {
     "end_time": "2023-04-17T02:19:40.044389Z",
     "start_time": "2023-04-17T02:19:40.024463Z"
    },
    "scrolled": false
   },
   "outputs": [
    {
     "name": "stdout",
     "output_type": "stream",
     "text": [
      "========== 1 ==========\n",
      "train_idx:  [ 0  2  3  4  5  6  7  8  9 10 11 12 13 14 15 16 17 18 19 20 21 22 24 25\n",
      " 26 27 28 29 30 32 34 35 36 37 38 39 41 43 44 45 46 47 49 51 52 53 54 55\n",
      " 56 57 59 60 61 62 64 65 66 68 70 72 73 74 75 77 78 79 80 81 82 83 84 86\n",
      " 89 91 92 93 94 95 97 99]\n",
      "test_idx:  [ 1 23 31 33 40 42 48 50 58 63 67 69 71 76 85 87 88 90 96 98]\n",
      "========== 2 ==========\n",
      "train_idx:  [ 1  2  3  4  5  6  7  8  9 12 13 15 16 17 18 19 22 23 24 25 26 27 28 30\n",
      " 31 33 34 35 36 37 38 39 40 41 42 43 44 45 48 49 50 52 53 54 55 56 57 58\n",
      " 60 62 63 64 65 66 67 69 71 72 73 74 75 76 77 79 80 83 85 86 87 88 89 90\n",
      " 91 92 93 94 95 96 98 99]\n",
      "test_idx:  [ 0 10 11 14 20 21 29 32 46 47 51 59 61 68 70 78 81 82 84 97]\n",
      "========== 3 ==========\n",
      "train_idx:  [ 0  1  4  6  7  8 10 11 12 13 14 15 16 17 20 21 22 23 24 26 28 29 31 32\n",
      " 33 34 36 37 38 39 40 41 42 44 45 46 47 48 49 50 51 52 56 57 58 59 61 62\n",
      " 63 64 65 67 68 69 70 71 73 74 75 76 78 79 80 81 82 83 84 85 86 87 88 89\n",
      " 90 92 93 95 96 97 98 99]\n",
      "test_idx:  [ 2  3  5  9 18 19 25 27 30 35 43 53 54 55 60 66 72 77 91 94]\n",
      "========== 4 ==========\n",
      "train_idx:  [ 0  1  2  3  4  5  8  9 10 11 13 14 15 16 17 18 19 20 21 22 23 25 27 29\n",
      " 30 31 32 33 34 35 38 40 41 42 43 46 47 48 50 51 52 53 54 55 56 57 58 59\n",
      " 60 61 63 66 67 68 69 70 71 72 73 74 75 76 77 78 81 82 84 85 86 87 88 90\n",
      " 91 92 94 95 96 97 98 99]\n",
      "test_idx:  [ 6  7 12 24 26 28 36 37 39 44 45 49 62 64 65 79 80 83 89 93]\n",
      "========== 5 ==========\n",
      "train_idx:  [ 0  1  2  3  5  6  7  9 10 11 12 14 18 19 20 21 23 24 25 26 27 28 29 30\n",
      " 31 32 33 35 36 37 39 40 42 43 44 45 46 47 48 49 50 51 53 54 55 58 59 60\n",
      " 61 62 63 64 65 66 67 68 69 70 71 72 76 77 78 79 80 81 82 83 84 85 87 88\n",
      " 89 90 91 93 94 96 97 98]\n",
      "test_idx:  [ 4  8 13 15 16 17 22 34 38 41 52 56 57 73 74 75 86 92 95 99]\n"
     ]
    }
   ],
   "source": [
    "## Shuffle을 지정하여 무작위로 데이터 나누기\n",
    "kfold = KFold(n_splits=5, shuffle=True)\n",
    "iteration = 1\n",
    "kfold.split(data)\n",
    "for train_idx,test_idx in kfold.split(data):\n",
    "    print('='*10, iteration, '='*10)\n",
    "    print('train_idx: ',train_idx)\n",
    "    print('test_idx: ',test_idx)\n",
    "    iteration += 1"
   ]
  },
  {
   "cell_type": "markdown",
   "id": "5119a70e",
   "metadata": {},
   "source": [
    "## K겹 교차검증을 통해 모델평가해보기"
   ]
  },
  {
   "cell_type": "code",
   "execution_count": 91,
   "id": "dbee26c4-c0cb-4c6e-8b98-602586438d86",
   "metadata": {
    "ExecuteTime": {
     "end_time": "2023-04-17T03:32:30.431597Z",
     "start_time": "2023-04-17T03:32:30.305820Z"
    }
   },
   "outputs": [],
   "source": [
    "from sklearn.preprocessing import PolynomialFeatures\n",
    "from sklearn.linear_model import LinearRegression\n",
    "from sklearn.metrics import mean_squared_error\n",
    "import pandas as pd\n",
    "\n",
    "degrees = range(1,20) # 다항식의 범위 지정\n",
    "kfold = KFold(n_splits=5, shuffle=True) # 데이터 쪼개기\n",
    "\n",
    "\n",
    "test_mse=[] ## 5번 반복하면서 테스팅 데이터의 정확도 기록\n",
    "train_mse=[] ## 5번 반복하면서 훈련 데이터의 정확도 기록\n",
    "\n",
    "# K겹 교차검증 수행\n",
    "for train_idx,test_idx in kfold.split(X,y):        \n",
    "        \n",
    "        # K겹 교차검증을 위한 데이터 쪼개기\n",
    "        X_train = X[train_idx].reshape(-1,1) \n",
    "        y_train = y[train_idx]        \n",
    "        X_test = X[test_idx].reshape(-1,1)        \n",
    "        y_test = y[test_idx]           \n",
    "        \n",
    "        # 차수를 번갈아가며 기록하기 위한 딕셔너리 생성\n",
    "        test_mse_temp={}                 \n",
    "        train_mse_temp={}\n",
    "        for i in degrees:    \n",
    "            \n",
    "            reg=LinearRegression() #선형회귀 객체 생성\n",
    "            poly=PolynomialFeatures(degree=i,include_bias=False) #다항식 변환 객체                                   \n",
    "            \n",
    "            reg.fit(poly.fit_transform(X_train),y_train) #학습            \n",
    "            \n",
    "            y_pred_train = reg.predict(poly.fit_transform(X_train)) # 훈련데이터를 입력으로 하여 예측\n",
    "            y_pred_test = reg.predict(poly.fit_transform(X_test)) # 테스팅데이터를 입력으로 하여 예측           \n",
    "            \n",
    "            train_mse_temp[i] = mean_squared_error(y_train,y_pred_train) #훈련데이터의 정확도 계산\n",
    "            test_mse_temp[i] = mean_squared_error(y_test,y_pred_test) # 테스팅데이터의 정확도 계산\n",
    "    \n",
    "        train_mse.append(train_mse_temp)\n",
    "        test_mse.append(test_mse_temp)\n",
    "        "
   ]
  },
  {
   "cell_type": "code",
   "execution_count": 94,
   "id": "92fc4caa",
   "metadata": {
    "ExecuteTime": {
     "end_time": "2023-04-17T03:33:37.001213Z",
     "start_time": "2023-04-17T03:33:36.990074Z"
    }
   },
   "outputs": [],
   "source": [
    "train_acc=pd.DataFrame(train_mse)\n",
    "test_acc= pd.DataFrame(test_mse)"
   ]
  },
  {
   "cell_type": "code",
   "execution_count": 96,
   "id": "12b8fd3b",
   "metadata": {
    "ExecuteTime": {
     "end_time": "2023-04-17T03:34:51.616579Z",
     "start_time": "2023-04-17T03:34:51.585642Z"
    }
   },
   "outputs": [
    {
     "data": {
      "text/html": [
       "<div>\n",
       "<style scoped>\n",
       "    .dataframe tbody tr th:only-of-type {\n",
       "        vertical-align: middle;\n",
       "    }\n",
       "\n",
       "    .dataframe tbody tr th {\n",
       "        vertical-align: top;\n",
       "    }\n",
       "\n",
       "    .dataframe thead th {\n",
       "        text-align: right;\n",
       "    }\n",
       "</style>\n",
       "<table border=\"1\" class=\"dataframe\">\n",
       "  <thead>\n",
       "    <tr style=\"text-align: right;\">\n",
       "      <th></th>\n",
       "      <th>1</th>\n",
       "      <th>2</th>\n",
       "      <th>3</th>\n",
       "      <th>4</th>\n",
       "      <th>5</th>\n",
       "      <th>6</th>\n",
       "      <th>7</th>\n",
       "      <th>8</th>\n",
       "      <th>9</th>\n",
       "      <th>10</th>\n",
       "      <th>11</th>\n",
       "      <th>12</th>\n",
       "      <th>13</th>\n",
       "      <th>14</th>\n",
       "      <th>15</th>\n",
       "      <th>16</th>\n",
       "      <th>17</th>\n",
       "      <th>18</th>\n",
       "      <th>19</th>\n",
       "    </tr>\n",
       "  </thead>\n",
       "  <tbody>\n",
       "    <tr>\n",
       "      <th>0</th>\n",
       "      <td>7.124233</td>\n",
       "      <td>5.433231</td>\n",
       "      <td>4.319614</td>\n",
       "      <td>0.978750</td>\n",
       "      <td>0.980342</td>\n",
       "      <td>1.102135</td>\n",
       "      <td>1.117572</td>\n",
       "      <td>1.140439</td>\n",
       "      <td>1.290242</td>\n",
       "      <td>1.287405</td>\n",
       "      <td>1.313772</td>\n",
       "      <td>1.311918</td>\n",
       "      <td>1.278089</td>\n",
       "      <td>1.258957</td>\n",
       "      <td>1.255536</td>\n",
       "      <td>1.290256</td>\n",
       "      <td>1.600482</td>\n",
       "      <td>1.642832</td>\n",
       "      <td>1.640715</td>\n",
       "    </tr>\n",
       "    <tr>\n",
       "      <th>1</th>\n",
       "      <td>9.421164</td>\n",
       "      <td>8.063944</td>\n",
       "      <td>4.201499</td>\n",
       "      <td>0.690222</td>\n",
       "      <td>0.697132</td>\n",
       "      <td>0.805608</td>\n",
       "      <td>0.804797</td>\n",
       "      <td>0.785811</td>\n",
       "      <td>0.751596</td>\n",
       "      <td>0.774496</td>\n",
       "      <td>0.774915</td>\n",
       "      <td>0.800164</td>\n",
       "      <td>0.771073</td>\n",
       "      <td>0.770568</td>\n",
       "      <td>0.740235</td>\n",
       "      <td>0.764083</td>\n",
       "      <td>0.824427</td>\n",
       "      <td>0.806166</td>\n",
       "      <td>0.928571</td>\n",
       "    </tr>\n",
       "    <tr>\n",
       "      <th>2</th>\n",
       "      <td>12.060110</td>\n",
       "      <td>13.408899</td>\n",
       "      <td>6.010441</td>\n",
       "      <td>0.819400</td>\n",
       "      <td>0.851416</td>\n",
       "      <td>0.851200</td>\n",
       "      <td>0.861890</td>\n",
       "      <td>0.852310</td>\n",
       "      <td>0.844098</td>\n",
       "      <td>0.854527</td>\n",
       "      <td>1.062064</td>\n",
       "      <td>1.445735</td>\n",
       "      <td>1.147383</td>\n",
       "      <td>1.278592</td>\n",
       "      <td>1.060479</td>\n",
       "      <td>1.033686</td>\n",
       "      <td>1.431320</td>\n",
       "      <td>1.284898</td>\n",
       "      <td>3.981851</td>\n",
       "    </tr>\n",
       "    <tr>\n",
       "      <th>3</th>\n",
       "      <td>16.036455</td>\n",
       "      <td>15.464071</td>\n",
       "      <td>8.794956</td>\n",
       "      <td>1.137678</td>\n",
       "      <td>1.139245</td>\n",
       "      <td>1.229035</td>\n",
       "      <td>1.243658</td>\n",
       "      <td>1.228466</td>\n",
       "      <td>1.244016</td>\n",
       "      <td>1.261516</td>\n",
       "      <td>1.267222</td>\n",
       "      <td>1.300098</td>\n",
       "      <td>1.281361</td>\n",
       "      <td>1.269341</td>\n",
       "      <td>1.299011</td>\n",
       "      <td>1.410215</td>\n",
       "      <td>1.391093</td>\n",
       "      <td>1.384708</td>\n",
       "      <td>1.378782</td>\n",
       "    </tr>\n",
       "    <tr>\n",
       "      <th>4</th>\n",
       "      <td>5.923387</td>\n",
       "      <td>3.948865</td>\n",
       "      <td>9.036192</td>\n",
       "      <td>0.685733</td>\n",
       "      <td>0.765436</td>\n",
       "      <td>0.771791</td>\n",
       "      <td>0.785833</td>\n",
       "      <td>0.714301</td>\n",
       "      <td>0.648721</td>\n",
       "      <td>0.754072</td>\n",
       "      <td>0.888455</td>\n",
       "      <td>0.692874</td>\n",
       "      <td>2.001964</td>\n",
       "      <td>1.008637</td>\n",
       "      <td>7.035931</td>\n",
       "      <td>45.474476</td>\n",
       "      <td>55.978956</td>\n",
       "      <td>33.549254</td>\n",
       "      <td>66.323072</td>\n",
       "    </tr>\n",
       "  </tbody>\n",
       "</table>\n",
       "</div>"
      ],
      "text/plain": [
       "          1          2         3         4         5         6         7   \\\n",
       "0   7.124233   5.433231  4.319614  0.978750  0.980342  1.102135  1.117572   \n",
       "1   9.421164   8.063944  4.201499  0.690222  0.697132  0.805608  0.804797   \n",
       "2  12.060110  13.408899  6.010441  0.819400  0.851416  0.851200  0.861890   \n",
       "3  16.036455  15.464071  8.794956  1.137678  1.139245  1.229035  1.243658   \n",
       "4   5.923387   3.948865  9.036192  0.685733  0.765436  0.771791  0.785833   \n",
       "\n",
       "         8         9         10        11        12        13        14  \\\n",
       "0  1.140439  1.290242  1.287405  1.313772  1.311918  1.278089  1.258957   \n",
       "1  0.785811  0.751596  0.774496  0.774915  0.800164  0.771073  0.770568   \n",
       "2  0.852310  0.844098  0.854527  1.062064  1.445735  1.147383  1.278592   \n",
       "3  1.228466  1.244016  1.261516  1.267222  1.300098  1.281361  1.269341   \n",
       "4  0.714301  0.648721  0.754072  0.888455  0.692874  2.001964  1.008637   \n",
       "\n",
       "         15         16         17         18         19  \n",
       "0  1.255536   1.290256   1.600482   1.642832   1.640715  \n",
       "1  0.740235   0.764083   0.824427   0.806166   0.928571  \n",
       "2  1.060479   1.033686   1.431320   1.284898   3.981851  \n",
       "3  1.299011   1.410215   1.391093   1.384708   1.378782  \n",
       "4  7.035931  45.474476  55.978956  33.549254  66.323072  "
      ]
     },
     "execution_count": 96,
     "metadata": {},
     "output_type": "execute_result"
    }
   ],
   "source": [
    "test_acc"
   ]
  },
  {
   "cell_type": "code",
   "execution_count": 98,
   "id": "ce9e4732",
   "metadata": {
    "ExecuteTime": {
     "end_time": "2023-04-17T03:36:34.649586Z",
     "start_time": "2023-04-17T03:36:34.634553Z"
    }
   },
   "outputs": [],
   "source": [
    "train_acc_mean = train_acc.apply(np.mean, axis=0) #행을 가로질러 평균 계산\n",
    "test_acc_mean = test_acc.apply(np.mean, axis=0)"
   ]
  },
  {
   "cell_type": "markdown",
   "id": "846fd3c4",
   "metadata": {},
   "source": [
    "## 교차검증의 결과를 차수별로 그래프로 표시"
   ]
  },
  {
   "cell_type": "code",
   "execution_count": 99,
   "id": "9136636a-047d-4b99-9c36-b6000d09f6ca",
   "metadata": {
    "ExecuteTime": {
     "end_time": "2023-04-17T03:37:22.596053Z",
     "start_time": "2023-04-17T03:37:22.386608Z"
    }
   },
   "outputs": [
    {
     "data": {
      "text/plain": [
       "<matplotlib.legend.Legend at 0x7fbe9fe60910>"
      ]
     },
     "execution_count": 99,
     "metadata": {},
     "output_type": "execute_result"
    },
    {
     "data": {
      "image/png": "[encoded data removed]",
      "text/plain": [
       "<Figure size 864x576 with 1 Axes>"
      ]
     },
     "metadata": {
      "needs_background": "light"
     },
     "output_type": "display_data"
    }
   ],
   "source": [
    "import matplotlib.pyplot as plt\n",
    "plt.figure(figsize=(12,8))\n",
    "plt.plot(degrees, test_acc_mean, label ='test')\n",
    "plt.plot(degrees, train_acc_mean, label = 'train')\n",
    "plt.legend()"
   ]
  },
  {
   "cell_type": "markdown",
   "id": "0c40bbe3-f5d9-432f-8345-1bfcd2ed1b36",
   "metadata": {},
   "source": [
    "## SKlearn을 이용한 교차검증"
   ]
  },
  {
   "cell_type": "code",
   "execution_count": 76,
   "id": "4aa1595e-1eb9-41d6-b3e0-1a3dc8fbc7b8",
   "metadata": {
    "ExecuteTime": {
     "end_time": "2023-04-17T02:39:03.112473Z",
     "start_time": "2023-04-17T02:39:03.085537Z"
    }
   },
   "outputs": [],
   "source": [
    "from sklearn.model_selection import cross_validate\n",
    "\n",
    "reg=LinearRegression() #학습할 모형\n",
    "kfold = KFold(n_splits=5, shuffle=True) #데이터 쪼갤 방식\n",
    "metrics = ['neg_mean_absolute_error','neg_mean_squared_error','r2']\n",
    "\n",
    "result=cross_validate(X=X.reshape(-1,1),y=y,\n",
    "                       estimator=reg,\n",
    "                       scoring=metrics,\n",
    "                       cv=kfold)\n"
   ]
  },
  {
   "cell_type": "code",
   "execution_count": 83,
   "id": "0e60985b-89ac-4dca-b608-ad8142ea4d16",
   "metadata": {
    "ExecuteTime": {
     "end_time": "2023-04-17T03:03:15.093521Z",
     "start_time": "2023-04-17T03:03:14.890366Z"
    }
   },
   "outputs": [
    {
     "name": "stdout",
     "output_type": "stream",
     "text": [
      "Best hyperparameters: {'polynomialfeatures__degree': 4}\n",
      "Best score: 3.3545550984604224\n"
     ]
    }
   ],
   "source": [
    "from sklearn.model_selection import GridSearchCV, cross_val_score\n",
    "from sklearn.linear_model import LinearRegression\n",
    "from sklearn.preprocessing import PolynomialFeatures\n",
    "from sklearn.pipeline import make_pipeline\n",
    "import numpy as np\n",
    "\n",
    "# Load the data\n",
    "\n",
    "# Define the range of polynomial degrees to test\n",
    "param_grid = {'polynomialfeatures__degree': range(1,20)}\n",
    "\n",
    "# Create a pipeline with PolynomialFeatures and LinearRegression\n",
    "pipe = make_pipeline(PolynomialFeatures(), LinearRegression())\n",
    "\n",
    "# Use GridSearchCV with 5-fold cross-validation to search over the hyperparameter grid\n",
    "grid_search = GridSearchCV(pipe, param_grid, cv=5, scoring='neg_mean_squared_error', return_train_score=True)\n",
    "\n",
    "# Fit the GridSearchCV object to the data\n",
    "grid_search.fit(X.reshape(-1,1), y)\n",
    "\n",
    "# Print the best hyperparameters and mean score\n",
    "print(\"Best hyperparameters:\", grid_search.best_params_)\n",
    "print(\"Best score:\", -grid_search.best_score_)"
   ]
  }
 ],
 "metadata": {
  "kernelspec": {
   "display_name": "Python 3 (ipykernel)",
   "language": "python",
   "name": "python3"
  },
  "language_info": {
   "codemirror_mode": {
    "name": "ipython",
    "version": 3
   },
   "file_extension": ".py",
   "mimetype": "text/x-python",
   "name": "python",
   "nbconvert_exporter": "python",
   "pygments_lexer": "ipython3",
   "version": "3.8.10"
  },
  "toc": {
   "base_numbering": 1,
   "nav_menu": {},
   "number_sections": false,
   "sideBar": true,
   "skip_h1_title": false,
   "title_cell": "Table of Contents",
   "title_sidebar": "Contents",
   "toc_cell": false,
   "toc_position": {},
   "toc_section_display": true,
   "toc_window_display": false
  }
 },
 "nbformat": 4,
 "nbformat_minor": 5
}
