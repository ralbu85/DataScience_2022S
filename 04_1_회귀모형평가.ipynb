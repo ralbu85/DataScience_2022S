{
 "cells": [
  {
   "cell_type": "markdown",
   "id": "9d8c3e89-d131-49f7-81a3-e7f663d1a403",
   "metadata": {},
   "source": [
    "## 데이터 불러오기"
   ]
  },
  {
   "cell_type": "code",
   "execution_count": 36,
   "id": "5c145ed0-445d-41a5-a632-d08ef6866cd0",
   "metadata": {
    "ExecuteTime": {
     "end_time": "2023-03-28T04:21:39.260973Z",
     "start_time": "2023-03-28T04:21:38.888299Z"
    }
   },
   "outputs": [
    {
     "data": {
      "text/html": [
       "<div>\n",
       "<style scoped>\n",
       "    .dataframe tbody tr th:only-of-type {\n",
       "        vertical-align: middle;\n",
       "    }\n",
       "\n",
       "    .dataframe tbody tr th {\n",
       "        vertical-align: top;\n",
       "    }\n",
       "\n",
       "    .dataframe thead th {\n",
       "        text-align: right;\n",
       "    }\n",
       "</style>\n",
       "<table border=\"1\" class=\"dataframe\">\n",
       "  <thead>\n",
       "    <tr style=\"text-align: right;\">\n",
       "      <th></th>\n",
       "      <th>cylinders</th>\n",
       "      <th>displacement</th>\n",
       "      <th>horsepower</th>\n",
       "      <th>weight</th>\n",
       "      <th>acceleration</th>\n",
       "      <th>model_year</th>\n",
       "      <th>origin</th>\n",
       "      <th>mpg</th>\n",
       "    </tr>\n",
       "  </thead>\n",
       "  <tbody>\n",
       "    <tr>\n",
       "      <th>0</th>\n",
       "      <td>8</td>\n",
       "      <td>307.0</td>\n",
       "      <td>130.0</td>\n",
       "      <td>3504.0</td>\n",
       "      <td>12.0</td>\n",
       "      <td>70</td>\n",
       "      <td>1</td>\n",
       "      <td>18.0</td>\n",
       "    </tr>\n",
       "    <tr>\n",
       "      <th>1</th>\n",
       "      <td>8</td>\n",
       "      <td>350.0</td>\n",
       "      <td>165.0</td>\n",
       "      <td>3693.0</td>\n",
       "      <td>11.5</td>\n",
       "      <td>70</td>\n",
       "      <td>1</td>\n",
       "      <td>15.0</td>\n",
       "    </tr>\n",
       "    <tr>\n",
       "      <th>2</th>\n",
       "      <td>8</td>\n",
       "      <td>318.0</td>\n",
       "      <td>150.0</td>\n",
       "      <td>3436.0</td>\n",
       "      <td>11.0</td>\n",
       "      <td>70</td>\n",
       "      <td>1</td>\n",
       "      <td>18.0</td>\n",
       "    </tr>\n",
       "    <tr>\n",
       "      <th>3</th>\n",
       "      <td>8</td>\n",
       "      <td>304.0</td>\n",
       "      <td>150.0</td>\n",
       "      <td>3433.0</td>\n",
       "      <td>12.0</td>\n",
       "      <td>70</td>\n",
       "      <td>1</td>\n",
       "      <td>16.0</td>\n",
       "    </tr>\n",
       "    <tr>\n",
       "      <th>4</th>\n",
       "      <td>8</td>\n",
       "      <td>302.0</td>\n",
       "      <td>140.0</td>\n",
       "      <td>3449.0</td>\n",
       "      <td>10.5</td>\n",
       "      <td>70</td>\n",
       "      <td>1</td>\n",
       "      <td>17.0</td>\n",
       "    </tr>\n",
       "    <tr>\n",
       "      <th>...</th>\n",
       "      <td>...</td>\n",
       "      <td>...</td>\n",
       "      <td>...</td>\n",
       "      <td>...</td>\n",
       "      <td>...</td>\n",
       "      <td>...</td>\n",
       "      <td>...</td>\n",
       "      <td>...</td>\n",
       "    </tr>\n",
       "    <tr>\n",
       "      <th>387</th>\n",
       "      <td>4</td>\n",
       "      <td>140.0</td>\n",
       "      <td>86.0</td>\n",
       "      <td>2790.0</td>\n",
       "      <td>15.6</td>\n",
       "      <td>82</td>\n",
       "      <td>1</td>\n",
       "      <td>27.0</td>\n",
       "    </tr>\n",
       "    <tr>\n",
       "      <th>388</th>\n",
       "      <td>4</td>\n",
       "      <td>97.0</td>\n",
       "      <td>52.0</td>\n",
       "      <td>2130.0</td>\n",
       "      <td>24.6</td>\n",
       "      <td>82</td>\n",
       "      <td>2</td>\n",
       "      <td>44.0</td>\n",
       "    </tr>\n",
       "    <tr>\n",
       "      <th>389</th>\n",
       "      <td>4</td>\n",
       "      <td>135.0</td>\n",
       "      <td>84.0</td>\n",
       "      <td>2295.0</td>\n",
       "      <td>11.6</td>\n",
       "      <td>82</td>\n",
       "      <td>1</td>\n",
       "      <td>32.0</td>\n",
       "    </tr>\n",
       "    <tr>\n",
       "      <th>390</th>\n",
       "      <td>4</td>\n",
       "      <td>120.0</td>\n",
       "      <td>79.0</td>\n",
       "      <td>2625.0</td>\n",
       "      <td>18.6</td>\n",
       "      <td>82</td>\n",
       "      <td>1</td>\n",
       "      <td>28.0</td>\n",
       "    </tr>\n",
       "    <tr>\n",
       "      <th>391</th>\n",
       "      <td>4</td>\n",
       "      <td>119.0</td>\n",
       "      <td>82.0</td>\n",
       "      <td>2720.0</td>\n",
       "      <td>19.4</td>\n",
       "      <td>82</td>\n",
       "      <td>1</td>\n",
       "      <td>31.0</td>\n",
       "    </tr>\n",
       "  </tbody>\n",
       "</table>\n",
       "<p>392 rows × 8 columns</p>\n",
       "</div>"
      ],
      "text/plain": [
       "     cylinders  displacement  horsepower  weight  acceleration  model_year  \\\n",
       "0            8         307.0       130.0  3504.0          12.0          70   \n",
       "1            8         350.0       165.0  3693.0          11.5          70   \n",
       "2            8         318.0       150.0  3436.0          11.0          70   \n",
       "3            8         304.0       150.0  3433.0          12.0          70   \n",
       "4            8         302.0       140.0  3449.0          10.5          70   \n",
       "..         ...           ...         ...     ...           ...         ...   \n",
       "387          4         140.0        86.0  2790.0          15.6          82   \n",
       "388          4          97.0        52.0  2130.0          24.6          82   \n",
       "389          4         135.0        84.0  2295.0          11.6          82   \n",
       "390          4         120.0        79.0  2625.0          18.6          82   \n",
       "391          4         119.0        82.0  2720.0          19.4          82   \n",
       "\n",
       "     origin   mpg  \n",
       "0         1  18.0  \n",
       "1         1  15.0  \n",
       "2         1  18.0  \n",
       "3         1  16.0  \n",
       "4         1  17.0  \n",
       "..      ...   ...  \n",
       "387       1  27.0  \n",
       "388       2  44.0  \n",
       "389       1  32.0  \n",
       "390       1  28.0  \n",
       "391       1  31.0  \n",
       "\n",
       "[392 rows x 8 columns]"
      ]
     },
     "execution_count": 36,
     "metadata": {},
     "output_type": "execute_result"
    }
   ],
   "source": [
    "import pandas as pd\n",
    "df=pd.read_csv('https://raw.githubusercontent.com/ralbu85/DataScience_2022S/master/data/auto.csv')\n",
    "df"
   ]
  },
  {
   "cell_type": "markdown",
   "id": "1252ae8e-6776-4863-8ad3-699a6585ded1",
   "metadata": {},
   "source": [
    "## 전처리"
   ]
  },
  {
   "cell_type": "code",
   "execution_count": 37,
   "id": "d66e12e4-ba1b-45c0-ae6b-98891c26ccaa",
   "metadata": {
    "ExecuteTime": {
     "end_time": "2023-03-28T04:21:40.110400Z",
     "start_time": "2023-03-28T04:21:40.076882Z"
    }
   },
   "outputs": [
    {
     "data": {
      "text/html": [
       "<div>\n",
       "<style scoped>\n",
       "    .dataframe tbody tr th:only-of-type {\n",
       "        vertical-align: middle;\n",
       "    }\n",
       "\n",
       "    .dataframe tbody tr th {\n",
       "        vertical-align: top;\n",
       "    }\n",
       "\n",
       "    .dataframe thead th {\n",
       "        text-align: right;\n",
       "    }\n",
       "</style>\n",
       "<table border=\"1\" class=\"dataframe\">\n",
       "  <thead>\n",
       "    <tr style=\"text-align: right;\">\n",
       "      <th></th>\n",
       "      <th>cylinders</th>\n",
       "      <th>displacement</th>\n",
       "      <th>horsepower</th>\n",
       "      <th>weight</th>\n",
       "      <th>acceleration</th>\n",
       "      <th>model_year</th>\n",
       "      <th>mpg</th>\n",
       "      <th>origin_1</th>\n",
       "      <th>origin_2</th>\n",
       "      <th>origin_3</th>\n",
       "    </tr>\n",
       "  </thead>\n",
       "  <tbody>\n",
       "    <tr>\n",
       "      <th>0</th>\n",
       "      <td>8</td>\n",
       "      <td>307.0</td>\n",
       "      <td>130.0</td>\n",
       "      <td>3504.0</td>\n",
       "      <td>12.0</td>\n",
       "      <td>70</td>\n",
       "      <td>18.0</td>\n",
       "      <td>1</td>\n",
       "      <td>0</td>\n",
       "      <td>0</td>\n",
       "    </tr>\n",
       "    <tr>\n",
       "      <th>1</th>\n",
       "      <td>8</td>\n",
       "      <td>350.0</td>\n",
       "      <td>165.0</td>\n",
       "      <td>3693.0</td>\n",
       "      <td>11.5</td>\n",
       "      <td>70</td>\n",
       "      <td>15.0</td>\n",
       "      <td>1</td>\n",
       "      <td>0</td>\n",
       "      <td>0</td>\n",
       "    </tr>\n",
       "    <tr>\n",
       "      <th>2</th>\n",
       "      <td>8</td>\n",
       "      <td>318.0</td>\n",
       "      <td>150.0</td>\n",
       "      <td>3436.0</td>\n",
       "      <td>11.0</td>\n",
       "      <td>70</td>\n",
       "      <td>18.0</td>\n",
       "      <td>1</td>\n",
       "      <td>0</td>\n",
       "      <td>0</td>\n",
       "    </tr>\n",
       "    <tr>\n",
       "      <th>3</th>\n",
       "      <td>8</td>\n",
       "      <td>304.0</td>\n",
       "      <td>150.0</td>\n",
       "      <td>3433.0</td>\n",
       "      <td>12.0</td>\n",
       "      <td>70</td>\n",
       "      <td>16.0</td>\n",
       "      <td>1</td>\n",
       "      <td>0</td>\n",
       "      <td>0</td>\n",
       "    </tr>\n",
       "    <tr>\n",
       "      <th>4</th>\n",
       "      <td>8</td>\n",
       "      <td>302.0</td>\n",
       "      <td>140.0</td>\n",
       "      <td>3449.0</td>\n",
       "      <td>10.5</td>\n",
       "      <td>70</td>\n",
       "      <td>17.0</td>\n",
       "      <td>1</td>\n",
       "      <td>0</td>\n",
       "      <td>0</td>\n",
       "    </tr>\n",
       "    <tr>\n",
       "      <th>...</th>\n",
       "      <td>...</td>\n",
       "      <td>...</td>\n",
       "      <td>...</td>\n",
       "      <td>...</td>\n",
       "      <td>...</td>\n",
       "      <td>...</td>\n",
       "      <td>...</td>\n",
       "      <td>...</td>\n",
       "      <td>...</td>\n",
       "      <td>...</td>\n",
       "    </tr>\n",
       "    <tr>\n",
       "      <th>387</th>\n",
       "      <td>4</td>\n",
       "      <td>140.0</td>\n",
       "      <td>86.0</td>\n",
       "      <td>2790.0</td>\n",
       "      <td>15.6</td>\n",
       "      <td>82</td>\n",
       "      <td>27.0</td>\n",
       "      <td>1</td>\n",
       "      <td>0</td>\n",
       "      <td>0</td>\n",
       "    </tr>\n",
       "    <tr>\n",
       "      <th>388</th>\n",
       "      <td>4</td>\n",
       "      <td>97.0</td>\n",
       "      <td>52.0</td>\n",
       "      <td>2130.0</td>\n",
       "      <td>24.6</td>\n",
       "      <td>82</td>\n",
       "      <td>44.0</td>\n",
       "      <td>0</td>\n",
       "      <td>1</td>\n",
       "      <td>0</td>\n",
       "    </tr>\n",
       "    <tr>\n",
       "      <th>389</th>\n",
       "      <td>4</td>\n",
       "      <td>135.0</td>\n",
       "      <td>84.0</td>\n",
       "      <td>2295.0</td>\n",
       "      <td>11.6</td>\n",
       "      <td>82</td>\n",
       "      <td>32.0</td>\n",
       "      <td>1</td>\n",
       "      <td>0</td>\n",
       "      <td>0</td>\n",
       "    </tr>\n",
       "    <tr>\n",
       "      <th>390</th>\n",
       "      <td>4</td>\n",
       "      <td>120.0</td>\n",
       "      <td>79.0</td>\n",
       "      <td>2625.0</td>\n",
       "      <td>18.6</td>\n",
       "      <td>82</td>\n",
       "      <td>28.0</td>\n",
       "      <td>1</td>\n",
       "      <td>0</td>\n",
       "      <td>0</td>\n",
       "    </tr>\n",
       "    <tr>\n",
       "      <th>391</th>\n",
       "      <td>4</td>\n",
       "      <td>119.0</td>\n",
       "      <td>82.0</td>\n",
       "      <td>2720.0</td>\n",
       "      <td>19.4</td>\n",
       "      <td>82</td>\n",
       "      <td>31.0</td>\n",
       "      <td>1</td>\n",
       "      <td>0</td>\n",
       "      <td>0</td>\n",
       "    </tr>\n",
       "  </tbody>\n",
       "</table>\n",
       "<p>392 rows × 10 columns</p>\n",
       "</div>"
      ],
      "text/plain": [
       "     cylinders  displacement  horsepower  weight  acceleration  model_year  \\\n",
       "0            8         307.0       130.0  3504.0          12.0          70   \n",
       "1            8         350.0       165.0  3693.0          11.5          70   \n",
       "2            8         318.0       150.0  3436.0          11.0          70   \n",
       "3            8         304.0       150.0  3433.0          12.0          70   \n",
       "4            8         302.0       140.0  3449.0          10.5          70   \n",
       "..         ...           ...         ...     ...           ...         ...   \n",
       "387          4         140.0        86.0  2790.0          15.6          82   \n",
       "388          4          97.0        52.0  2130.0          24.6          82   \n",
       "389          4         135.0        84.0  2295.0          11.6          82   \n",
       "390          4         120.0        79.0  2625.0          18.6          82   \n",
       "391          4         119.0        82.0  2720.0          19.4          82   \n",
       "\n",
       "      mpg  origin_1  origin_2  origin_3  \n",
       "0    18.0         1         0         0  \n",
       "1    15.0         1         0         0  \n",
       "2    18.0         1         0         0  \n",
       "3    16.0         1         0         0  \n",
       "4    17.0         1         0         0  \n",
       "..    ...       ...       ...       ...  \n",
       "387  27.0         1         0         0  \n",
       "388  44.0         0         1         0  \n",
       "389  32.0         1         0         0  \n",
       "390  28.0         1         0         0  \n",
       "391  31.0         1         0         0  \n",
       "\n",
       "[392 rows x 10 columns]"
      ]
     },
     "execution_count": 37,
     "metadata": {},
     "output_type": "execute_result"
    }
   ],
   "source": [
    "df=pd.get_dummies(df,columns=['origin'])\n",
    "df"
   ]
  },
  {
   "cell_type": "markdown",
   "id": "29c403e4-3573-4ead-8681-b97a46ec6c20",
   "metadata": {},
   "source": [
    "## X, y 나누기"
   ]
  },
  {
   "cell_type": "code",
   "execution_count": 38,
   "id": "69ba0a19-6e55-466b-9f8f-e8b12eebbfbf",
   "metadata": {
    "ExecuteTime": {
     "end_time": "2023-03-28T04:21:41.251790Z",
     "start_time": "2023-03-28T04:21:41.246277Z"
    }
   },
   "outputs": [],
   "source": [
    "y=df['mpg']"
   ]
  },
  {
   "cell_type": "code",
   "execution_count": 39,
   "id": "11893966-0ddc-45ea-af17-4b028e4c923f",
   "metadata": {
    "ExecuteTime": {
     "end_time": "2023-03-28T04:21:41.836904Z",
     "start_time": "2023-03-28T04:21:41.828971Z"
    }
   },
   "outputs": [],
   "source": [
    "X=df.drop(columns=['mpg'])"
   ]
  },
  {
   "cell_type": "markdown",
   "id": "aa4fd814-5a91-46c5-ba85-4ece4bd6736e",
   "metadata": {},
   "source": [
    "## 회귀분석 모듈 불러오기"
   ]
  },
  {
   "cell_type": "code",
   "execution_count": 40,
   "id": "8e16168b-f386-47a7-952f-746679ccaea0",
   "metadata": {
    "ExecuteTime": {
     "end_time": "2023-03-28T04:21:43.945813Z",
     "start_time": "2023-03-28T04:21:43.940926Z"
    }
   },
   "outputs": [],
   "source": [
    "from sklearn.linear_model import LinearRegression\n",
    "reg = LinearRegression()"
   ]
  },
  {
   "cell_type": "markdown",
   "id": "95fc07f4-3bf8-4d6a-a7a4-0ebf8ce97cce",
   "metadata": {},
   "source": [
    "## 학습"
   ]
  },
  {
   "cell_type": "code",
   "execution_count": 41,
   "id": "35cd6d9a-726c-4a31-861f-dfb4e4cf871b",
   "metadata": {
    "ExecuteTime": {
     "end_time": "2023-03-28T04:21:44.968414Z",
     "start_time": "2023-03-28T04:21:44.956047Z"
    }
   },
   "outputs": [
    {
     "data": {
      "text/plain": [
       "LinearRegression()"
      ]
     },
     "execution_count": 41,
     "metadata": {},
     "output_type": "execute_result"
    }
   ],
   "source": [
    "reg.fit(X,y)"
   ]
  },
  {
   "cell_type": "markdown",
   "id": "ef65e0e3-3668-4282-bbc1-263afc6781d5",
   "metadata": {},
   "source": [
    "## 회귀모형의 정확도 평가"
   ]
  },
  {
   "cell_type": "markdown",
   "id": "90a926c8-62ac-4b8e-87da-5ae95e60620a",
   "metadata": {},
   "source": [
    "## RMSE"
   ]
  },
  {
   "cell_type": "markdown",
   "id": "4611c27d-a789-42e1-800a-31c69c401030",
   "metadata": {},
   "source": [
    "<font size=\"4\">\n",
    "$$ RMSE = \\sqrt{\\frac{1}{n} \\sum_{i=1}^{n} (y_i - \\hat{y}_i)^2} $$\n",
    "\n",
    "where:\n",
    "- `n` is the total number of data points\n",
    "- `y_i` is the true value of the `i`th data point\n",
    "- `\\hat{y}_i` is the predicted value of the `i`th data point\n",
    "- `(y_i - \\hat{y}_i)^2` is the squared difference between the true and predicted values of the `i`th data point\n",
    "- The square root is taken to convert the result back to the same units as the original data.\n",
    "When rendered, the equation will appear in the output cell like this:\n",
    "</font>    \n"
   ]
  },
  {
   "cell_type": "markdown",
   "id": "6c036de2",
   "metadata": {},
   "source": [
    "## RMSE from scratch"
   ]
  },
  {
   "cell_type": "code",
   "execution_count": 42,
   "id": "c2d2aa08-7821-4e60-be8f-d5c4d4ca9eb9",
   "metadata": {
    "ExecuteTime": {
     "end_time": "2023-03-28T04:21:45.968269Z",
     "start_time": "2023-03-28T04:21:45.956743Z"
    }
   },
   "outputs": [
    {
     "data": {
      "text/plain": [
       "array([14.95325212, 14.04009845, 15.23055101, 14.99408418, 14.90194083])"
      ]
     },
     "execution_count": 42,
     "metadata": {},
     "output_type": "execute_result"
    }
   ],
   "source": [
    "y_pred = reg.predict(X)\n",
    "y_pred[:5]"
   ]
  },
  {
   "cell_type": "code",
   "execution_count": 43,
   "id": "f8fdd57f-bbbc-494d-90eb-06ae65dd6b34",
   "metadata": {
    "ExecuteTime": {
     "end_time": "2023-03-28T04:21:46.565911Z",
     "start_time": "2023-03-28T04:21:46.555845Z"
    }
   },
   "outputs": [
    {
     "data": {
      "text/plain": [
       "0     -3.046748\n",
       "1     -0.959902\n",
       "2     -2.769449\n",
       "3     -1.005916\n",
       "4     -2.098059\n",
       "         ...   \n",
       "387    1.108037\n",
       "388   -8.534024\n",
       "389   -0.970261\n",
       "390    1.100271\n",
       "391   -2.552462\n",
       "Name: mpg, Length: 392, dtype: float64"
      ]
     },
     "execution_count": 43,
     "metadata": {},
     "output_type": "execute_result"
    }
   ],
   "source": [
    "y_pred-y"
   ]
  },
  {
   "cell_type": "code",
   "execution_count": 44,
   "id": "aac1dc1a-d790-4b5e-a41e-ecd18c730125",
   "metadata": {
    "ExecuteTime": {
     "end_time": "2023-03-28T04:21:47.866440Z",
     "start_time": "2023-03-28T04:21:47.861981Z"
    }
   },
   "outputs": [],
   "source": [
    "import numpy as np"
   ]
  },
  {
   "cell_type": "code",
   "execution_count": 45,
   "id": "82c8b850-72aa-4475-8dbb-ec80c75474e3",
   "metadata": {
    "ExecuteTime": {
     "end_time": "2023-03-28T04:21:48.293868Z",
     "start_time": "2023-03-28T04:21:48.284640Z"
    }
   },
   "outputs": [
    {
     "data": {
      "text/plain": [
       "3.2683515153304166"
      ]
     },
     "execution_count": 45,
     "metadata": {},
     "output_type": "execute_result"
    }
   ],
   "source": [
    "np.sqrt(np.sum((y_pred-y)**2)/y.count())"
   ]
  },
  {
   "cell_type": "markdown",
   "id": "b787822f-4f83-4259-9440-a41b6a333c30",
   "metadata": {},
   "source": [
    "## R2_score"
   ]
  },
  {
   "cell_type": "markdown",
   "id": "75edbc8d-ab0b-4c08-b8e9-857bad6ec578",
   "metadata": {},
   "source": [
    "<font size=\"4\">\n",
    "  $$ \n",
    "  R^{2} = \\dfrac {TSS-RSS} {TSS} = 1 - \\dfrac {RSS} {TSS} \\\\\n",
    "  TSS = \\sum_{i = 1}^{n}(y_{i}-\\overline{y})^{2}\\\\\n",
    "  RSS = \\sum_{i = 1}^{n}(y_{i}-\\hat{y})^{2} \n",
    "  $$\n",
    "\n",
    "where:\n",
    "- `n` is the total number of data points\n",
    "- `y_i` is the true value of the `i`th data point\n",
    "- `\\hat{y}_i` is the predicted value of the `i`th data point\n",
    "- `\\bar{y}` is the mean of the true values\n",
    "- `(y_i - \\hat{y}_i)^2` is the squared difference between the true and predicted values of the `i`th data point\n",
    "- `(y_i - \\bar{y})^2` is the squared difference between the true value and the mean of the true values\n",
    "- The R2 score ranges from 0 to 1, where 0 indicates that the model does not explain any of the variance in the data, and 1 indicates that the model perfectly explains the variance in the data.\n",
    "</font>    "
   ]
  },
  {
   "cell_type": "markdown",
   "id": "8378a157",
   "metadata": {},
   "source": [
    "## R2_score from scratch"
   ]
  },
  {
   "cell_type": "code",
   "execution_count": 46,
   "id": "83171bbd-6db2-40f0-a60e-efae3c33aa58",
   "metadata": {
    "ExecuteTime": {
     "end_time": "2023-03-28T04:21:49.230199Z",
     "start_time": "2023-03-28T04:21:49.223163Z"
    }
   },
   "outputs": [
    {
     "data": {
      "text/plain": [
       "23.44591836734694"
      ]
     },
     "execution_count": 46,
     "metadata": {},
     "output_type": "execute_result"
    }
   ],
   "source": [
    "y.mean()\n"
   ]
  },
  {
   "cell_type": "code",
   "execution_count": 47,
   "id": "4cdaffad-7183-4613-9561-b9ce5ef89b60",
   "metadata": {
    "ExecuteTime": {
     "end_time": "2023-03-28T04:21:50.070104Z",
     "start_time": "2023-03-28T04:21:50.061075Z"
    }
   },
   "outputs": [
    {
     "data": {
      "text/plain": [
       "23818.99346938775"
      ]
     },
     "execution_count": 47,
     "metadata": {},
     "output_type": "execute_result"
    }
   ],
   "source": [
    "tss=np.sum((y-y.mean())**2)\n",
    "tss"
   ]
  },
  {
   "cell_type": "code",
   "execution_count": 48,
   "id": "cf114764-c679-4847-85ca-f2000ae953eb",
   "metadata": {
    "ExecuteTime": {
     "end_time": "2023-03-28T04:21:50.775619Z",
     "start_time": "2023-03-28T04:21:50.767096Z"
    }
   },
   "outputs": [
    {
     "data": {
      "text/plain": [
       "4187.391678082951"
      ]
     },
     "execution_count": 48,
     "metadata": {},
     "output_type": "execute_result"
    }
   ],
   "source": [
    "rss=np.sum((y-y_pred)**2)\n",
    "rss"
   ]
  },
  {
   "cell_type": "code",
   "execution_count": 49,
   "id": "62dfcff2-3eea-42cf-b94c-fd6cab96cf93",
   "metadata": {
    "ExecuteTime": {
     "end_time": "2023-03-28T04:21:52.331833Z",
     "start_time": "2023-03-28T04:21:52.324725Z"
    }
   },
   "outputs": [
    {
     "data": {
      "text/plain": [
       "0.8241994699119171"
      ]
     },
     "execution_count": 49,
     "metadata": {},
     "output_type": "execute_result"
    }
   ],
   "source": [
    "1-rss/tss"
   ]
  },
  {
   "cell_type": "markdown",
   "id": "00a8ec7b-01ba-4e9c-a4fd-13b749312562",
   "metadata": {},
   "source": [
    "## sklearn 패키지를 이용한 평가지표 구하기"
   ]
  },
  {
   "cell_type": "code",
   "execution_count": 50,
   "id": "7546f6c6-717c-4688-beb5-6a26c04e124d",
   "metadata": {
    "ExecuteTime": {
     "end_time": "2023-03-28T04:21:53.660004Z",
     "start_time": "2023-03-28T04:21:53.654322Z"
    }
   },
   "outputs": [],
   "source": [
    "from sklearn.metrics import mean_squared_error, r2_score"
   ]
  },
  {
   "cell_type": "markdown",
   "id": "4abb3136-06ad-4a3d-90b1-5b6178c69f61",
   "metadata": {},
   "source": [
    "* https://scikit-learn.org/stable/modules/generated/sklearn.metrics.mean_squared_error.html\n",
    "* https://scikit-learn.org/stable/modules/generated/sklearn.metrics.r2_score.html"
   ]
  },
  {
   "cell_type": "markdown",
   "id": "9fd55cb3-9549-4d93-8602-f245136c18f4",
   "metadata": {},
   "source": [
    "### RMSE"
   ]
  },
  {
   "cell_type": "code",
   "execution_count": 51,
   "id": "e145bf76-b6c5-4559-a446-b41caa4db948",
   "metadata": {
    "ExecuteTime": {
     "end_time": "2023-03-28T04:21:54.550853Z",
     "start_time": "2023-03-28T04:21:54.542101Z"
    }
   },
   "outputs": [
    {
     "data": {
      "text/plain": [
       "10.682121627762632"
      ]
     },
     "execution_count": 51,
     "metadata": {},
     "output_type": "execute_result"
    }
   ],
   "source": [
    "mean_squared_error(y,y_pred)"
   ]
  },
  {
   "cell_type": "code",
   "execution_count": 52,
   "id": "b8f4c0ec-aed0-4171-92a8-577e75f9f2a3",
   "metadata": {
    "ExecuteTime": {
     "end_time": "2023-03-28T04:21:55.093182Z",
     "start_time": "2023-03-28T04:21:55.084523Z"
    }
   },
   "outputs": [
    {
     "data": {
      "text/plain": [
       "3.2683515153304166"
      ]
     },
     "execution_count": 52,
     "metadata": {},
     "output_type": "execute_result"
    }
   ],
   "source": [
    "np.sqrt(mean_squared_error(y,y_pred))"
   ]
  },
  {
   "cell_type": "markdown",
   "id": "175842f9-2c38-40e5-872e-a80bb743656e",
   "metadata": {},
   "source": [
    "### R2_Score"
   ]
  },
  {
   "cell_type": "code",
   "execution_count": 53,
   "id": "1eb0aba3-fe1e-446d-8674-ef452a5888f5",
   "metadata": {
    "ExecuteTime": {
     "end_time": "2023-03-28T04:21:55.862308Z",
     "start_time": "2023-03-28T04:21:55.853013Z"
    }
   },
   "outputs": [
    {
     "data": {
      "text/plain": [
       "0.8241994699119172"
      ]
     },
     "execution_count": 53,
     "metadata": {},
     "output_type": "execute_result"
    }
   ],
   "source": [
    "r2_score(y,y_pred)"
   ]
  },
  {
   "cell_type": "markdown",
   "id": "4a36f2ff",
   "metadata": {},
   "source": [
    "## MAE\n",
    "## MAE from scratch"
   ]
  },
  {
   "cell_type": "markdown",
   "id": "d11a12f3",
   "metadata": {
    "ExecuteTime": {
     "end_time": "2023-03-28T04:11:48.698553Z",
     "start_time": "2023-03-28T04:11:48.688053Z"
    }
   },
   "source": [
    "<font size=4>\n",
    "$$ MAE = \\frac{1}{n} \\sum_{i=1}^{n} |y_i - \\hat{y}_i| $$\n",
    "\n",
    "\n",
    "where:\n",
    "- `n` is the total number of data points\n",
    "- `y_i` is the true value of the `i`th data point\n",
    "- `\\hat{y}_i` is the predicted value of the `i`th data point\n",
    "- `|y_i - \\hat{y}_i|` is the absolute difference between the true and predicted values of the `i`th data point\n",
    "$$\n",
    "</font>"
   ]
  },
  {
   "cell_type": "code",
   "execution_count": 73,
   "id": "64e9cd1f",
   "metadata": {
    "ExecuteTime": {
     "end_time": "2023-03-28T04:21:58.087927Z",
     "start_time": "2023-03-28T04:21:58.078855Z"
    }
   },
   "outputs": [
    {
     "data": {
      "text/plain": [
       "2.5053892973783345"
      ]
     },
     "execution_count": 73,
     "metadata": {},
     "output_type": "execute_result"
    }
   ],
   "source": [
    "np.mean(np.abs(y-y_pred))\n",
    "# np.mean(np.abs(y-y_pred))"
   ]
  },
  {
   "cell_type": "markdown",
   "id": "9d11c6ad",
   "metadata": {},
   "source": [
    "## sklearn implementation of MAE"
   ]
  },
  {
   "cell_type": "code",
   "execution_count": 55,
   "id": "63d8de3f",
   "metadata": {
    "ExecuteTime": {
     "end_time": "2023-03-28T04:21:59.015811Z",
     "start_time": "2023-03-28T04:21:59.006735Z"
    }
   },
   "outputs": [
    {
     "data": {
      "text/plain": [
       "2.505389297378334"
      ]
     },
     "execution_count": 55,
     "metadata": {},
     "output_type": "execute_result"
    }
   ],
   "source": [
    "from sklearn.metrics import mean_absolute_error\n",
    "mean_absolute_error(y,y_pred)"
   ]
  },
  {
   "cell_type": "markdown",
   "id": "c6c2114b",
   "metadata": {},
   "source": [
    "## MAPE"
   ]
  },
  {
   "cell_type": "markdown",
   "id": "c05ed8ad",
   "metadata": {},
   "source": [
    "## MAPE from scratch"
   ]
  },
  {
   "cell_type": "markdown",
   "id": "8557af31",
   "metadata": {},
   "source": [
    "<font size=4>\n",
    "$$ MAPE = \\frac{1}{n} \\sum_{i=1}^{n} \\left|\\frac{y_i - \\hat{y}_i}{y_i}\\right| $$\n",
    "\n",
    "where:\n",
    "- `n` is the total number of data points\n",
    "- `y_i` is the true value of the `i`th data point\n",
    "- `\\hat{y}_i` is the predicted value of the `i`th data point\n",
    "- `\\left|\\frac{y_i - \\hat{y}_i}{y_i}\\right|` is the absolute percentage difference between the true and predicted values of the `i`th data point\n",
    "- `100\\%` is used to convert the result to a percentage value\n",
    "</font>"
   ]
  },
  {
   "cell_type": "code",
   "execution_count": 56,
   "id": "90de6efb",
   "metadata": {
    "ExecuteTime": {
     "end_time": "2023-03-28T04:22:01.007627Z",
     "start_time": "2023-03-28T04:22:00.998990Z"
    }
   },
   "outputs": [
    {
     "data": {
      "text/plain": [
       "0.11649088492978556"
      ]
     },
     "execution_count": 56,
     "metadata": {},
     "output_type": "execute_result"
    }
   ],
   "source": [
    "np.mean(np.abs((y-y_pred)/y))"
   ]
  },
  {
   "cell_type": "markdown",
   "id": "46857e2b-de10-4007-85ec-92dfee347873",
   "metadata": {},
   "source": [
    "## MAPE with sklearn"
   ]
  },
  {
   "cell_type": "code",
   "execution_count": 57,
   "id": "2baa0eb9",
   "metadata": {
    "ExecuteTime": {
     "end_time": "2023-03-28T04:22:02.598431Z",
     "start_time": "2023-03-28T04:22:02.589915Z"
    }
   },
   "outputs": [
    {
     "data": {
      "text/plain": [
       "0.11649088492978557"
      ]
     },
     "execution_count": 57,
     "metadata": {},
     "output_type": "execute_result"
    }
   ],
   "source": [
    "from sklearn.metrics import mean_absolute_percentage_error\n",
    "mean_absolute_percentage_error(y,y_pred)"
   ]
  },
  {
   "cell_type": "markdown",
   "id": "029d24b4",
   "metadata": {},
   "source": [
    "## y의 단위가 각 지표에 미치는 영향"
   ]
  },
  {
   "cell_type": "code",
   "execution_count": 82,
   "id": "5b2ccb2e",
   "metadata": {
    "ExecuteTime": {
     "end_time": "2023-03-28T04:22:52.298430Z",
     "start_time": "2023-03-28T04:22:52.292788Z"
    }
   },
   "outputs": [],
   "source": [
    "z=y*0.01 # 정답 데이터의 스케일을 100분에 1로 낮춤\n",
    "z_pred = y_pred*0.01 # 예측값의 스케일을 100분에 1로 낮춤"
   ]
  },
  {
   "cell_type": "code",
   "execution_count": 83,
   "id": "0d7410a3",
   "metadata": {
    "ExecuteTime": {
     "end_time": "2023-03-28T04:22:53.225632Z",
     "start_time": "2023-03-28T04:22:53.213683Z"
    }
   },
   "outputs": [
    {
     "name": "stdout",
     "output_type": "stream",
     "text": [
      "mse:  0.0010682121627762632\n",
      "r2_score:  0.8241994699119172\n",
      "mae:  0.02505389297378334\n",
      "mape:  0.11649088492978557\n"
     ]
    }
   ],
   "source": [
    "print('mse: ',mean_squared_error(z,z_pred))\n",
    "print('r2_score: ',r2_score(z,z_pred))\n",
    "print('mae: ',mean_absolute_error(z,z_pred))\n",
    "print('mape: ',mean_absolute_percentage_error(z,z_pred))"
   ]
  },
  {
   "cell_type": "markdown",
   "id": "0776f882-8207-4f93-bd7f-236d30cabfaa",
   "metadata": {},
   "source": [
    "## MAPE의 값이 이상하게 나오는 경우"
   ]
  },
  {
   "cell_type": "code",
   "execution_count": 84,
   "id": "9f918c26",
   "metadata": {
    "ExecuteTime": {
     "end_time": "2023-03-28T04:23:27.201617Z",
     "start_time": "2023-03-28T04:23:27.196114Z"
    }
   },
   "outputs": [],
   "source": [
    "z[0] = 0.0000000000000000001 # 실제 레이블의 정답이 0에 가까운 경우"
   ]
  },
  {
   "cell_type": "code",
   "execution_count": 85,
   "id": "aab5bae2",
   "metadata": {
    "ExecuteTime": {
     "end_time": "2023-03-28T04:23:33.107962Z",
     "start_time": "2023-03-28T04:23:33.095982Z"
    }
   },
   "outputs": [
    {
     "name": "stdout",
     "output_type": "stream",
     "text": [
      "0.0011228848863155043\n",
      "0.8191441792227707\n",
      "0.025357630326779124\n",
      "1717945425250.9465\n"
     ]
    }
   ],
   "source": [
    "print(mean_squared_error(z,z_pred))\n",
    "print(r2_score(z,z_pred))\n",
    "print(mean_absolute_error(z,z_pred))\n",
    "print(mean_absolute_percentage_error(z,z_pred))"
   ]
  }
 ],
 "metadata": {
  "kernelspec": {
   "display_name": "Python 3 (ipykernel)",
   "language": "python",
   "name": "python3"
  },
  "language_info": {
   "codemirror_mode": {
    "name": "ipython",
    "version": 3
   },
   "file_extension": ".py",
   "mimetype": "text/x-python",
   "name": "python",
   "nbconvert_exporter": "python",
   "pygments_lexer": "ipython3",
   "version": "3.8.10"
  },
  "toc": {
   "base_numbering": 1,
   "nav_menu": {},
   "number_sections": false,
   "sideBar": true,
   "skip_h1_title": false,
   "title_cell": "Table of Contents",
   "title_sidebar": "Contents",
   "toc_cell": false,
   "toc_position": {},
   "toc_section_display": true,
   "toc_window_display": false
  }
 },
 "nbformat": 4,
 "nbformat_minor": 5
}
