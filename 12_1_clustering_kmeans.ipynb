{
 "cells": [
  {
   "cell_type": "markdown",
   "id": "c025e329-0d38-4199-bfcd-a672e1105b22",
   "metadata": {
    "tags": []
   },
   "source": [
    "## Clustering"
   ]
  },
  {
   "cell_type": "markdown",
   "id": "bba250c4-f81d-4503-b85d-87aef5712278",
   "metadata": {},
   "source": [
    "## 데이터 불러오기"
   ]
  },
  {
   "cell_type": "code",
   "execution_count": 2,
   "id": "263bfa25-5fb5-4ff7-aa2a-6b74ef9d6090",
   "metadata": {},
   "outputs": [],
   "source": [
    "from sklearn import datasets\n",
    "import pandas as pd\n",
    "iris = datasets.load_iris(as_frame=True)"
   ]
  },
  {
   "cell_type": "code",
   "execution_count": 3,
   "id": "0d453ef1-437c-4dfc-a22c-685f74da0ba5",
   "metadata": {},
   "outputs": [],
   "source": [
    "df=iris['data']"
   ]
  },
  {
   "cell_type": "markdown",
   "id": "9dfa40b7-0615-49ca-bde9-f86b61b9434b",
   "metadata": {},
   "source": [
    "## 데이터 정규화"
   ]
  },
  {
   "cell_type": "code",
   "execution_count": 13,
   "id": "37c2669f-aa31-472b-b89b-a3fb7015369b",
   "metadata": {},
   "outputs": [],
   "source": [
    "from sklearn.preprocessing import StandardScaler\n",
    "scaler = StandardScaler()\n",
    "df_norm = scaler.fit_transform(df)"
   ]
  },
  {
   "cell_type": "markdown",
   "id": "5432bb3e-39f2-4a6f-941a-dad2612ef269",
   "metadata": {},
   "source": [
    "## 클러스터링 학습하기"
   ]
  },
  {
   "cell_type": "code",
   "execution_count": 14,
   "id": "18561598-2379-4c4b-8413-a6ad59fb0663",
   "metadata": {},
   "outputs": [
    {
     "data": {
      "text/plain": [
       "KMeans(n_clusters=3)"
      ]
     },
     "execution_count": 14,
     "metadata": {},
     "output_type": "execute_result"
    }
   ],
   "source": [
    "from sklearn.cluster import KMeans\n",
    "kmeans=KMeans(n_clusters=3) # kmeans 클러스터링 객체 생성\n",
    "kmeans.fit(df_norm) # 학습"
   ]
  },
  {
   "cell_type": "markdown",
   "id": "35c2a29e-7d4b-4111-bc31-9d779c02fbf6",
   "metadata": {},
   "source": [
    "## 중점 확인하기"
   ]
  },
  {
   "cell_type": "code",
   "execution_count": 15,
   "id": "2b623568-debd-4dea-b2f1-f0d15d855451",
   "metadata": {},
   "outputs": [
    {
     "data": {
      "text/plain": [
       "array([[ 1.13597027,  0.08842168,  0.99615451,  1.01752612],\n",
       "       [-1.01457897,  0.85326268, -1.30498732, -1.25489349],\n",
       "       [-0.05021989, -0.88337647,  0.34773781,  0.2815273 ]])"
      ]
     },
     "execution_count": 15,
     "metadata": {},
     "output_type": "execute_result"
    }
   ],
   "source": [
    "kmeans.cluster_centers_"
   ]
  },
  {
   "cell_type": "code",
   "execution_count": 16,
   "id": "7b09f1c5-a7d5-4762-9965-39b8df7e7582",
   "metadata": {},
   "outputs": [
    {
     "data": {
      "text/plain": [
       "139.82049635974977"
      ]
     },
     "execution_count": 16,
     "metadata": {},
     "output_type": "execute_result"
    }
   ],
   "source": [
    "## 중점과 소속된 점들사이 평균거리 확인\n",
    "kmeans.inertia_"
   ]
  },
  {
   "cell_type": "code",
   "execution_count": 17,
   "id": "101a2b17-ec9e-4246-b109-28d854807810",
   "metadata": {},
   "outputs": [
    {
     "data": {
      "text/plain": [
       "array([1, 1, 1, 1, 1, 1, 1, 1, 1, 1, 1, 1, 1, 1, 1, 1, 1, 1, 1, 1, 1, 1,\n",
       "       1, 1, 1, 1, 1, 1, 1, 1, 1, 1, 1, 1, 1, 1, 1, 1, 1, 1, 1, 1, 1, 1,\n",
       "       1, 1, 1, 1, 1, 1, 0, 0, 0, 2, 2, 2, 0, 2, 2, 2, 2, 2, 2, 2, 2, 0,\n",
       "       2, 2, 2, 2, 0, 2, 2, 2, 2, 0, 0, 0, 2, 2, 2, 2, 2, 2, 2, 0, 0, 2,\n",
       "       2, 2, 2, 2, 2, 2, 2, 2, 2, 2, 2, 2, 0, 2, 0, 0, 0, 0, 2, 0, 0, 0,\n",
       "       0, 0, 0, 2, 2, 0, 0, 0, 0, 2, 0, 2, 0, 2, 0, 0, 2, 0, 0, 0, 0, 0,\n",
       "       0, 2, 2, 0, 0, 0, 2, 0, 0, 0, 2, 0, 0, 0, 2, 0, 0, 2], dtype=int32)"
      ]
     },
     "execution_count": 17,
     "metadata": {},
     "output_type": "execute_result"
    }
   ],
   "source": [
    "# 분류된 점 확인\n",
    "kmeans.labels_"
   ]
  },
  {
   "cell_type": "markdown",
   "id": "c9004f7f-640a-44bd-822d-6748bb2b130d",
   "metadata": {},
   "source": [
    "## 예측"
   ]
  },
  {
   "cell_type": "code",
   "execution_count": 19,
   "id": "3e9a3e7e-3cb4-46cf-b348-501057e3a7c1",
   "metadata": {},
   "outputs": [
    {
     "data": {
      "text/plain": [
       "array([2], dtype=int32)"
      ]
     },
     "execution_count": 19,
     "metadata": {},
     "output_type": "execute_result"
    }
   ],
   "source": [
    "kmeans.predict([[0,0,0,0]])"
   ]
  },
  {
   "cell_type": "markdown",
   "id": "da98ca00-e0a3-4002-b16c-d861c3d06376",
   "metadata": {},
   "source": [
    "## K를 바꾸어가며 확인"
   ]
  },
  {
   "cell_type": "code",
   "execution_count": 20,
   "id": "b20c06f7-fcef-4e40-aec8-17ec2d40cce9",
   "metadata": {},
   "outputs": [],
   "source": [
    "cn=[]\n",
    "measure=[]\n",
    "for i in range(1,10):\n",
    "    kmeans= KMeans(n_clusters=i)\n",
    "    kmeans.fit(df_norm)\n",
    "    cn.append(i)\n",
    "    measure.append(kmeans.inertia_)"
   ]
  },
  {
   "cell_type": "code",
   "execution_count": 21,
   "id": "4fdb5b10-6042-4dbd-80fa-880b21703ad2",
   "metadata": {},
   "outputs": [
    {
     "data": {
      "text/plain": [
       "[599.9999999999999,\n",
       " 222.36170496502297,\n",
       " 139.82049635974974,\n",
       " 114.30449485021937,\n",
       " 90.83337188704894,\n",
       " 80.03687480296509,\n",
       " 71.04780988893488,\n",
       " 63.028916938300505,\n",
       " 55.13339521526774]"
      ]
     },
     "execution_count": 21,
     "metadata": {},
     "output_type": "execute_result"
    }
   ],
   "source": [
    "measure"
   ]
  },
  {
   "cell_type": "code",
   "execution_count": 22,
   "id": "e2c0e126-fc7e-4656-93c1-51e5ee3300e2",
   "metadata": {},
   "outputs": [
    {
     "data": {
      "text/plain": [
       "<BarContainer object of 9 artists>"
      ]
     },
     "execution_count": 22,
     "metadata": {},
     "output_type": "execute_result"
    },
    {
     "data": {
      "image/png": "[encoded data removed]",
      "text/plain": [
       "<Figure size 864x432 with 1 Axes>"
      ]
     },
     "metadata": {
      "needs_background": "light"
     },
     "output_type": "display_data"
    }
   ],
   "source": [
    "import matplotlib.pyplot as plt\n",
    "plt.figure(figsize=(12,6))\n",
    "plt.plot(cn,measure,'ro-')\n",
    "plt.bar(cn,measure,tick_label=cn)\n"
   ]
  }
 ],
 "metadata": {
  "kernelspec": {
   "display_name": "Python 3 (ipykernel)",
   "language": "python",
   "name": "python3"
  },
  "language_info": {
   "codemirror_mode": {
    "name": "ipython",
    "version": 3
   },
   "file_extension": ".py",
   "mimetype": "text/x-python",
   "name": "python",
   "nbconvert_exporter": "python",
   "pygments_lexer": "ipython3",
   "version": "3.8.10"
  }
 },
 "nbformat": 4,
 "nbformat_minor": 5
}
