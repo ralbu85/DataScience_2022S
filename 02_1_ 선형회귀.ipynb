{
 "cells": [
  {
   "cell_type": "markdown",
   "id": "36b4c61f-63fa-4404-9e91-0f54bf27770a",
   "metadata": {
    "tags": []
   },
   "source": [
    "# 가상 데이터 만들기"
   ]
  },
  {
   "cell_type": "markdown",
   "id": "d36ddb5a-9859-4c60-8a97-9ab7681d96b9",
   "metadata": {},
   "source": [
    "우선 선형회귀의 학습원리를 알아보기 위해 가상의 데이터를 생성시켜보겠다."
   ]
  },
  {
   "cell_type": "code",
   "execution_count": 1,
   "id": "c1e3c170-6d00-4011-b31d-16a21cd9b708",
   "metadata": {},
   "outputs": [],
   "source": [
    "import numpy as np"
   ]
  },
  {
   "cell_type": "markdown",
   "id": "86e43d2a-e46b-4583-8861-3f1355813711",
   "metadata": {},
   "source": [
    "* 입력값 X는 표준편차가 1인 정규분포로부터 무작위로 50개를 생성시켰다.\n",
    "* y = 2*X-3의 관계식에 따라 데이터가 생성된다고 가정한다.\n",
    "* 실제 상황에서 위의 관계식은 알려져있지 않으며, 데이터사이언스의 목적은 숨겨져있는 위와 같은 관계식을 우 리가 확보한 데이터로부터 학습하는 것이다. \n",
    "* 하지만 현재는 이러한 관계식을 알고있다고 가정한다."
   ]
  },
  {
   "cell_type": "code",
   "execution_count": 2,
   "id": "867a4c0c-47ce-4ff1-b172-71e0ba7b4e44",
   "metadata": {},
   "outputs": [],
   "source": [
    "true_w = 2\n",
    "true_b = -3\n",
    "X = np.random.normal(1,size=50)"
   ]
  },
  {
   "cell_type": "code",
   "execution_count": 3,
   "id": "4d63dd87-3fd9-462e-ab65-ae54cecba4db",
   "metadata": {},
   "outputs": [
    {
     "data": {
      "text/plain": [
       "array([ 0.34471715,  1.48664732,  1.7554499 ,  1.1720066 ,  0.04735666,\n",
       "        2.17363038,  0.08176512,  2.19632646,  0.67409827,  0.71057463,\n",
       "        2.19431913,  2.2138628 ,  0.18743854,  0.65105655,  0.768865  ,\n",
       "        2.02383561,  1.09484954,  1.8925212 ,  1.5416898 , -0.31013074,\n",
       "        0.6548577 ,  1.36221303,  0.54697837, -0.79694798,  1.95556753,\n",
       "        0.72202247, -0.09662863,  2.28020834,  1.50111145,  0.28089358,\n",
       "        0.84542208, -0.33446408,  2.87823768, -0.3252875 ,  1.97216855,\n",
       "        0.82551607,  1.84579481,  1.2006828 ,  1.09662286,  0.62309207,\n",
       "        0.20013567,  2.02180078, -0.25436066, -0.15059924, -0.30974652,\n",
       "        0.53393958,  0.13549018,  1.6854136 ,  1.04118085,  1.91463737])"
      ]
     },
     "execution_count": 3,
     "metadata": {},
     "output_type": "execute_result"
    }
   ],
   "source": [
    "X"
   ]
  },
  {
   "cell_type": "code",
   "execution_count": 4,
   "id": "5e2b1c66-b726-4b33-b0a9-1011dc7c8b4b",
   "metadata": {},
   "outputs": [
    {
     "data": {
      "text/plain": [
       "array([-2.31056571e+00, -2.67053649e-02,  5.10899796e-01, -6.55986796e-01,\n",
       "       -2.90528668e+00,  1.34726075e+00, -2.83646977e+00,  1.39265292e+00,\n",
       "       -1.65180346e+00, -1.57885073e+00,  1.38863826e+00,  1.42772561e+00,\n",
       "       -2.62512292e+00, -1.69788690e+00, -1.46226999e+00,  1.04767121e+00,\n",
       "       -8.10300930e-01,  7.85042403e-01,  8.33796033e-02, -3.62026149e+00,\n",
       "       -1.69028460e+00, -2.75573932e-01, -1.90604326e+00, -4.59389595e+00,\n",
       "        9.11135051e-01, -1.55595507e+00, -3.19325725e+00,  1.56041668e+00,\n",
       "        2.22290984e-03, -2.43821284e+00, -1.30915584e+00, -3.66892816e+00,\n",
       "        2.75647536e+00, -3.65057500e+00,  9.44337106e-01, -1.34896786e+00,\n",
       "        6.91589616e-01, -5.98634409e-01, -8.06754287e-01, -1.75381587e+00,\n",
       "       -2.59972866e+00,  1.04360155e+00, -3.50872133e+00, -3.30119849e+00,\n",
       "       -3.61949304e+00, -1.93212083e+00, -2.72901963e+00,  3.70827209e-01,\n",
       "       -9.17638300e-01,  8.29274749e-01])"
      ]
     },
     "execution_count": 4,
     "metadata": {},
     "output_type": "execute_result"
    }
   ],
   "source": [
    "y = true_w*X+true_b\n",
    "y"
   ]
  },
  {
   "cell_type": "markdown",
   "id": "d3e6917c-0f14-42f5-9ddc-20863e7c720b",
   "metadata": {},
   "source": [
    "* 현재 상황에서 X와 y의 관계를 산점도로 그려보면 다음과 같은 그래프의 결과물이 출력되는 것을 확인할 수 있다. \n",
    "* X와 y의 관계식에 따라 직선 형태의 관계가 그려지는 것을 확인할 수 있다"
   ]
  },
  {
   "cell_type": "code",
   "execution_count": 5,
   "id": "b5f38c4d-1ae7-45ea-9d35-765a217791be",
   "metadata": {},
   "outputs": [
    {
     "data": {
      "text/plain": [
       "<matplotlib.collections.PathCollection at 0x7f8f58f72460>"
      ]
     },
     "execution_count": 5,
     "metadata": {},
     "output_type": "execute_result"
    },
    {
     "data": {
      "image/png": "[encoded data removed]",
      "text/plain": [
       "<Figure size 432x288 with 1 Axes>"
      ]
     },
     "metadata": {
      "needs_background": "light"
     },
     "output_type": "display_data"
    }
   ],
   "source": [
    "import matplotlib.pyplot as plt\n",
    "plt.scatter(X,y)"
   ]
  },
  {
   "cell_type": "markdown",
   "id": "0141be81-66e0-48b8-aacb-4c0d28b2ef2e",
   "metadata": {},
   "source": [
    "* y=2*X-3의 관계식에 추가적으로 일정부분의 noise를 추가한다. \n",
    "* 이 noise는 관측과정에서 혹은 데이터 생성과정에서 우리가 컨트롤 할 수 없는 랜덤한 요소를 의미한다."
   ]
  },
  {
   "cell_type": "code",
   "execution_count": 6,
   "id": "c34a10e3-db12-4812-96db-6b36bb4a815b",
   "metadata": {},
   "outputs": [
    {
     "data": {
      "text/plain": [
       "array([ 1.16880294, -0.86704751, -1.11590753,  0.45403485, -0.55794462,\n",
       "        0.09046731, -0.8069117 , -0.82693513,  0.52683012, -1.41076528,\n",
       "        1.57165246,  1.90410051, -0.80111287, -0.60808458,  1.23302603,\n",
       "        0.56310068, -1.55885642, -1.55187169, -0.14555679, -1.19867071,\n",
       "        0.55241985,  0.33858742,  0.11729284,  0.43572415,  1.06775237,\n",
       "        0.7567271 ,  0.09455157, -1.02321073,  1.5854803 ,  0.70512385,\n",
       "       -1.40056826,  0.53135427,  1.13889092,  0.91730739, -0.19271587,\n",
       "       -0.74215595, -1.03479242,  0.98824609, -3.00755287, -0.0747535 ,\n",
       "       -0.74835918, -0.88469563, -0.2290001 , -1.68169346, -0.80490743,\n",
       "       -0.84330748, -0.74187551,  1.27926318,  1.61631933,  0.00720117])"
      ]
     },
     "execution_count": 6,
     "metadata": {},
     "output_type": "execute_result"
    }
   ],
   "source": [
    "noise = np.random.normal(0.1, size=50)\n",
    "noise"
   ]
  },
  {
   "cell_type": "markdown",
   "id": "e21633ca-0242-4473-9222-2d324a427412",
   "metadata": {},
   "source": [
    "* 이에따라 기존의 y에 랜덤 요소를 더하게 되면, 다음과 같은 X와 y사이의 관계를 얻을수 있다. \n",
    "* 실제 세계에서 우리는 다음과 같은 데이터를 확보할 수 있을 것이며, 우리의 목적은 주어진 데이터를 이용하여 정답 즉, y=2X-3의 관계식을 잘 추론할 수 있어야 할 것이다."
   ]
  },
  {
   "cell_type": "code",
   "execution_count": 7,
   "id": "6091f81e-1e8a-4524-ae49-5a77cf48c2a1",
   "metadata": {},
   "outputs": [],
   "source": [
    "y = y + noise"
   ]
  },
  {
   "cell_type": "code",
   "execution_count": 8,
   "id": "22d12734-5cad-4fea-8279-13b259ec70b2",
   "metadata": {},
   "outputs": [
    {
     "data": {
      "text/plain": [
       "<matplotlib.collections.PathCollection at 0x7f8f58e57940>"
      ]
     },
     "execution_count": 8,
     "metadata": {},
     "output_type": "execute_result"
    },
    {
     "data": {
      "image/png": "[encoded data removed]",
      "text/plain": [
       "<Figure size 432x288 with 1 Axes>"
      ]
     },
     "metadata": {
      "needs_background": "light"
     },
     "output_type": "display_data"
    }
   ],
   "source": [
    "plt.scatter(X,y)"
   ]
  },
  {
   "cell_type": "markdown",
   "id": "25aaf9a7-6cf0-4bdd-af27-90073edff822",
   "metadata": {},
   "source": [
    "## 선형회귀 학습하기"
   ]
  },
  {
   "cell_type": "markdown",
   "id": "33d3ad29-51cf-47e5-916d-12b1cdacafc9",
   "metadata": {},
   "source": [
    "* 파이썬에서 선형회귀 모형을 학습하기 위해서는 sklearn.linear_model안에 들어있는 LinearRegression을 사용하면 된다. \n",
    "* sklearn.linear_model 내부에는 LinearRegression과 LogisticRegression 등 선형모형에 관련된 다양한 모델들이 존재한다.\n"
   ]
  },
  {
   "cell_type": "code",
   "execution_count": 9,
   "id": "f285a52e-70dc-4e06-95a5-d15b4d80c2a3",
   "metadata": {},
   "outputs": [],
   "source": [
    "from sklearn.linear_model import LinearRegression"
   ]
  },
  {
   "cell_type": "markdown",
   "id": "276df06b-bca2-442f-b669-ce5c221c7a8c",
   "metadata": {},
   "source": [
    "* 사용법은 매우 간단하다 LinearRegression 객체를 불러서 이를 사용하면 된다.\n",
    "* 실제 사용하기 전에 sklearn에서 제공하는 LienarRegression API를 읽어보길 권장한다.\n",
    "* https://scikit-learn.org/stable/modules/generated/sklearn.linear_model.LinearRegression.html"
   ]
  },
  {
   "cell_type": "code",
   "execution_count": 10,
   "id": "350421fb-fb89-4d6a-96af-b36d5489156f",
   "metadata": {},
   "outputs": [],
   "source": [
    "reg = LinearRegression()"
   ]
  },
  {
   "cell_type": "code",
   "execution_count": 11,
   "id": "473e3a25-be57-49f3-be91-9029236ef6b1",
   "metadata": {},
   "outputs": [
    {
     "ename": "ValueError",
     "evalue": "Expected 2D array, got 1D array instead:\narray=[ 0.34471715  1.48664732  1.7554499   1.1720066   0.04735666  2.17363038\n  0.08176512  2.19632646  0.67409827  0.71057463  2.19431913  2.2138628\n  0.18743854  0.65105655  0.768865    2.02383561  1.09484954  1.8925212\n  1.5416898  -0.31013074  0.6548577   1.36221303  0.54697837 -0.79694798\n  1.95556753  0.72202247 -0.09662863  2.28020834  1.50111145  0.28089358\n  0.84542208 -0.33446408  2.87823768 -0.3252875   1.97216855  0.82551607\n  1.84579481  1.2006828   1.09662286  0.62309207  0.20013567  2.02180078\n -0.25436066 -0.15059924 -0.30974652  0.53393958  0.13549018  1.6854136\n  1.04118085  1.91463737].\nReshape your data either using array.reshape(-1, 1) if your data has a single feature or array.reshape(1, -1) if it contains a single sample.",
     "output_type": "error",
     "traceback": [
      "\u001b[0;31m---------------------------------------------------------------------------\u001b[0m",
      "\u001b[0;31mValueError\u001b[0m                                Traceback (most recent call last)",
      "\u001b[0;32m/tmp/ipykernel_55879/2014793524.py\u001b[0m in \u001b[0;36m<module>\u001b[0;34m\u001b[0m\n\u001b[0;32m----> 1\u001b[0;31m \u001b[0mreg\u001b[0m\u001b[0;34m.\u001b[0m\u001b[0mfit\u001b[0m\u001b[0;34m(\u001b[0m\u001b[0mX\u001b[0m\u001b[0;34m,\u001b[0m\u001b[0my\u001b[0m\u001b[0;34m)\u001b[0m\u001b[0;34m\u001b[0m\u001b[0;34m\u001b[0m\u001b[0m\n\u001b[0m",
      "\u001b[0;32m/opt/conda/lib/python3.8/site-packages/sklearn/linear_model/_base.py\u001b[0m in \u001b[0;36mfit\u001b[0;34m(self, X, y, sample_weight)\u001b[0m\n\u001b[1;32m    660\u001b[0m         \u001b[0maccept_sparse\u001b[0m \u001b[0;34m=\u001b[0m \u001b[0;32mFalse\u001b[0m \u001b[0;32mif\u001b[0m \u001b[0mself\u001b[0m\u001b[0;34m.\u001b[0m\u001b[0mpositive\u001b[0m \u001b[0;32melse\u001b[0m \u001b[0;34m[\u001b[0m\u001b[0;34m\"csr\"\u001b[0m\u001b[0;34m,\u001b[0m \u001b[0;34m\"csc\"\u001b[0m\u001b[0;34m,\u001b[0m \u001b[0;34m\"coo\"\u001b[0m\u001b[0;34m]\u001b[0m\u001b[0;34m\u001b[0m\u001b[0;34m\u001b[0m\u001b[0m\n\u001b[1;32m    661\u001b[0m \u001b[0;34m\u001b[0m\u001b[0m\n\u001b[0;32m--> 662\u001b[0;31m         X, y = self._validate_data(\n\u001b[0m\u001b[1;32m    663\u001b[0m             \u001b[0mX\u001b[0m\u001b[0;34m,\u001b[0m \u001b[0my\u001b[0m\u001b[0;34m,\u001b[0m \u001b[0maccept_sparse\u001b[0m\u001b[0;34m=\u001b[0m\u001b[0maccept_sparse\u001b[0m\u001b[0;34m,\u001b[0m \u001b[0my_numeric\u001b[0m\u001b[0;34m=\u001b[0m\u001b[0;32mTrue\u001b[0m\u001b[0;34m,\u001b[0m \u001b[0mmulti_output\u001b[0m\u001b[0;34m=\u001b[0m\u001b[0;32mTrue\u001b[0m\u001b[0;34m\u001b[0m\u001b[0;34m\u001b[0m\u001b[0m\n\u001b[1;32m    664\u001b[0m         )\n",
      "\u001b[0;32m/opt/conda/lib/python3.8/site-packages/sklearn/base.py\u001b[0m in \u001b[0;36m_validate_data\u001b[0;34m(self, X, y, reset, validate_separately, **check_params)\u001b[0m\n\u001b[1;32m    579\u001b[0m                 \u001b[0my\u001b[0m \u001b[0;34m=\u001b[0m \u001b[0mcheck_array\u001b[0m\u001b[0;34m(\u001b[0m\u001b[0my\u001b[0m\u001b[0;34m,\u001b[0m \u001b[0;34m**\u001b[0m\u001b[0mcheck_y_params\u001b[0m\u001b[0;34m)\u001b[0m\u001b[0;34m\u001b[0m\u001b[0;34m\u001b[0m\u001b[0m\n\u001b[1;32m    580\u001b[0m             \u001b[0;32melse\u001b[0m\u001b[0;34m:\u001b[0m\u001b[0;34m\u001b[0m\u001b[0;34m\u001b[0m\u001b[0m\n\u001b[0;32m--> 581\u001b[0;31m                 \u001b[0mX\u001b[0m\u001b[0;34m,\u001b[0m \u001b[0my\u001b[0m \u001b[0;34m=\u001b[0m \u001b[0mcheck_X_y\u001b[0m\u001b[0;34m(\u001b[0m\u001b[0mX\u001b[0m\u001b[0;34m,\u001b[0m \u001b[0my\u001b[0m\u001b[0;34m,\u001b[0m \u001b[0;34m**\u001b[0m\u001b[0mcheck_params\u001b[0m\u001b[0;34m)\u001b[0m\u001b[0;34m\u001b[0m\u001b[0;34m\u001b[0m\u001b[0m\n\u001b[0m\u001b[1;32m    582\u001b[0m             \u001b[0mout\u001b[0m \u001b[0;34m=\u001b[0m \u001b[0mX\u001b[0m\u001b[0;34m,\u001b[0m \u001b[0my\u001b[0m\u001b[0;34m\u001b[0m\u001b[0;34m\u001b[0m\u001b[0m\n\u001b[1;32m    583\u001b[0m \u001b[0;34m\u001b[0m\u001b[0m\n",
      "\u001b[0;32m/opt/conda/lib/python3.8/site-packages/sklearn/utils/validation.py\u001b[0m in \u001b[0;36mcheck_X_y\u001b[0;34m(X, y, accept_sparse, accept_large_sparse, dtype, order, copy, force_all_finite, ensure_2d, allow_nd, multi_output, ensure_min_samples, ensure_min_features, y_numeric, estimator)\u001b[0m\n\u001b[1;32m    962\u001b[0m         \u001b[0;32mraise\u001b[0m \u001b[0mValueError\u001b[0m\u001b[0;34m(\u001b[0m\u001b[0;34m\"y cannot be None\"\u001b[0m\u001b[0;34m)\u001b[0m\u001b[0;34m\u001b[0m\u001b[0;34m\u001b[0m\u001b[0m\n\u001b[1;32m    963\u001b[0m \u001b[0;34m\u001b[0m\u001b[0m\n\u001b[0;32m--> 964\u001b[0;31m     X = check_array(\n\u001b[0m\u001b[1;32m    965\u001b[0m         \u001b[0mX\u001b[0m\u001b[0;34m,\u001b[0m\u001b[0;34m\u001b[0m\u001b[0;34m\u001b[0m\u001b[0m\n\u001b[1;32m    966\u001b[0m         \u001b[0maccept_sparse\u001b[0m\u001b[0;34m=\u001b[0m\u001b[0maccept_sparse\u001b[0m\u001b[0;34m,\u001b[0m\u001b[0;34m\u001b[0m\u001b[0;34m\u001b[0m\u001b[0m\n",
      "\u001b[0;32m/opt/conda/lib/python3.8/site-packages/sklearn/utils/validation.py\u001b[0m in \u001b[0;36mcheck_array\u001b[0;34m(array, accept_sparse, accept_large_sparse, dtype, order, copy, force_all_finite, ensure_2d, allow_nd, ensure_min_samples, ensure_min_features, estimator)\u001b[0m\n\u001b[1;32m    767\u001b[0m             \u001b[0;31m# If input is 1D raise error\u001b[0m\u001b[0;34m\u001b[0m\u001b[0;34m\u001b[0m\u001b[0;34m\u001b[0m\u001b[0m\n\u001b[1;32m    768\u001b[0m             \u001b[0;32mif\u001b[0m \u001b[0marray\u001b[0m\u001b[0;34m.\u001b[0m\u001b[0mndim\u001b[0m \u001b[0;34m==\u001b[0m \u001b[0;36m1\u001b[0m\u001b[0;34m:\u001b[0m\u001b[0;34m\u001b[0m\u001b[0;34m\u001b[0m\u001b[0m\n\u001b[0;32m--> 769\u001b[0;31m                 raise ValueError(\n\u001b[0m\u001b[1;32m    770\u001b[0m                     \u001b[0;34m\"Expected 2D array, got 1D array instead:\\narray={}.\\n\"\u001b[0m\u001b[0;34m\u001b[0m\u001b[0;34m\u001b[0m\u001b[0m\n\u001b[1;32m    771\u001b[0m                     \u001b[0;34m\"Reshape your data either using array.reshape(-1, 1) if \"\u001b[0m\u001b[0;34m\u001b[0m\u001b[0;34m\u001b[0m\u001b[0m\n",
      "\u001b[0;31mValueError\u001b[0m: Expected 2D array, got 1D array instead:\narray=[ 0.34471715  1.48664732  1.7554499   1.1720066   0.04735666  2.17363038\n  0.08176512  2.19632646  0.67409827  0.71057463  2.19431913  2.2138628\n  0.18743854  0.65105655  0.768865    2.02383561  1.09484954  1.8925212\n  1.5416898  -0.31013074  0.6548577   1.36221303  0.54697837 -0.79694798\n  1.95556753  0.72202247 -0.09662863  2.28020834  1.50111145  0.28089358\n  0.84542208 -0.33446408  2.87823768 -0.3252875   1.97216855  0.82551607\n  1.84579481  1.2006828   1.09662286  0.62309207  0.20013567  2.02180078\n -0.25436066 -0.15059924 -0.30974652  0.53393958  0.13549018  1.6854136\n  1.04118085  1.91463737].\nReshape your data either using array.reshape(-1, 1) if your data has a single feature or array.reshape(1, -1) if it contains a single sample."
     ]
    }
   ],
   "source": [
    "reg.fit(X,y)"
   ]
  },
  {
   "cell_type": "markdown",
   "id": "65315fd1-0f71-40db-bc82-3ce2cde7ff26",
   "metadata": {},
   "source": [
    "* 현재 상황에서 reg.fit()명령어를 이용하여 학습하면 에러가나는데 그 이유는 X벡터가 1차원 벡터로 주어져 있기 때문이다. (현재의 차원 1차원, n개의 벡터)\n",
    "* 1차원인 종속변수와 달리 머신러닝 상황에서 대부분의 데이터는 matrix형태, 즉 2차원의 형태를 갖는다. 따라서 현재 독립변수가 1개의 feature로 구성되어 있다 하더라도 이를 2차원의 형태로 바꾸어주어야 한다. (즉 2차원, nxp 형태로 바꾸어주어야 한다)\n",
    "* 이를 위해 numpy에서 제공하는 reshape를 수행한다.\n",
    "* reshape(-1,1)이라고 하면 뒤의 열은 1열로 하고 앞의 -1부분은 알아서 맞추라는 뜻이다. 따라서 데이터의 갯수인 n개가 자동으로 맞추어지게 된다."
   ]
  },
  {
   "cell_type": "code",
   "execution_count": 12,
   "id": "9f9e5d76-3c60-4bb4-8b3d-8be1d20de7c3",
   "metadata": {},
   "outputs": [],
   "source": [
    "X=X.reshape(-1,1)"
   ]
  },
  {
   "cell_type": "markdown",
   "id": "156ae152-2fed-423a-b252-ddb51bdbce4c",
   "metadata": {},
   "source": [
    "* 이제 학습할 준비가 끝났다."
   ]
  },
  {
   "cell_type": "code",
   "execution_count": 13,
   "id": "85e6a7bd-3515-4413-8c9c-59f8bf4d7380",
   "metadata": {},
   "outputs": [
    {
     "data": {
      "text/plain": [
       "LinearRegression()"
      ]
     },
     "execution_count": 13,
     "metadata": {},
     "output_type": "execute_result"
    }
   ],
   "source": [
    "reg.fit(X,y)"
   ]
  },
  {
   "cell_type": "markdown",
   "id": "1baeea11-b0c6-4974-a46d-a485ba76edac",
   "metadata": {},
   "source": [
    "* 학습이 완료되고 선형회귀 객체에 저장되어있는 학습된 패러미터를 확인해보자."
   ]
  },
  {
   "cell_type": "code",
   "execution_count": 15,
   "id": "84abe4e9-bdc2-4b7b-8dc6-61037ad282e3",
   "metadata": {},
   "outputs": [
    {
     "data": {
      "text/plain": [
       "(array([2.17797653]), -3.2778513660843487)"
      ]
     },
     "execution_count": 15,
     "metadata": {},
     "output_type": "execute_result"
    }
   ],
   "source": [
    "reg.coef_, reg.intercept_"
   ]
  },
  {
   "cell_type": "markdown",
   "id": "8ce5fbcb-762a-4090-8d76-4c5069573d00",
   "metadata": {},
   "source": [
    "* 우리가 생성시켰던 계수를 얼추 맞추는 것을 확인할수 있다. 데이터 생성시 발생한 랜덤한 요소로 인하여 완벽하게 데이터를 맞추지는 못하였음을 확인할 수 있다."
   ]
  },
  {
   "cell_type": "markdown",
   "id": "5c1bcc4e-a98c-406f-b3b2-da453af82fe9",
   "metadata": {},
   "source": [
    "## 학습된 모형을 이용한 예측"
   ]
  },
  {
   "cell_type": "code",
   "execution_count": 16,
   "id": "fbc6895e-ab61-479a-8518-b2fe61ca3981",
   "metadata": {},
   "outputs": [],
   "source": [
    "y_pred = reg.predict(X)"
   ]
  },
  {
   "cell_type": "code",
   "execution_count": 18,
   "id": "a3a9ce5b-30dd-461b-bbbf-cda0696f1bb3",
   "metadata": {},
   "outputs": [
    {
     "data": {
      "text/plain": [
       "<matplotlib.collections.PathCollection at 0x7f8ef8e52880>"
      ]
     },
     "execution_count": 18,
     "metadata": {},
     "output_type": "execute_result"
    },
    {
     "data": {
      "image/png": "[encoded data removed]",
      "text/plain": [
       "<Figure size 432x288 with 1 Axes>"
      ]
     },
     "metadata": {
      "needs_background": "light"
     },
     "output_type": "display_data"
    }
   ],
   "source": [
    "plt.scatter(X,y)"
   ]
  },
  {
   "cell_type": "code",
   "execution_count": 27,
   "id": "1d864bb9-0995-4220-a506-fa9ec0619d12",
   "metadata": {},
   "outputs": [
    {
     "data": {
      "text/plain": [
       "array([-2.52706551, -0.0399684 ,  0.54547731, -0.7252485 , -3.17470967,\n",
       "        1.45626457, -3.09976886,  1.50569611, -1.80968116, -1.73023649,\n",
       "        1.50132419,  1.54388986, -2.86961462, -1.85986548, -1.60328144,\n",
       "        1.13001508, -0.89329478,  0.84401539,  0.07991284, -3.95330885,\n",
       "       -1.85158666, -0.31098335, -2.08654531, -5.01358535,  0.9813288 ,\n",
       "       -1.70530338, -3.48830625,  1.68838888, -0.00846585, -2.66607174,\n",
       "       -1.43654192, -4.00630628,  2.99088275, -3.98631991,  1.01748545,\n",
       "       -1.47989674,  0.7422464 , -0.66279242, -0.88943252, -1.92077147,\n",
       "       -2.84196058,  1.12558327, -3.83184292, -3.60585298, -3.95247202,\n",
       "       -2.11494348, -2.98275692,  0.3929399 , -1.01018391,  0.89218389])"
      ]
     },
     "execution_count": 27,
     "metadata": {},
     "output_type": "execute_result"
    }
   ],
   "source": [
    "y_pred=reg.predict(X)\n",
    "y_pred"
   ]
  },
  {
   "cell_type": "code",
   "execution_count": 28,
   "id": "2343954f-e16a-46a9-bcb1-1f328cca172d",
   "metadata": {},
   "outputs": [
    {
     "data": {
      "text/plain": [
       "<matplotlib.collections.PathCollection at 0x7f8ef8cbc5e0>"
      ]
     },
     "execution_count": 28,
     "metadata": {},
     "output_type": "execute_result"
    },
    {
     "data": {
      "image/png": "[encoded data removed]",
      "text/plain": [
       "<Figure size 432x288 with 1 Axes>"
      ]
     },
     "metadata": {
      "needs_background": "light"
     },
     "output_type": "display_data"
    }
   ],
   "source": [
    "plt.scatter(X,y)\n",
    "plt.scatter(X,y_pred)"
   ]
  },
  {
   "cell_type": "markdown",
   "id": "b0e2a468-d522-470b-88dd-2b3866fcc975",
   "metadata": {},
   "source": [
    "## 새로운 데이터에 대한 예측"
   ]
  },
  {
   "cell_type": "code",
   "execution_count": 30,
   "id": "b758e8bc-2e50-4a8f-9d53-d4d0bbcd9c13",
   "metadata": {},
   "outputs": [],
   "source": [
    "# 새로운 데이터\n",
    "x2=np.linspace(-3,3,50)"
   ]
  },
  {
   "cell_type": "code",
   "execution_count": 32,
   "id": "93e9483a-c98b-462a-9f33-bfe88a0f5f07",
   "metadata": {},
   "outputs": [],
   "source": [
    "y2_pred = reg.predict(np.linspace(-3,3,50).reshape(-1,1))"
   ]
  },
  {
   "cell_type": "code",
   "execution_count": 34,
   "id": "ed0c29a2-0937-4ab4-ac9f-8cebadeba4db",
   "metadata": {},
   "outputs": [
    {
     "data": {
      "text/plain": [
       "[<matplotlib.lines.Line2D at 0x7f8ef8bb8610>]"
      ]
     },
     "execution_count": 34,
     "metadata": {},
     "output_type": "execute_result"
    },
    {
     "data": {
      "image/png": "[encoded data removed]",
      "text/plain": [
       "<Figure size 432x288 with 1 Axes>"
      ]
     },
     "metadata": {
      "needs_background": "light"
     },
     "output_type": "display_data"
    }
   ],
   "source": [
    "plt.scatter(X,y)\n",
    "plt.plot(x2,y2_pred)"
   ]
  }
 ],
 "metadata": {
  "kernelspec": {
   "display_name": "Python 3 (ipykernel)",
   "language": "python",
   "name": "python3"
  },
  "language_info": {
   "codemirror_mode": {
    "name": "ipython",
    "version": 3
   },
   "file_extension": ".py",
   "mimetype": "text/x-python",
   "name": "python",
   "nbconvert_exporter": "python",
   "pygments_lexer": "ipython3",
   "version": "3.8.10"
  }
 },
 "nbformat": 4,
 "nbformat_minor": 5
}
